{
 "cells": [
  {
   "cell_type": "markdown",
   "metadata": {},
   "source": [
    "# Stream processing"
   ]
  },
  {
   "cell_type": "markdown",
   "metadata": {},
   "source": [
    "## 1. Message queue"
   ]
  },
  {
   "cell_type": "markdown",
   "metadata": {},
   "source": [
    "In this section we will introduce Apache Kafka ( https://kafka.apache.org/ ). Kafka is a distributed message broker were you can subscribe for a topic and receive a stream of messages. You will also see how to publish messages. Let's start with the initial setup.\n",
    "\n",
    "You will be using the pykafka library ( http://pykafka.readthedocs.io/en/latest/ ). It should be already installed on the ICCluster, but you may need to install it locally if you work on your own computer. "
   ]
  },
  {
   "cell_type": "code",
   "execution_count": 1,
   "metadata": {
    "collapsed": true
   },
   "outputs": [],
   "source": [
    "from pykafka import KafkaClient\n",
    "import getpass\n",
    "\n",
    "ZOOKEEPER_QUORUM = 'iccluster042.iccluster.epfl.ch:2181,iccluster054.iccluster.epfl.ch:2181,iccluster078.iccluster.epfl.ch:2181'\n",
    "\n",
    "username = getpass.getuser()\n",
    "\n",
    "client = KafkaClient(zookeeper_hosts=ZOOKEEPER_QUORUM)"
   ]
  },
  {
   "cell_type": "markdown",
   "metadata": {},
   "source": [
    "**1.a** Look at the pykafka documentation and list the topics currently available:"
   ]
  },
  {
   "cell_type": "code",
   "execution_count": 2,
   "metadata": {},
   "outputs": [
    {
     "data": {
      "text/plain": [
       "{b'0': <pykafka.topic.Topic at 0x7f89d56e9588 (name=b'0')>,\n",
       " b'ATLAS_ENTITIES': <pykafka.topic.Topic at 0x7f89e44a7ef0 (name=b'ATLAS_ENTITIES')>,\n",
       " b'ATLAS_HOOK': <pykafka.topic.Topic at 0x7f89d57214e0 (name=b'ATLAS_HOOK')>,\n",
       " b'NSS': <pykafka.topic.Topic at 0x7f89d57287f0 (name=b'NSS')>,\n",
       " b'ambari_kafka_service_check': <pykafka.topic.Topic at 0x7f89d407be10 (name=b'ambari_kafka_service_check')>,\n",
       " b'name': <pykafka.topic.Topic at 0x7f89d407b9b0 (name=b'name')>,\n",
       " b'ndovloketnl-arrivals': <pykafka.topic.Topic at 0x7f89d5728048 (name=b'ndovloketnl-arrivals')>,\n",
       " b'ndovloketnl-departures': <pykafka.topic.Topic at 0x7f89d4082f28 (name=b'ndovloketnl-departures')>,\n",
       " b'ndovloketnl-gps': <pykafka.topic.Topic at 0x7f89d570fdd8 (name=b'ndovloketnl-gps')>,\n",
       " b'test-ndovloketnl-arrivals': <pykafka.topic.Topic at 0x7f89d4082470 (name=b'test-ndovloketnl-arrivals')>,\n",
       " b'test-ndovloketnl-departures': <pykafka.topic.Topic at 0x7f89d407b0b8 (name=b'test-ndovloketnl-departures')>,\n",
       " b'test-ndovloketnl-gps': <pykafka.topic.Topic at 0x7f89d5728080 (name=b'test-ndovloketnl-gps')>,\n",
       " b'test-random-benhsain': <pykafka.topic.Topic at 0x7f89d4091be0 (name=b'test-random-benhsain')>,\n",
       " b'test-random-crusu': <pykafka.topic.Topic at 0x7f89e44a7ef0 (name=b'test-random-crusu')>,\n",
       " b'test-random-fu': <pykafka.topic.Topic at 0x7f89d4091390 (name=b'test-random-fu')>,\n",
       " b'test-random-ileimgru': <pykafka.topic.Topic at 0x7f89d4097828 (name=b'test-random-ileimgru')>,\n",
       " b'test-random-kappel': <pykafka.topic.Topic at 0x7f89e44a7ef0 (name=b'test-random-kappel')>,\n",
       " b'test-random-mocanu': <pykafka.topic.Topic at 0x7f89d4089d30 (name=b'test-random-mocanu')>,\n",
       " b'test-random-rychener': <pykafka.topic.Topic at 0x7f89d409f4e0 (name=b'test-random-rychener')>,\n",
       " b'test-random-sarni': <pykafka.topic.Topic at 0x7f89d40a6f28 (name=b'test-random-sarni')>,\n",
       " b'test-random2-ileimgru': <pykafka.topic.Topic at 0x7f89d40a6898 (name=b'test-random2-ileimgru')>,\n",
       " b'test-random2-kappel': <pykafka.topic.Topic at 0x7f89d409f470 (name=b'test-random2-kappel')>,\n",
       " b'test-random3-kappel': <pykafka.topic.Topic at 0x7f89d5721ef0 (name=b'test-random3-kappel')>,\n",
       " b'test-random4-kappel': <pykafka.topic.Topic at 0x7f89d40b0048 (name=b'test-random4-kappel')>,\n",
       " b'test-topic-benhsain': <pykafka.topic.Topic at 0x7f89d4037a58 (name=b'test-topic-benhsain')>,\n",
       " b'test-topic-crusu': <pykafka.topic.Topic at 0x7f89d4097b70 (name=b'test-topic-crusu')>,\n",
       " b'test-topic-crusu-2': <pykafka.topic.Topic at 0x7f89d409f6a0 (name=b'test-topic-crusu-2')>,\n",
       " b'test-topic-crusu-3': <pykafka.topic.Topic at 0x7f89d403eb70 (name=b'test-topic-crusu-3')>,\n",
       " b'test-topic-fu': <pykafka.topic.Topic at 0x7f89d57285c0 (name=b'test-topic-fu')>,\n",
       " b'test-topic-ileimgru': <pykafka.topic.Topic at 0x7f89d40b0080 (name=b'test-topic-ileimgru')>,\n",
       " b'test-topic-kappel': <pykafka.topic.Topic at 0x7f89d4045748 (name=b'test-topic-kappel')>,\n",
       " b'test-topic-mocanu': <pykafka.topic.Topic at 0x7f89d404df60 (name=b'test-topic-mocanu')>,\n",
       " b'test-topic-mocanu2': <pykafka.topic.Topic at 0x7f89d404d7b8 (name=b'test-topic-mocanu2')>,\n",
       " b'test-topic-opeter': <pykafka.topic.Topic at 0x7f89d40b0ba8 (name=b'test-topic-opeter')>,\n",
       " b'test-topic-rychener': <pykafka.topic.Topic at 0x7f89d404d470 (name=b'test-topic-rychener')>,\n",
       " b'test-topic-sarni': <pykafka.topic.Topic at 0x7f89d4055c18 (name=b'test-topic-sarni')>,\n",
       " b'test-topic-vold': <pykafka.topic.Topic at 0x7f89d405c908 (name=b'test-topic-vold')>,\n",
       " b'test-topic-yinzhang': <pykafka.topic.Topic at 0x7f89d404d128 (name=b'test-topic-yinzhang')>,\n",
       " b'wiki-edits': <pykafka.topic.Topic at 0x7f89d4045828 (name=b'wiki-edits')>}"
      ]
     },
     "execution_count": 2,
     "metadata": {},
     "output_type": "execute_result"
    }
   ],
   "source": [
    "#TODO: print the topics\n",
    "client.topics"
   ]
  },
  {
   "cell_type": "markdown",
   "metadata": {},
   "source": [
    "As you can see there are already some topics there and unfortunately no separation per user. So, be respectful with the work of your colleagues and with the infrastructure we put in place. More specifically, never write in a topic that you didn't create yourself or your teammate (if not expressly asked to). Be also carefull not to create infinite loops by publishing in the same topic you subscribed, without filtering or exit conditions.\n",
    "\n",
    "**1.b** That being said, let's create our own topic. Don't forget to make it unique with your username."
   ]
  },
  {
   "cell_type": "code",
   "execution_count": 3,
   "metadata": {
    "collapsed": true
   },
   "outputs": [],
   "source": [
    "name = ('test-topic-' + username).encode()\n",
    "tt = client.topics[name]"
   ]
  },
  {
   "cell_type": "markdown",
   "metadata": {},
   "source": [
    "Kafka is configured to autocreate topics if they don't exist a priori. You can check in the list of topics, it should be there now. \n",
    "\n",
    "**1.c** To write a message to the topic you need to instanciate a Producer. For simplicity and as we won't deal with very large (or very fast) data, you can use a synchronous publisher. Then, send a series of 10 different messages (for example \"Hello world {i}!\" with i from 1 to 10). You might need to encode the string to utf-8 before sending:"
   ]
  },
  {
   "cell_type": "code",
   "execution_count": 4,
   "metadata": {
    "collapsed": true
   },
   "outputs": [],
   "source": [
    "with tt.get_sync_producer() as producer:\n",
    "    for i in range(10):\n",
    "        producer.produce(\"Hello world {}!\".format(i).encode())"
   ]
  },
  {
   "cell_type": "markdown",
   "metadata": {},
   "source": [
    "**1.d** Now let's check what is in our topic and subscribe to it. Again, for simplicity reason, you can use the basic ```get_simple_consumer```. Notice that the reading loop never finishes, streams are infinite! You must interrupt it manually. You may want to catch the KeyboardInterrupt to avoid polluting the output with a stacktrace:"
   ]
  },
  {
   "cell_type": "code",
   "execution_count": 5,
   "metadata": {},
   "outputs": [
    {
     "name": "stdout",
     "output_type": "stream",
     "text": [
      "0 b'Hello world 0!'\n",
      "1 b'Hello world 1!'\n",
      "2 b'Hello world 2!'\n",
      "3 b'Hello world 3!'\n",
      "4 b'Hello world 4!'\n",
      "5 b'Hello world 5!'\n",
      "6 b'Hello world 6!'\n",
      "7 b'Hello world 7!'\n",
      "8 b'Hello world 8!'\n",
      "9 b'Hello world 9!'\n",
      "Consumer stopped.\n"
     ]
    }
   ],
   "source": [
    "consumer = tt.get_simple_consumer()\n",
    "try:\n",
    "    for message in consumer:\n",
    "        if message is not None:\n",
    "            print(message.offset, message.value)\n",
    "except KeyboardInterrupt:\n",
    "    print(\"Consumer stopped.\")\n",
    "    pass"
   ]
  },
  {
   "cell_type": "markdown",
   "metadata": {},
   "source": [
    "If you run the previous cell several times you will notice that it always restarts from the beginning by default. We have configured Kafka to persist the data for a quite long time. So be also careful not to leave data producers running uselessly.\n",
    "\n",
    "This is useful for testing and re-running the same pipeline several time. But in production setting, you may want to remember the last message seen and continue from that. Luckily, Kafka can do it for you if you define a consumer group and commit the current offset (see the documentation: http://pykafka.readthedocs.io/en/latest/usage.html#consumer-patterns ). You can either set the auto_commit_enable, or manually call the commit_offsets method.\n",
    "\n",
    "**1.e** Rewrite the above consummer loop to only show the newest elements every-time it is run. You can modify and re-run the producing loop to add some more messages."
   ]
  },
  {
   "cell_type": "code",
   "execution_count": 6,
   "metadata": {},
   "outputs": [
    {
     "name": "stdout",
     "output_type": "stream",
     "text": [
      "0 b'Hello world 0!'\n",
      "1 b'Hello world 1!'\n",
      "2 b'Hello world 2!'\n",
      "3 b'Hello world 3!'\n",
      "4 b'Hello world 4!'\n",
      "5 b'Hello world 5!'\n",
      "6 b'Hello world 6!'\n",
      "7 b'Hello world 7!'\n",
      "8 b'Hello world 8!'\n",
      "9 b'Hello world 9!'\n",
      "Consumer stopped.\n"
     ]
    }
   ],
   "source": [
    "# Alternate between this cell and producer cell [4], multiple times.\n",
    "# Repeat with other values of OffsetType, i.e. OffsetType.LATEST\n",
    "from pykafka.common import OffsetType\n",
    "\n",
    "# Create a consumer with its offset set to the oldest undread message \n",
    "consumer = tt.get_simple_consumer(consumer_group=('test-group-' + username).encode(), auto_offset_reset=OffsetType.EARLIEST, auto_commit_enable=True, reset_offset_on_start=False, auto_commit_interval_ms=2000)\n",
    "\n",
    "# Consume and print the messages.\n",
    "# You must run the \"Hello world\" to add some more messages each time you execute this code\n",
    "try:\n",
    "    for message in consumer:\n",
    "        if message is not None:\n",
    "            print(message.offset, message.value)\n",
    "except KeyboardInterrupt:\n",
    "    print(\"Consumer stopped.\")\n",
    "    pass"
   ]
  },
  {
   "cell_type": "markdown",
   "metadata": {
    "collapsed": true
   },
   "source": [
    "We will now generate a little bit more data and see how to make a live plot. We can use another topic, like `b\"test-random-<insert you username>\"`.\n",
    "\n",
    "**1.f** First write an infinite generator (or just a for loop) that outputs the 2D coordinates of a random walk (here you can simply take a random walk on a grid, by taking a random jump of length 1 in any of the 4 directions at each step). Don't forget to add a `time.sleep(1)` each time after you publish it to Kafka. Run the producer for a few seconds, then stop it."
   ]
  },
  {
   "cell_type": "code",
   "execution_count": 7,
   "metadata": {},
   "outputs": [
    {
     "name": "stdout",
     "output_type": "stream",
     "text": [
      "Producer stopped after 172 messages\n"
     ]
    }
   ],
   "source": [
    "tr = client.topics[('test-random-' + username).encode()]\n",
    "\n",
    "from random import choice\n",
    "import time\n",
    "\n",
    "def random_walk(start):\n",
    "    directions = [(0,1), (0, -1), (1, 0), (-1, 0)]\n",
    "    position = start\n",
    "    while True:\n",
    "        c = choice(directions)\n",
    "        yield position\n",
    "        position = (position[0] + c[0], position[1] + c[1])\n",
    "        \n",
    "\n",
    "with tr.get_sync_producer() as producer:\n",
    "    try:\n",
    "        n=0\n",
    "        for p in random_walk((0, 0)):\n",
    "            producer.produce(\"{},{}\".format(*p).encode())\n",
    "            n=n+1\n",
    "            time.sleep(0.1)\n",
    "    except KeyboardInterrupt:\n",
    "        print(\"Producer stopped after {0} messages\".format(n))\n",
    "        pass"
   ]
  },
  {
   "cell_type": "markdown",
   "metadata": {},
   "source": [
    "**1.g** Now we will use the library bokeh ( https://bokeh.pydata.org/en/latest/docs/user_guide.html ) for plotting. It allows for live update of the graph on the notebook, pushing data from the kernel. First you need to create a line plot with a ColumnDataSource initialized with empty lists for x and y. Then, in the consuming loop, you will parse the message and update the data of the source. Make sure your code would work for a long running job without eating all the memory ;-)"
   ]
  },
  {
   "cell_type": "code",
   "execution_count": 8,
   "metadata": {},
   "outputs": [
    {
     "data": {
      "text/html": [
       "\n",
       "    <div class=\"bk-root\">\n",
       "        <a href=\"https://bokeh.pydata.org\" target=\"_blank\" class=\"bk-logo bk-logo-small bk-logo-notebook\"></a>\n",
       "        <span id=\"63b6d7b7-f95f-487b-ad7b-f97d45d3e179\">Loading BokehJS ...</span>\n",
       "    </div>"
      ]
     },
     "metadata": {},
     "output_type": "display_data"
    },
    {
     "data": {
      "application/javascript": [
       "\n",
       "(function(root) {\n",
       "  function now() {\n",
       "    return new Date();\n",
       "  }\n",
       "\n",
       "  var force = true;\n",
       "\n",
       "  if (typeof (root._bokeh_onload_callbacks) === \"undefined\" || force === true) {\n",
       "    root._bokeh_onload_callbacks = [];\n",
       "    root._bokeh_is_loading = undefined;\n",
       "  }\n",
       "\n",
       "  var JS_MIME_TYPE = 'application/javascript';\n",
       "  var HTML_MIME_TYPE = 'text/html';\n",
       "  var EXEC_MIME_TYPE = 'application/vnd.bokehjs_exec.v0+json';\n",
       "  var CLASS_NAME = 'output_bokeh rendered_html';\n",
       "\n",
       "  /**\n",
       "   * Render data to the DOM node\n",
       "   */\n",
       "  function render(props, node) {\n",
       "    var script = document.createElement(\"script\");\n",
       "    node.appendChild(script);\n",
       "  }\n",
       "\n",
       "  /**\n",
       "   * Handle when an output is cleared or removed\n",
       "   */\n",
       "  function handleClearOutput(event, handle) {\n",
       "    var cell = handle.cell;\n",
       "\n",
       "    var id = cell.output_area._bokeh_element_id;\n",
       "    var server_id = cell.output_area._bokeh_server_id;\n",
       "    // Clean up Bokeh references\n",
       "    if (id !== undefined) {\n",
       "      Bokeh.index[id].model.document.clear();\n",
       "      delete Bokeh.index[id];\n",
       "    }\n",
       "\n",
       "    if (server_id !== undefined) {\n",
       "      // Clean up Bokeh references\n",
       "      var cmd = \"from bokeh.io.state import curstate; print(curstate().uuid_to_server['\" + server_id + \"'].get_sessions()[0].document.roots[0]._id)\";\n",
       "      cell.notebook.kernel.execute(cmd, {\n",
       "        iopub: {\n",
       "          output: function(msg) {\n",
       "            var element_id = msg.content.text.trim();\n",
       "            Bokeh.index[element_id].model.document.clear();\n",
       "            delete Bokeh.index[element_id];\n",
       "          }\n",
       "        }\n",
       "      });\n",
       "      // Destroy server and session\n",
       "      var cmd = \"import bokeh.io.notebook as ion; ion.destroy_server('\" + server_id + \"')\";\n",
       "      cell.notebook.kernel.execute(cmd);\n",
       "    }\n",
       "  }\n",
       "\n",
       "  /**\n",
       "   * Handle when a new output is added\n",
       "   */\n",
       "  function handleAddOutput(event, handle) {\n",
       "    var output_area = handle.output_area;\n",
       "    var output = handle.output;\n",
       "\n",
       "    // limit handleAddOutput to display_data with EXEC_MIME_TYPE content only\n",
       "    if ((output.output_type != \"display_data\") || (!output.data.hasOwnProperty(EXEC_MIME_TYPE))) {\n",
       "      return\n",
       "    }\n",
       "\n",
       "    var toinsert = output_area.element.find(`.${CLASS_NAME.split(' ')[0]}`);\n",
       "\n",
       "    if (output.metadata[EXEC_MIME_TYPE][\"id\"] !== undefined) {\n",
       "      toinsert[0].firstChild.textContent = output.data[JS_MIME_TYPE];\n",
       "      // store reference to embed id on output_area\n",
       "      output_area._bokeh_element_id = output.metadata[EXEC_MIME_TYPE][\"id\"];\n",
       "    }\n",
       "    if (output.metadata[EXEC_MIME_TYPE][\"server_id\"] !== undefined) {\n",
       "      var bk_div = document.createElement(\"div\");\n",
       "      bk_div.innerHTML = output.data[HTML_MIME_TYPE];\n",
       "      var script_attrs = bk_div.children[0].attributes;\n",
       "      for (var i = 0; i < script_attrs.length; i++) {\n",
       "        toinsert[0].firstChild.setAttribute(script_attrs[i].name, script_attrs[i].value);\n",
       "      }\n",
       "      // store reference to server id on output_area\n",
       "      output_area._bokeh_server_id = output.metadata[EXEC_MIME_TYPE][\"server_id\"];\n",
       "    }\n",
       "  }\n",
       "\n",
       "  function register_renderer(events, OutputArea) {\n",
       "\n",
       "    function append_mime(data, metadata, element) {\n",
       "      // create a DOM node to render to\n",
       "      var toinsert = this.create_output_subarea(\n",
       "        metadata,\n",
       "        CLASS_NAME,\n",
       "        EXEC_MIME_TYPE\n",
       "      );\n",
       "      this.keyboard_manager.register_events(toinsert);\n",
       "      // Render to node\n",
       "      var props = {data: data, metadata: metadata[EXEC_MIME_TYPE]};\n",
       "      render(props, toinsert[0]);\n",
       "      element.append(toinsert);\n",
       "      return toinsert\n",
       "    }\n",
       "\n",
       "    /* Handle when an output is cleared or removed */\n",
       "    events.on('clear_output.CodeCell', handleClearOutput);\n",
       "    events.on('delete.Cell', handleClearOutput);\n",
       "\n",
       "    /* Handle when a new output is added */\n",
       "    events.on('output_added.OutputArea', handleAddOutput);\n",
       "\n",
       "    /**\n",
       "     * Register the mime type and append_mime function with output_area\n",
       "     */\n",
       "    OutputArea.prototype.register_mime_type(EXEC_MIME_TYPE, append_mime, {\n",
       "      /* Is output safe? */\n",
       "      safe: true,\n",
       "      /* Index of renderer in `output_area.display_order` */\n",
       "      index: 0\n",
       "    });\n",
       "  }\n",
       "\n",
       "  // register the mime type if in Jupyter Notebook environment and previously unregistered\n",
       "  if (root.Jupyter !== undefined) {\n",
       "    var events = require('base/js/events');\n",
       "    var OutputArea = require('notebook/js/outputarea').OutputArea;\n",
       "\n",
       "    if (OutputArea.prototype.mime_types().indexOf(EXEC_MIME_TYPE) == -1) {\n",
       "      register_renderer(events, OutputArea);\n",
       "    }\n",
       "  }\n",
       "\n",
       "  \n",
       "  if (typeof (root._bokeh_timeout) === \"undefined\" || force === true) {\n",
       "    root._bokeh_timeout = Date.now() + 5000;\n",
       "    root._bokeh_failed_load = false;\n",
       "  }\n",
       "\n",
       "  var NB_LOAD_WARNING = {'data': {'text/html':\n",
       "     \"<div style='background-color: #fdd'>\\n\"+\n",
       "     \"<p>\\n\"+\n",
       "     \"BokehJS does not appear to have successfully loaded. If loading BokehJS from CDN, this \\n\"+\n",
       "     \"may be due to a slow or bad network connection. Possible fixes:\\n\"+\n",
       "     \"</p>\\n\"+\n",
       "     \"<ul>\\n\"+\n",
       "     \"<li>re-rerun `output_notebook()` to attempt to load from CDN again, or</li>\\n\"+\n",
       "     \"<li>use INLINE resources instead, as so:</li>\\n\"+\n",
       "     \"</ul>\\n\"+\n",
       "     \"<code>\\n\"+\n",
       "     \"from bokeh.resources import INLINE\\n\"+\n",
       "     \"output_notebook(resources=INLINE)\\n\"+\n",
       "     \"</code>\\n\"+\n",
       "     \"</div>\"}};\n",
       "\n",
       "  function display_loaded() {\n",
       "    var el = document.getElementById(\"63b6d7b7-f95f-487b-ad7b-f97d45d3e179\");\n",
       "    if (el != null) {\n",
       "      el.textContent = \"BokehJS is loading...\";\n",
       "    }\n",
       "    if (root.Bokeh !== undefined) {\n",
       "      if (el != null) {\n",
       "        el.textContent = \"BokehJS \" + root.Bokeh.version + \" successfully loaded.\";\n",
       "      }\n",
       "    } else if (Date.now() < root._bokeh_timeout) {\n",
       "      setTimeout(display_loaded, 100)\n",
       "    }\n",
       "  }\n",
       "\n",
       "\n",
       "  function run_callbacks() {\n",
       "    try {\n",
       "      root._bokeh_onload_callbacks.forEach(function(callback) { callback() });\n",
       "    }\n",
       "    finally {\n",
       "      delete root._bokeh_onload_callbacks\n",
       "    }\n",
       "    console.info(\"Bokeh: all callbacks have finished\");\n",
       "  }\n",
       "\n",
       "  function load_libs(js_urls, callback) {\n",
       "    root._bokeh_onload_callbacks.push(callback);\n",
       "    if (root._bokeh_is_loading > 0) {\n",
       "      console.log(\"Bokeh: BokehJS is being loaded, scheduling callback at\", now());\n",
       "      return null;\n",
       "    }\n",
       "    if (js_urls == null || js_urls.length === 0) {\n",
       "      run_callbacks();\n",
       "      return null;\n",
       "    }\n",
       "    console.log(\"Bokeh: BokehJS not loaded, scheduling load and callback at\", now());\n",
       "    root._bokeh_is_loading = js_urls.length;\n",
       "    for (var i = 0; i < js_urls.length; i++) {\n",
       "      var url = js_urls[i];\n",
       "      var s = document.createElement('script');\n",
       "      s.src = url;\n",
       "      s.async = false;\n",
       "      s.onreadystatechange = s.onload = function() {\n",
       "        root._bokeh_is_loading--;\n",
       "        if (root._bokeh_is_loading === 0) {\n",
       "          console.log(\"Bokeh: all BokehJS libraries loaded\");\n",
       "          run_callbacks()\n",
       "        }\n",
       "      };\n",
       "      s.onerror = function() {\n",
       "        console.warn(\"failed to load library \" + url);\n",
       "      };\n",
       "      console.log(\"Bokeh: injecting script tag for BokehJS library: \", url);\n",
       "      document.getElementsByTagName(\"head\")[0].appendChild(s);\n",
       "    }\n",
       "  };var element = document.getElementById(\"63b6d7b7-f95f-487b-ad7b-f97d45d3e179\");\n",
       "  if (element == null) {\n",
       "    console.log(\"Bokeh: ERROR: autoload.js configured with elementid '63b6d7b7-f95f-487b-ad7b-f97d45d3e179' but no matching script tag was found. \")\n",
       "    return false;\n",
       "  }\n",
       "\n",
       "  var js_urls = [\"https://cdn.pydata.org/bokeh/release/bokeh-0.12.10.min.js\", \"https://cdn.pydata.org/bokeh/release/bokeh-widgets-0.12.10.min.js\", \"https://cdn.pydata.org/bokeh/release/bokeh-tables-0.12.10.min.js\", \"https://cdn.pydata.org/bokeh/release/bokeh-gl-0.12.10.min.js\"];\n",
       "\n",
       "  var inline_js = [\n",
       "    function(Bokeh) {\n",
       "      Bokeh.set_log_level(\"info\");\n",
       "    },\n",
       "    \n",
       "    function(Bokeh) {\n",
       "      \n",
       "    },\n",
       "    function(Bokeh) {\n",
       "      console.log(\"Bokeh: injecting CSS: https://cdn.pydata.org/bokeh/release/bokeh-0.12.10.min.css\");\n",
       "      Bokeh.embed.inject_css(\"https://cdn.pydata.org/bokeh/release/bokeh-0.12.10.min.css\");\n",
       "      console.log(\"Bokeh: injecting CSS: https://cdn.pydata.org/bokeh/release/bokeh-widgets-0.12.10.min.css\");\n",
       "      Bokeh.embed.inject_css(\"https://cdn.pydata.org/bokeh/release/bokeh-widgets-0.12.10.min.css\");\n",
       "      console.log(\"Bokeh: injecting CSS: https://cdn.pydata.org/bokeh/release/bokeh-tables-0.12.10.min.css\");\n",
       "      Bokeh.embed.inject_css(\"https://cdn.pydata.org/bokeh/release/bokeh-tables-0.12.10.min.css\");\n",
       "    }\n",
       "  ];\n",
       "\n",
       "  function run_inline_js() {\n",
       "    \n",
       "    if ((root.Bokeh !== undefined) || (force === true)) {\n",
       "      for (var i = 0; i < inline_js.length; i++) {\n",
       "        inline_js[i].call(root, root.Bokeh);\n",
       "      }if (force === true) {\n",
       "        display_loaded();\n",
       "      }} else if (Date.now() < root._bokeh_timeout) {\n",
       "      setTimeout(run_inline_js, 100);\n",
       "    } else if (!root._bokeh_failed_load) {\n",
       "      console.log(\"Bokeh: BokehJS failed to load within specified timeout.\");\n",
       "      root._bokeh_failed_load = true;\n",
       "    } else if (force !== true) {\n",
       "      var cell = $(document.getElementById(\"63b6d7b7-f95f-487b-ad7b-f97d45d3e179\")).parents('.cell').data().cell;\n",
       "      cell.output_area.append_execute_result(NB_LOAD_WARNING)\n",
       "    }\n",
       "\n",
       "  }\n",
       "\n",
       "  if (root._bokeh_is_loading === 0) {\n",
       "    console.log(\"Bokeh: BokehJS loaded, going straight to plotting\");\n",
       "    run_inline_js();\n",
       "  } else {\n",
       "    load_libs(js_urls, function() {\n",
       "      console.log(\"Bokeh: BokehJS plotting callback run at\", now());\n",
       "      run_inline_js();\n",
       "    });\n",
       "  }\n",
       "}(window));"
      ],
      "application/vnd.bokehjs_load.v0+json": "\n(function(root) {\n  function now() {\n    return new Date();\n  }\n\n  var force = true;\n\n  if (typeof (root._bokeh_onload_callbacks) === \"undefined\" || force === true) {\n    root._bokeh_onload_callbacks = [];\n    root._bokeh_is_loading = undefined;\n  }\n\n  \n\n  \n  if (typeof (root._bokeh_timeout) === \"undefined\" || force === true) {\n    root._bokeh_timeout = Date.now() + 5000;\n    root._bokeh_failed_load = false;\n  }\n\n  var NB_LOAD_WARNING = {'data': {'text/html':\n     \"<div style='background-color: #fdd'>\\n\"+\n     \"<p>\\n\"+\n     \"BokehJS does not appear to have successfully loaded. If loading BokehJS from CDN, this \\n\"+\n     \"may be due to a slow or bad network connection. Possible fixes:\\n\"+\n     \"</p>\\n\"+\n     \"<ul>\\n\"+\n     \"<li>re-rerun `output_notebook()` to attempt to load from CDN again, or</li>\\n\"+\n     \"<li>use INLINE resources instead, as so:</li>\\n\"+\n     \"</ul>\\n\"+\n     \"<code>\\n\"+\n     \"from bokeh.resources import INLINE\\n\"+\n     \"output_notebook(resources=INLINE)\\n\"+\n     \"</code>\\n\"+\n     \"</div>\"}};\n\n  function display_loaded() {\n    var el = document.getElementById(\"63b6d7b7-f95f-487b-ad7b-f97d45d3e179\");\n    if (el != null) {\n      el.textContent = \"BokehJS is loading...\";\n    }\n    if (root.Bokeh !== undefined) {\n      if (el != null) {\n        el.textContent = \"BokehJS \" + root.Bokeh.version + \" successfully loaded.\";\n      }\n    } else if (Date.now() < root._bokeh_timeout) {\n      setTimeout(display_loaded, 100)\n    }\n  }\n\n\n  function run_callbacks() {\n    try {\n      root._bokeh_onload_callbacks.forEach(function(callback) { callback() });\n    }\n    finally {\n      delete root._bokeh_onload_callbacks\n    }\n    console.info(\"Bokeh: all callbacks have finished\");\n  }\n\n  function load_libs(js_urls, callback) {\n    root._bokeh_onload_callbacks.push(callback);\n    if (root._bokeh_is_loading > 0) {\n      console.log(\"Bokeh: BokehJS is being loaded, scheduling callback at\", now());\n      return null;\n    }\n    if (js_urls == null || js_urls.length === 0) {\n      run_callbacks();\n      return null;\n    }\n    console.log(\"Bokeh: BokehJS not loaded, scheduling load and callback at\", now());\n    root._bokeh_is_loading = js_urls.length;\n    for (var i = 0; i < js_urls.length; i++) {\n      var url = js_urls[i];\n      var s = document.createElement('script');\n      s.src = url;\n      s.async = false;\n      s.onreadystatechange = s.onload = function() {\n        root._bokeh_is_loading--;\n        if (root._bokeh_is_loading === 0) {\n          console.log(\"Bokeh: all BokehJS libraries loaded\");\n          run_callbacks()\n        }\n      };\n      s.onerror = function() {\n        console.warn(\"failed to load library \" + url);\n      };\n      console.log(\"Bokeh: injecting script tag for BokehJS library: \", url);\n      document.getElementsByTagName(\"head\")[0].appendChild(s);\n    }\n  };var element = document.getElementById(\"63b6d7b7-f95f-487b-ad7b-f97d45d3e179\");\n  if (element == null) {\n    console.log(\"Bokeh: ERROR: autoload.js configured with elementid '63b6d7b7-f95f-487b-ad7b-f97d45d3e179' but no matching script tag was found. \")\n    return false;\n  }\n\n  var js_urls = [\"https://cdn.pydata.org/bokeh/release/bokeh-0.12.10.min.js\", \"https://cdn.pydata.org/bokeh/release/bokeh-widgets-0.12.10.min.js\", \"https://cdn.pydata.org/bokeh/release/bokeh-tables-0.12.10.min.js\", \"https://cdn.pydata.org/bokeh/release/bokeh-gl-0.12.10.min.js\"];\n\n  var inline_js = [\n    function(Bokeh) {\n      Bokeh.set_log_level(\"info\");\n    },\n    \n    function(Bokeh) {\n      \n    },\n    function(Bokeh) {\n      console.log(\"Bokeh: injecting CSS: https://cdn.pydata.org/bokeh/release/bokeh-0.12.10.min.css\");\n      Bokeh.embed.inject_css(\"https://cdn.pydata.org/bokeh/release/bokeh-0.12.10.min.css\");\n      console.log(\"Bokeh: injecting CSS: https://cdn.pydata.org/bokeh/release/bokeh-widgets-0.12.10.min.css\");\n      Bokeh.embed.inject_css(\"https://cdn.pydata.org/bokeh/release/bokeh-widgets-0.12.10.min.css\");\n      console.log(\"Bokeh: injecting CSS: https://cdn.pydata.org/bokeh/release/bokeh-tables-0.12.10.min.css\");\n      Bokeh.embed.inject_css(\"https://cdn.pydata.org/bokeh/release/bokeh-tables-0.12.10.min.css\");\n    }\n  ];\n\n  function run_inline_js() {\n    \n    if ((root.Bokeh !== undefined) || (force === true)) {\n      for (var i = 0; i < inline_js.length; i++) {\n        inline_js[i].call(root, root.Bokeh);\n      }if (force === true) {\n        display_loaded();\n      }} else if (Date.now() < root._bokeh_timeout) {\n      setTimeout(run_inline_js, 100);\n    } else if (!root._bokeh_failed_load) {\n      console.log(\"Bokeh: BokehJS failed to load within specified timeout.\");\n      root._bokeh_failed_load = true;\n    } else if (force !== true) {\n      var cell = $(document.getElementById(\"63b6d7b7-f95f-487b-ad7b-f97d45d3e179\")).parents('.cell').data().cell;\n      cell.output_area.append_execute_result(NB_LOAD_WARNING)\n    }\n\n  }\n\n  if (root._bokeh_is_loading === 0) {\n    console.log(\"Bokeh: BokehJS loaded, going straight to plotting\");\n    run_inline_js();\n  } else {\n    load_libs(js_urls, function() {\n      console.log(\"Bokeh: BokehJS plotting callback run at\", now());\n      run_inline_js();\n    });\n  }\n}(window));"
     },
     "metadata": {},
     "output_type": "display_data"
    },
    {
     "data": {
      "text/html": [
       "\n",
       "<div class=\"bk-root\">\n",
       "    <div class=\"bk-plotdiv\" id=\"f558549f-0d8d-4f95-aee6-10fa6eb52403\"></div>\n",
       "</div>"
      ]
     },
     "metadata": {},
     "output_type": "display_data"
    },
    {
     "data": {
      "application/javascript": [
       "(function(root) {\n",
       "  function embed_document(root) {\n",
       "    var docs_json = {\"735bcebe-9932-4eef-a75a-ddd6863fa0b6\":{\"roots\":{\"references\":[{\"attributes\":{\"formatter\":{\"id\":\"6c7ad2d5-4f79-46ee-a874-5d5e1766e76c\",\"type\":\"BasicTickFormatter\"},\"plot\":{\"id\":\"aacf9496-ce8a-456f-9486-b75a6151d21f\",\"subtype\":\"Figure\",\"type\":\"Plot\"},\"ticker\":{\"id\":\"09856880-1246-4a60-b43f-9a00c774ee21\",\"type\":\"BasicTicker\"}},\"id\":\"c284fc79-2586-47bf-9520-d8a022c1858e\",\"type\":\"LinearAxis\"},{\"attributes\":{\"callback\":null,\"end\":50,\"start\":-50},\"id\":\"f217f366-9dcc-418f-a85a-930ad87b056b\",\"type\":\"Range1d\"},{\"attributes\":{},\"id\":\"09856880-1246-4a60-b43f-9a00c774ee21\",\"type\":\"BasicTicker\"},{\"attributes\":{\"below\":[{\"id\":\"c284fc79-2586-47bf-9520-d8a022c1858e\",\"type\":\"LinearAxis\"}],\"left\":[{\"id\":\"ddc9efeb-41ca-4482-9df3-a275d05720ea\",\"type\":\"LinearAxis\"}],\"plot_height\":450,\"plot_width\":850,\"renderers\":[{\"id\":\"c284fc79-2586-47bf-9520-d8a022c1858e\",\"type\":\"LinearAxis\"},{\"id\":\"67fe765b-dd6f-471a-b072-37df3fbf2a68\",\"type\":\"Grid\"},{\"id\":\"ddc9efeb-41ca-4482-9df3-a275d05720ea\",\"type\":\"LinearAxis\"},{\"id\":\"d674052a-6e96-4d8c-b7f9-666bde9ee3ea\",\"type\":\"Grid\"},{\"id\":\"0d1adcb3-858e-4000-a724-2efbf7a732a6\",\"type\":\"BoxAnnotation\"},{\"id\":\"1a9c2502-ecb8-402d-8968-f75147250f17\",\"type\":\"GlyphRenderer\"}],\"title\":{\"id\":\"73de7461-e5a7-47cf-b6bd-9fd51f31146d\",\"type\":\"Title\"},\"toolbar\":{\"id\":\"65667dcb-7360-45b1-bf83-07e30b7a656b\",\"type\":\"Toolbar\"},\"x_range\":{\"id\":\"f217f366-9dcc-418f-a85a-930ad87b056b\",\"type\":\"Range1d\"},\"x_scale\":{\"id\":\"382e07cd-03c9-4e3c-870f-7079bcdfeed0\",\"type\":\"LinearScale\"},\"y_range\":{\"id\":\"fb65d47a-3136-41c6-8616-3d13cc91c1de\",\"type\":\"Range1d\"},\"y_scale\":{\"id\":\"fcbecdac-fdaa-4596-9c33-20651c95fee1\",\"type\":\"LinearScale\"}},\"id\":\"aacf9496-ce8a-456f-9486-b75a6151d21f\",\"subtype\":\"Figure\",\"type\":\"Plot\"},{\"attributes\":{\"plot\":{\"id\":\"aacf9496-ce8a-456f-9486-b75a6151d21f\",\"subtype\":\"Figure\",\"type\":\"Plot\"},\"ticker\":{\"id\":\"09856880-1246-4a60-b43f-9a00c774ee21\",\"type\":\"BasicTicker\"}},\"id\":\"67fe765b-dd6f-471a-b072-37df3fbf2a68\",\"type\":\"Grid\"},{\"attributes\":{\"line_alpha\":{\"value\":0.1},\"line_color\":{\"value\":\"#1f77b4\"},\"x\":{\"field\":\"x\"},\"y\":{\"field\":\"y\"}},\"id\":\"f2a68658-b02b-41fd-a75c-61ca3cbd7479\",\"type\":\"Line\"},{\"attributes\":{\"formatter\":{\"id\":\"ae8d860c-cf0c-47b6-9c58-822e6c3a4b2c\",\"type\":\"BasicTickFormatter\"},\"plot\":{\"id\":\"aacf9496-ce8a-456f-9486-b75a6151d21f\",\"subtype\":\"Figure\",\"type\":\"Plot\"},\"ticker\":{\"id\":\"7a2be589-e68c-4dbc-a2a9-11bf200f041e\",\"type\":\"BasicTicker\"}},\"id\":\"ddc9efeb-41ca-4482-9df3-a275d05720ea\",\"type\":\"LinearAxis\"},{\"attributes\":{},\"id\":\"ae8d860c-cf0c-47b6-9c58-822e6c3a4b2c\",\"type\":\"BasicTickFormatter\"},{\"attributes\":{},\"id\":\"7a2be589-e68c-4dbc-a2a9-11bf200f041e\",\"type\":\"BasicTicker\"},{\"attributes\":{\"callback\":null,\"end\":50,\"start\":-50},\"id\":\"fb65d47a-3136-41c6-8616-3d13cc91c1de\",\"type\":\"Range1d\"},{\"attributes\":{\"dimension\":1,\"plot\":{\"id\":\"aacf9496-ce8a-456f-9486-b75a6151d21f\",\"subtype\":\"Figure\",\"type\":\"Plot\"},\"ticker\":{\"id\":\"7a2be589-e68c-4dbc-a2a9-11bf200f041e\",\"type\":\"BasicTicker\"}},\"id\":\"d674052a-6e96-4d8c-b7f9-666bde9ee3ea\",\"type\":\"Grid\"},{\"attributes\":{\"bottom_units\":\"screen\",\"fill_alpha\":{\"value\":0.5},\"fill_color\":{\"value\":\"lightgrey\"},\"left_units\":\"screen\",\"level\":\"overlay\",\"line_alpha\":{\"value\":1.0},\"line_color\":{\"value\":\"black\"},\"line_dash\":[4,4],\"line_width\":{\"value\":2},\"plot\":null,\"render_mode\":\"css\",\"right_units\":\"screen\",\"top_units\":\"screen\"},\"id\":\"0d1adcb3-858e-4000-a724-2efbf7a732a6\",\"type\":\"BoxAnnotation\"},{\"attributes\":{\"active_drag\":\"auto\",\"active_inspect\":\"auto\",\"active_scroll\":\"auto\",\"active_tap\":\"auto\",\"tools\":[{\"id\":\"6acd9260-9718-4267-98e8-740eedea684a\",\"type\":\"PanTool\"},{\"id\":\"9fd1685a-5ce2-4422-a77f-645a9b7f274c\",\"type\":\"WheelZoomTool\"},{\"id\":\"439f9a3e-59ab-48b2-81d1-db4a3dd0a284\",\"type\":\"BoxZoomTool\"},{\"id\":\"4f4e5ba6-03ca-4e93-ba2b-e75566510a87\",\"type\":\"SaveTool\"},{\"id\":\"9e6e0ead-4d10-4307-b37e-a64552663df7\",\"type\":\"ResetTool\"},{\"id\":\"6e54c1b8-1c3f-4af0-9387-898128b7073f\",\"type\":\"HelpTool\"}]},\"id\":\"65667dcb-7360-45b1-bf83-07e30b7a656b\",\"type\":\"Toolbar\"},{\"attributes\":{},\"id\":\"382e07cd-03c9-4e3c-870f-7079bcdfeed0\",\"type\":\"LinearScale\"},{\"attributes\":{},\"id\":\"fcbecdac-fdaa-4596-9c33-20651c95fee1\",\"type\":\"LinearScale\"},{\"attributes\":{},\"id\":\"6acd9260-9718-4267-98e8-740eedea684a\",\"type\":\"PanTool\"},{\"attributes\":{\"line_color\":{\"value\":\"#1f77b4\"},\"x\":{\"field\":\"x\"},\"y\":{\"field\":\"y\"}},\"id\":\"299e692a-018e-49fb-ae9a-9c8da2f5136c\",\"type\":\"Line\"},{\"attributes\":{\"data_source\":{\"id\":\"47080f81-effc-4739-849e-8589455f6bbb\",\"type\":\"ColumnDataSource\"},\"glyph\":{\"id\":\"299e692a-018e-49fb-ae9a-9c8da2f5136c\",\"type\":\"Line\"},\"hover_glyph\":null,\"muted_glyph\":null,\"nonselection_glyph\":{\"id\":\"f2a68658-b02b-41fd-a75c-61ca3cbd7479\",\"type\":\"Line\"},\"selection_glyph\":null,\"view\":{\"id\":\"37b18b5b-ea57-418b-8d44-19686870b824\",\"type\":\"CDSView\"}},\"id\":\"1a9c2502-ecb8-402d-8968-f75147250f17\",\"type\":\"GlyphRenderer\"},{\"attributes\":{},\"id\":\"9fd1685a-5ce2-4422-a77f-645a9b7f274c\",\"type\":\"WheelZoomTool\"},{\"attributes\":{\"source\":{\"id\":\"47080f81-effc-4739-849e-8589455f6bbb\",\"type\":\"ColumnDataSource\"}},\"id\":\"37b18b5b-ea57-418b-8d44-19686870b824\",\"type\":\"CDSView\"},{\"attributes\":{\"overlay\":{\"id\":\"0d1adcb3-858e-4000-a724-2efbf7a732a6\",\"type\":\"BoxAnnotation\"}},\"id\":\"439f9a3e-59ab-48b2-81d1-db4a3dd0a284\",\"type\":\"BoxZoomTool\"},{\"attributes\":{},\"id\":\"4f4e5ba6-03ca-4e93-ba2b-e75566510a87\",\"type\":\"SaveTool\"},{\"attributes\":{},\"id\":\"6c7ad2d5-4f79-46ee-a874-5d5e1766e76c\",\"type\":\"BasicTickFormatter\"},{\"attributes\":{\"plot\":null,\"text\":\"\"},\"id\":\"73de7461-e5a7-47cf-b6bd-9fd51f31146d\",\"type\":\"Title\"},{\"attributes\":{},\"id\":\"9e6e0ead-4d10-4307-b37e-a64552663df7\",\"type\":\"ResetTool\"},{\"attributes\":{},\"id\":\"6e54c1b8-1c3f-4af0-9387-898128b7073f\",\"type\":\"HelpTool\"},{\"attributes\":{\"callback\":null,\"column_names\":[\"x\",\"y\"],\"data\":{\"x\":[],\"y\":[]}},\"id\":\"47080f81-effc-4739-849e-8589455f6bbb\",\"type\":\"ColumnDataSource\"}],\"root_ids\":[\"aacf9496-ce8a-456f-9486-b75a6151d21f\"]},\"title\":\"Bokeh Application\",\"version\":\"0.12.10\"}};\n",
       "    var render_items = [{\"docid\":\"735bcebe-9932-4eef-a75a-ddd6863fa0b6\",\"elementid\":\"f558549f-0d8d-4f95-aee6-10fa6eb52403\",\"modelid\":\"aacf9496-ce8a-456f-9486-b75a6151d21f\",\"notebook_comms_target\":\"137ac149-0054-4a71-867d-ac114bd10ca4\"}];\n",
       "\n",
       "    root.Bokeh.embed.embed_items(docs_json, render_items);\n",
       "  }\n",
       "\n",
       "  if (root.Bokeh !== undefined) {\n",
       "    embed_document(root);\n",
       "  } else {\n",
       "    var attempts = 0;\n",
       "    var timer = setInterval(function(root) {\n",
       "      if (root.Bokeh !== undefined) {\n",
       "        embed_document(root);\n",
       "        clearInterval(timer);\n",
       "      }\n",
       "      attempts++;\n",
       "      if (attempts > 100) {\n",
       "        console.log(\"Bokeh: ERROR: Unable to embed document because BokehJS library is missing\")\n",
       "        clearInterval(timer);\n",
       "      }\n",
       "    }, 10, root)\n",
       "  }\n",
       "})(window);"
      ],
      "application/vnd.bokehjs_exec.v0+json": ""
     },
     "metadata": {
      "application/vnd.bokehjs_exec.v0+json": {
       "id": "aacf9496-ce8a-456f-9486-b75a6151d21f"
      }
     },
     "output_type": "display_data"
    },
    {
     "name": "stdout",
     "output_type": "stream",
     "text": [
      "Consumer stopped.\n"
     ]
    }
   ],
   "source": [
    "from bokeh.io import push_notebook, show, output_notebook\n",
    "from bokeh.plotting import figure\n",
    "from bokeh.models import ColumnDataSource, Range1d\n",
    "import time\n",
    "\n",
    "output_notebook()\n",
    "\n",
    "x=[]\n",
    "y=[]\n",
    "source = ColumnDataSource(data=dict(x=x, y=y))\n",
    "\n",
    "p = figure(plot_width=850,plot_height=450)\n",
    "p.line('x', 'y', source=source)\n",
    "\n",
    "p.x_range = Range1d(-50, 50)\n",
    "p.y_range = Range1d(-50, 50)\n",
    "\n",
    "handle=show(p, notebook_handle=True)\n",
    "\n",
    "consumer = client.topics[('test-random-' + username).encode()].get_simple_consumer(consumer_group=('test-group-' + username).encode(), auto_offset_reset=OffsetType.EARLIEST, auto_commit_enable=True, reset_offset_on_start=False, auto_commit_interval_ms=2000)\n",
    "\n",
    "try:\n",
    "    for message in consumer:\n",
    "        if message is not None:\n",
    "            \n",
    "            xx, yy = message.value.decode().split(\",\")\n",
    "            x.append(xx)\n",
    "            y.append(yy)\n",
    "            # keep the length constant\n",
    "            if len(x) > 20:\n",
    "                x.pop(0)\n",
    "                y.pop(0)\n",
    "            \n",
    "            source.data = dict(x=x, y=y)\n",
    "            push_notebook(handle=handle)\n",
    "            time.sleep(0.1)\n",
    "except KeyboardInterrupt:\n",
    "    print(\"Consumer stopped.\")\n",
    "    pass"
   ]
  },
  {
   "cell_type": "markdown",
   "metadata": {},
   "source": [
    "Note that in a notebook you can only run one cell at the time. You thus must stop the producer before you can run the consumer. If you want to play with the producer and the consumer at the same time, feel free to copy one of them to another notebook or in a python script to be able to run both of them simultaneously. Do not forget to include the cells needed initialize the kafka client as well. If you are working with a teammate (e.g. one is producer and the other is the consumer), make sure that you agree on using the same topic name."
   ]
  },
  {
   "cell_type": "markdown",
   "metadata": {},
   "source": [
    "## 2. Spark streaming"
   ]
  },
  {
   "cell_type": "markdown",
   "metadata": {},
   "source": [
    "In the last module, you have experimented with Spark, processing batches of data in RDDs and dataframes. Spark also supports \"streaming\", namely it defines a stream as a sequence of mini-batches. You can find a pretty detailed introduction here: https://spark.apache.org/docs/2.3.2/streaming-programming-guide.html. Pay particular attention to the section [_points to remember_](https://spark.apache.org/docs/2.3.2/streaming-programming-guide.html#points-to-remember)."
   ]
  },
  {
   "cell_type": "code",
   "execution_count": 9,
   "metadata": {},
   "outputs": [
    {
     "data": {
      "text/html": [
       "\n",
       "        <div>\n",
       "            <p><b>SparkContext</b></p>\n",
       "\n",
       "            <p><a href=\"http://iccluster042.iccluster.epfl.ch:4049\">Spark UI</a></p>\n",
       "\n",
       "            <dl>\n",
       "              <dt>Version</dt>\n",
       "                <dd><code>v2.3.2.3.1.0.0-78</code></dd>\n",
       "              <dt>Master</dt>\n",
       "                <dd><code>yarn</code></dd>\n",
       "              <dt>AppName</dt>\n",
       "                <dd><code>streaming-ebouille</code></dd>\n",
       "            </dl>\n",
       "        </div>\n",
       "        "
      ],
      "text/plain": [
       "<SparkContext master=yarn appName=streaming-ebouille>"
      ]
     },
     "execution_count": 9,
     "metadata": {},
     "output_type": "execute_result"
    }
   ],
   "source": [
    "import pyspark\n",
    "from pyspark.sql import SparkSession\n",
    "import os\n",
    "\n",
    "os.environ['PYSPARK_PYTHON'] = '/opt/anaconda3/bin/python'\n",
    "\n",
    "conf = pyspark.conf.SparkConf()\n",
    "conf.setMaster('yarn')\n",
    "conf.setAppName('streaming-{0}'.format(username))\n",
    "conf.set('spark.executor.memory', '1g')\n",
    "conf.set('spark.executor.instances', '1')\n",
    "conf.set('spark.executor.cores', '2') # must be greater than the number of sources\n",
    "conf.set('spark.port.maxRetries', '100')\n",
    "#conf.set('spark.jars.packages', 'org.apache.spark:spark-streaming-kafka-0-10_2.11:2.3.2')\n",
    "conf.set('spark.jars.packages', 'org.apache.spark:spark-streaming-kafka-0-8_2.11:2.3.2')\n",
    "sc = pyspark.SparkContext.getOrCreate(conf)\n",
    "conf = sc.getConf()\n",
    "sc"
   ]
  },
  {
   "cell_type": "code",
   "execution_count": 10,
   "metadata": {},
   "outputs": [],
   "source": [
    "from pyspark import SparkContext\n",
    "from pyspark.streaming import StreamingContext\n",
    "\n",
    "# Create a StreamingContext with two working thread and batch interval of 2 second.\n",
    "# Each time you stop a StreamingContext, you will need to recreate it here.\n",
    "ssc = StreamingContext(sc, 2)\n",
    "ssc.checkpoint('hdfs:///homes/{}/checkpoint/'.format(username))"
   ]
  },
  {
   "cell_type": "markdown",
   "metadata": {},
   "source": [
    "You can open the Spark UI, following the link in the output above and you should notice a new tab (only when a stream is running), showing the processing of each mini-batch."
   ]
  },
  {
   "cell_type": "markdown",
   "metadata": {},
   "source": [
    "### 2.1 From a RDD queue"
   ]
  },
  {
   "cell_type": "markdown",
   "metadata": {},
   "source": [
    "We will start with a very simple stream, out of a list of RDDs generated manually. Here is an example of RDDs with a quite simple counter. \n",
    "\n",
    "```\n",
    "rdds = []\n",
    "for i in range(20):\n",
    "    rdds.append(sc.range(i * 100, (i + 1) * 100))\n",
    "\n",
    "```\n",
    "\n",
    "**2.1.a** In the same vein, generate a list of RDDs with random numbers with a uniform distribution. (hint: have a look at the [spark MLlib package](https://spark.apache.org/docs/2.3.2/api/python/pyspark.mllib.html))"
   ]
  },
  {
   "cell_type": "code",
   "execution_count": 11,
   "metadata": {},
   "outputs": [],
   "source": [
    "from pyspark.mllib.random import RandomRDDs\n",
    "rdds = []\n",
    "\n",
    "# TODO: create the RDD of random values in range [0,1)\n",
    "for i in range(20):\n",
    "    rdds.append(RandomRDDs.uniformRDD(sc, 1))"
   ]
  },
  {
   "cell_type": "markdown",
   "metadata": {},
   "source": [
    "Now let's create the stream and print it from the stream processor. The python API for spark streaming has only a few options to get your results back. `pprint`is the most convenient for debugging and testing, `saveAsTextFiles` can be used for persisting the output and the most generic one is `foreachRDD` which can execute any function. ( https://spark.apache.org/docs/latest/streaming-programming-guide.html#output-operations-on-dstreams )\n",
    "\n",
    "Once you start the stream, you can check on the UI what is happening and you should see the output here after each batch. You will need to explicitely call stop, which requires you to re-instanciate the streaming context if you want to start a new stream, or re-start this one.\n",
    "\n",
    "**2.1.b** Run the stream and don't forget to stop it after a few seconds. But do not stop the Spark context yet."
   ]
  },
  {
   "cell_type": "code",
   "execution_count": 12,
   "metadata": {},
   "outputs": [
    {
     "name": "stdout",
     "output_type": "stream",
     "text": [
      "-------------------------------------------\n",
      "Time: 2019-05-07 18:53:46\n",
      "-------------------------------------------\n",
      "0.16020278464960847\n",
      "\n",
      "-------------------------------------------\n",
      "Time: 2019-05-07 18:53:48\n",
      "-------------------------------------------\n",
      "0.020139977846114543\n",
      "\n",
      "-------------------------------------------\n",
      "Time: 2019-05-07 18:53:50\n",
      "-------------------------------------------\n",
      "0.7264532416878353\n",
      "\n"
     ]
    }
   ],
   "source": [
    "dstream = ssc.queueStream(rdds)\n",
    "\n",
    "# Print the first ten elements of each RDD generated in this DStream to the console\n",
    "dstream.pprint()\n",
    "ssc.start()"
   ]
  },
  {
   "cell_type": "code",
   "execution_count": 13,
   "metadata": {
    "scrolled": true
   },
   "outputs": [],
   "source": [
    "ssc.stop(stopSparkContext=False)"
   ]
  },
  {
   "cell_type": "markdown",
   "metadata": {},
   "source": [
    "**Note** that the streams output a value at 2 seconds interval. This interval corresponds to the length of a micro-batch. It is configurable when you create the StreamContext.\n",
    "\n",
    "Now let's get back to our random walk example. This demonstrate the capacity of Spark streaming to maintain a current state and apply updates to it. The state is backuped in your user folder on hdfs (as set while creating the streaming context) and you could pass this when recreating the context to re-start from the point when you stopped it.\n",
    "\n",
    "Do not forget to stop your StreamContext (with `stopSparkContext=False`) when you are done. And remember to recreate the StreamContext after you stop it before reusing it.\n",
    "\n",
    "**2.1.c** Apply some transformations on the stream of random data such that it outputs 2D coordinates of a random walk."
   ]
  },
  {
   "cell_type": "code",
   "execution_count": 14,
   "metadata": {
    "collapsed": true
   },
   "outputs": [],
   "source": [
    "# Recreate the streaming context, because it has been stopped\n",
    "ssc = StreamingContext(sc, 2)\n",
    "ssc.checkpoint('hdfs:///homes/{}/checkpoint/'.format(username))"
   ]
  },
  {
   "cell_type": "code",
   "execution_count": 15,
   "metadata": {
    "collapsed": true
   },
   "outputs": [],
   "source": [
    "import math\n",
    "directions = [(0,1), (0, -1), (1, 0), (-1, 0)]\n",
    "\n",
    "def walk(rnd, pos):\n",
    "    if pos is None:\n",
    "        pos = (0, 0)\n",
    "    if rnd:\n",
    "        d = directions[math.floor(rnd[0] * 4)]\n",
    "        return (pos[0] + d[0], pos[1] + d[1])\n",
    "    else:\n",
    "        return None"
   ]
  },
  {
   "cell_type": "code",
   "execution_count": 16,
   "metadata": {
    "collapsed": true
   },
   "outputs": [],
   "source": [
    "dstream = ssc.queueStream(rdds)\n",
    "dstream = dstream.map(lambda x: (1, x)).updateStateByKey(walk)"
   ]
  },
  {
   "cell_type": "markdown",
   "metadata": {},
   "source": [
    "**2.1.d** Modify the following output function such that it produces data that can then by plotted by the same function you wrote before in the previous section."
   ]
  },
  {
   "cell_type": "code",
   "execution_count": 17,
   "metadata": {
    "collapsed": true
   },
   "outputs": [],
   "source": [
    "from pykafka import KafkaClient\n",
    "\n",
    "def sendToKafka(iter):\n",
    "    client = KafkaClient(zookeeper_hosts=ZOOKEEPER_QUORUM)\n",
    "    with client.topics[('test-random-' + username).encode()].get_sync_producer() as producer:\n",
    "        for record in iter:\n",
    "            producer.produce(\"{},{}\".format(*record[1]).encode())\n",
    "\n",
    "dstream.foreachRDD(lambda rdd: rdd.foreachPartition(sendToKafka))"
   ]
  },
  {
   "cell_type": "code",
   "execution_count": 18,
   "metadata": {
    "collapsed": true
   },
   "outputs": [],
   "source": [
    "#dstream.map(lambda x: len(x[1])).foreachRDD(lambda rdd: rdd.foreachPartition(sendToKafka))"
   ]
  },
  {
   "cell_type": "markdown",
   "metadata": {},
   "source": [
    "**2.1.e** Now you can start it and while it is running launch the plot cell too. Note that it will stop producing events after all the elements of rdds have been processed. You can stop the StreamContext at that point."
   ]
  },
  {
   "cell_type": "code",
   "execution_count": 19,
   "metadata": {
    "collapsed": true,
    "scrolled": true
   },
   "outputs": [],
   "source": [
    "ssc.start()  # Start the computation"
   ]
  },
  {
   "cell_type": "markdown",
   "metadata": {},
   "source": [
    "You can run the same code as before for plotting the random graph. We copy it below for illustration purpose to maintain the chronological order of the exercises in this notebook, but you can run it from the previous cell."
   ]
  },
  {
   "cell_type": "code",
   "execution_count": 20,
   "metadata": {},
   "outputs": [
    {
     "data": {
      "text/html": [
       "\n",
       "    <div class=\"bk-root\">\n",
       "        <a href=\"https://bokeh.pydata.org\" target=\"_blank\" class=\"bk-logo bk-logo-small bk-logo-notebook\"></a>\n",
       "        <span id=\"8423ef0e-8ca0-4c7a-b702-4d380a8f6e1b\">Loading BokehJS ...</span>\n",
       "    </div>"
      ]
     },
     "metadata": {},
     "output_type": "display_data"
    },
    {
     "data": {
      "application/javascript": [
       "\n",
       "(function(root) {\n",
       "  function now() {\n",
       "    return new Date();\n",
       "  }\n",
       "\n",
       "  var force = true;\n",
       "\n",
       "  if (typeof (root._bokeh_onload_callbacks) === \"undefined\" || force === true) {\n",
       "    root._bokeh_onload_callbacks = [];\n",
       "    root._bokeh_is_loading = undefined;\n",
       "  }\n",
       "\n",
       "  var JS_MIME_TYPE = 'application/javascript';\n",
       "  var HTML_MIME_TYPE = 'text/html';\n",
       "  var EXEC_MIME_TYPE = 'application/vnd.bokehjs_exec.v0+json';\n",
       "  var CLASS_NAME = 'output_bokeh rendered_html';\n",
       "\n",
       "  /**\n",
       "   * Render data to the DOM node\n",
       "   */\n",
       "  function render(props, node) {\n",
       "    var script = document.createElement(\"script\");\n",
       "    node.appendChild(script);\n",
       "  }\n",
       "\n",
       "  /**\n",
       "   * Handle when an output is cleared or removed\n",
       "   */\n",
       "  function handleClearOutput(event, handle) {\n",
       "    var cell = handle.cell;\n",
       "\n",
       "    var id = cell.output_area._bokeh_element_id;\n",
       "    var server_id = cell.output_area._bokeh_server_id;\n",
       "    // Clean up Bokeh references\n",
       "    if (id !== undefined) {\n",
       "      Bokeh.index[id].model.document.clear();\n",
       "      delete Bokeh.index[id];\n",
       "    }\n",
       "\n",
       "    if (server_id !== undefined) {\n",
       "      // Clean up Bokeh references\n",
       "      var cmd = \"from bokeh.io.state import curstate; print(curstate().uuid_to_server['\" + server_id + \"'].get_sessions()[0].document.roots[0]._id)\";\n",
       "      cell.notebook.kernel.execute(cmd, {\n",
       "        iopub: {\n",
       "          output: function(msg) {\n",
       "            var element_id = msg.content.text.trim();\n",
       "            Bokeh.index[element_id].model.document.clear();\n",
       "            delete Bokeh.index[element_id];\n",
       "          }\n",
       "        }\n",
       "      });\n",
       "      // Destroy server and session\n",
       "      var cmd = \"import bokeh.io.notebook as ion; ion.destroy_server('\" + server_id + \"')\";\n",
       "      cell.notebook.kernel.execute(cmd);\n",
       "    }\n",
       "  }\n",
       "\n",
       "  /**\n",
       "   * Handle when a new output is added\n",
       "   */\n",
       "  function handleAddOutput(event, handle) {\n",
       "    var output_area = handle.output_area;\n",
       "    var output = handle.output;\n",
       "\n",
       "    // limit handleAddOutput to display_data with EXEC_MIME_TYPE content only\n",
       "    if ((output.output_type != \"display_data\") || (!output.data.hasOwnProperty(EXEC_MIME_TYPE))) {\n",
       "      return\n",
       "    }\n",
       "\n",
       "    var toinsert = output_area.element.find(`.${CLASS_NAME.split(' ')[0]}`);\n",
       "\n",
       "    if (output.metadata[EXEC_MIME_TYPE][\"id\"] !== undefined) {\n",
       "      toinsert[0].firstChild.textContent = output.data[JS_MIME_TYPE];\n",
       "      // store reference to embed id on output_area\n",
       "      output_area._bokeh_element_id = output.metadata[EXEC_MIME_TYPE][\"id\"];\n",
       "    }\n",
       "    if (output.metadata[EXEC_MIME_TYPE][\"server_id\"] !== undefined) {\n",
       "      var bk_div = document.createElement(\"div\");\n",
       "      bk_div.innerHTML = output.data[HTML_MIME_TYPE];\n",
       "      var script_attrs = bk_div.children[0].attributes;\n",
       "      for (var i = 0; i < script_attrs.length; i++) {\n",
       "        toinsert[0].firstChild.setAttribute(script_attrs[i].name, script_attrs[i].value);\n",
       "      }\n",
       "      // store reference to server id on output_area\n",
       "      output_area._bokeh_server_id = output.metadata[EXEC_MIME_TYPE][\"server_id\"];\n",
       "    }\n",
       "  }\n",
       "\n",
       "  function register_renderer(events, OutputArea) {\n",
       "\n",
       "    function append_mime(data, metadata, element) {\n",
       "      // create a DOM node to render to\n",
       "      var toinsert = this.create_output_subarea(\n",
       "        metadata,\n",
       "        CLASS_NAME,\n",
       "        EXEC_MIME_TYPE\n",
       "      );\n",
       "      this.keyboard_manager.register_events(toinsert);\n",
       "      // Render to node\n",
       "      var props = {data: data, metadata: metadata[EXEC_MIME_TYPE]};\n",
       "      render(props, toinsert[0]);\n",
       "      element.append(toinsert);\n",
       "      return toinsert\n",
       "    }\n",
       "\n",
       "    /* Handle when an output is cleared or removed */\n",
       "    events.on('clear_output.CodeCell', handleClearOutput);\n",
       "    events.on('delete.Cell', handleClearOutput);\n",
       "\n",
       "    /* Handle when a new output is added */\n",
       "    events.on('output_added.OutputArea', handleAddOutput);\n",
       "\n",
       "    /**\n",
       "     * Register the mime type and append_mime function with output_area\n",
       "     */\n",
       "    OutputArea.prototype.register_mime_type(EXEC_MIME_TYPE, append_mime, {\n",
       "      /* Is output safe? */\n",
       "      safe: true,\n",
       "      /* Index of renderer in `output_area.display_order` */\n",
       "      index: 0\n",
       "    });\n",
       "  }\n",
       "\n",
       "  // register the mime type if in Jupyter Notebook environment and previously unregistered\n",
       "  if (root.Jupyter !== undefined) {\n",
       "    var events = require('base/js/events');\n",
       "    var OutputArea = require('notebook/js/outputarea').OutputArea;\n",
       "\n",
       "    if (OutputArea.prototype.mime_types().indexOf(EXEC_MIME_TYPE) == -1) {\n",
       "      register_renderer(events, OutputArea);\n",
       "    }\n",
       "  }\n",
       "\n",
       "  \n",
       "  if (typeof (root._bokeh_timeout) === \"undefined\" || force === true) {\n",
       "    root._bokeh_timeout = Date.now() + 5000;\n",
       "    root._bokeh_failed_load = false;\n",
       "  }\n",
       "\n",
       "  var NB_LOAD_WARNING = {'data': {'text/html':\n",
       "     \"<div style='background-color: #fdd'>\\n\"+\n",
       "     \"<p>\\n\"+\n",
       "     \"BokehJS does not appear to have successfully loaded. If loading BokehJS from CDN, this \\n\"+\n",
       "     \"may be due to a slow or bad network connection. Possible fixes:\\n\"+\n",
       "     \"</p>\\n\"+\n",
       "     \"<ul>\\n\"+\n",
       "     \"<li>re-rerun `output_notebook()` to attempt to load from CDN again, or</li>\\n\"+\n",
       "     \"<li>use INLINE resources instead, as so:</li>\\n\"+\n",
       "     \"</ul>\\n\"+\n",
       "     \"<code>\\n\"+\n",
       "     \"from bokeh.resources import INLINE\\n\"+\n",
       "     \"output_notebook(resources=INLINE)\\n\"+\n",
       "     \"</code>\\n\"+\n",
       "     \"</div>\"}};\n",
       "\n",
       "  function display_loaded() {\n",
       "    var el = document.getElementById(\"8423ef0e-8ca0-4c7a-b702-4d380a8f6e1b\");\n",
       "    if (el != null) {\n",
       "      el.textContent = \"BokehJS is loading...\";\n",
       "    }\n",
       "    if (root.Bokeh !== undefined) {\n",
       "      if (el != null) {\n",
       "        el.textContent = \"BokehJS \" + root.Bokeh.version + \" successfully loaded.\";\n",
       "      }\n",
       "    } else if (Date.now() < root._bokeh_timeout) {\n",
       "      setTimeout(display_loaded, 100)\n",
       "    }\n",
       "  }\n",
       "\n",
       "\n",
       "  function run_callbacks() {\n",
       "    try {\n",
       "      root._bokeh_onload_callbacks.forEach(function(callback) { callback() });\n",
       "    }\n",
       "    finally {\n",
       "      delete root._bokeh_onload_callbacks\n",
       "    }\n",
       "    console.info(\"Bokeh: all callbacks have finished\");\n",
       "  }\n",
       "\n",
       "  function load_libs(js_urls, callback) {\n",
       "    root._bokeh_onload_callbacks.push(callback);\n",
       "    if (root._bokeh_is_loading > 0) {\n",
       "      console.log(\"Bokeh: BokehJS is being loaded, scheduling callback at\", now());\n",
       "      return null;\n",
       "    }\n",
       "    if (js_urls == null || js_urls.length === 0) {\n",
       "      run_callbacks();\n",
       "      return null;\n",
       "    }\n",
       "    console.log(\"Bokeh: BokehJS not loaded, scheduling load and callback at\", now());\n",
       "    root._bokeh_is_loading = js_urls.length;\n",
       "    for (var i = 0; i < js_urls.length; i++) {\n",
       "      var url = js_urls[i];\n",
       "      var s = document.createElement('script');\n",
       "      s.src = url;\n",
       "      s.async = false;\n",
       "      s.onreadystatechange = s.onload = function() {\n",
       "        root._bokeh_is_loading--;\n",
       "        if (root._bokeh_is_loading === 0) {\n",
       "          console.log(\"Bokeh: all BokehJS libraries loaded\");\n",
       "          run_callbacks()\n",
       "        }\n",
       "      };\n",
       "      s.onerror = function() {\n",
       "        console.warn(\"failed to load library \" + url);\n",
       "      };\n",
       "      console.log(\"Bokeh: injecting script tag for BokehJS library: \", url);\n",
       "      document.getElementsByTagName(\"head\")[0].appendChild(s);\n",
       "    }\n",
       "  };var element = document.getElementById(\"8423ef0e-8ca0-4c7a-b702-4d380a8f6e1b\");\n",
       "  if (element == null) {\n",
       "    console.log(\"Bokeh: ERROR: autoload.js configured with elementid '8423ef0e-8ca0-4c7a-b702-4d380a8f6e1b' but no matching script tag was found. \")\n",
       "    return false;\n",
       "  }\n",
       "\n",
       "  var js_urls = [\"https://cdn.pydata.org/bokeh/release/bokeh-0.12.10.min.js\", \"https://cdn.pydata.org/bokeh/release/bokeh-widgets-0.12.10.min.js\", \"https://cdn.pydata.org/bokeh/release/bokeh-tables-0.12.10.min.js\", \"https://cdn.pydata.org/bokeh/release/bokeh-gl-0.12.10.min.js\"];\n",
       "\n",
       "  var inline_js = [\n",
       "    function(Bokeh) {\n",
       "      Bokeh.set_log_level(\"info\");\n",
       "    },\n",
       "    \n",
       "    function(Bokeh) {\n",
       "      \n",
       "    },\n",
       "    function(Bokeh) {\n",
       "      console.log(\"Bokeh: injecting CSS: https://cdn.pydata.org/bokeh/release/bokeh-0.12.10.min.css\");\n",
       "      Bokeh.embed.inject_css(\"https://cdn.pydata.org/bokeh/release/bokeh-0.12.10.min.css\");\n",
       "      console.log(\"Bokeh: injecting CSS: https://cdn.pydata.org/bokeh/release/bokeh-widgets-0.12.10.min.css\");\n",
       "      Bokeh.embed.inject_css(\"https://cdn.pydata.org/bokeh/release/bokeh-widgets-0.12.10.min.css\");\n",
       "      console.log(\"Bokeh: injecting CSS: https://cdn.pydata.org/bokeh/release/bokeh-tables-0.12.10.min.css\");\n",
       "      Bokeh.embed.inject_css(\"https://cdn.pydata.org/bokeh/release/bokeh-tables-0.12.10.min.css\");\n",
       "    }\n",
       "  ];\n",
       "\n",
       "  function run_inline_js() {\n",
       "    \n",
       "    if ((root.Bokeh !== undefined) || (force === true)) {\n",
       "      for (var i = 0; i < inline_js.length; i++) {\n",
       "        inline_js[i].call(root, root.Bokeh);\n",
       "      }if (force === true) {\n",
       "        display_loaded();\n",
       "      }} else if (Date.now() < root._bokeh_timeout) {\n",
       "      setTimeout(run_inline_js, 100);\n",
       "    } else if (!root._bokeh_failed_load) {\n",
       "      console.log(\"Bokeh: BokehJS failed to load within specified timeout.\");\n",
       "      root._bokeh_failed_load = true;\n",
       "    } else if (force !== true) {\n",
       "      var cell = $(document.getElementById(\"8423ef0e-8ca0-4c7a-b702-4d380a8f6e1b\")).parents('.cell').data().cell;\n",
       "      cell.output_area.append_execute_result(NB_LOAD_WARNING)\n",
       "    }\n",
       "\n",
       "  }\n",
       "\n",
       "  if (root._bokeh_is_loading === 0) {\n",
       "    console.log(\"Bokeh: BokehJS loaded, going straight to plotting\");\n",
       "    run_inline_js();\n",
       "  } else {\n",
       "    load_libs(js_urls, function() {\n",
       "      console.log(\"Bokeh: BokehJS plotting callback run at\", now());\n",
       "      run_inline_js();\n",
       "    });\n",
       "  }\n",
       "}(window));"
      ],
      "application/vnd.bokehjs_load.v0+json": "\n(function(root) {\n  function now() {\n    return new Date();\n  }\n\n  var force = true;\n\n  if (typeof (root._bokeh_onload_callbacks) === \"undefined\" || force === true) {\n    root._bokeh_onload_callbacks = [];\n    root._bokeh_is_loading = undefined;\n  }\n\n  \n\n  \n  if (typeof (root._bokeh_timeout) === \"undefined\" || force === true) {\n    root._bokeh_timeout = Date.now() + 5000;\n    root._bokeh_failed_load = false;\n  }\n\n  var NB_LOAD_WARNING = {'data': {'text/html':\n     \"<div style='background-color: #fdd'>\\n\"+\n     \"<p>\\n\"+\n     \"BokehJS does not appear to have successfully loaded. If loading BokehJS from CDN, this \\n\"+\n     \"may be due to a slow or bad network connection. Possible fixes:\\n\"+\n     \"</p>\\n\"+\n     \"<ul>\\n\"+\n     \"<li>re-rerun `output_notebook()` to attempt to load from CDN again, or</li>\\n\"+\n     \"<li>use INLINE resources instead, as so:</li>\\n\"+\n     \"</ul>\\n\"+\n     \"<code>\\n\"+\n     \"from bokeh.resources import INLINE\\n\"+\n     \"output_notebook(resources=INLINE)\\n\"+\n     \"</code>\\n\"+\n     \"</div>\"}};\n\n  function display_loaded() {\n    var el = document.getElementById(\"8423ef0e-8ca0-4c7a-b702-4d380a8f6e1b\");\n    if (el != null) {\n      el.textContent = \"BokehJS is loading...\";\n    }\n    if (root.Bokeh !== undefined) {\n      if (el != null) {\n        el.textContent = \"BokehJS \" + root.Bokeh.version + \" successfully loaded.\";\n      }\n    } else if (Date.now() < root._bokeh_timeout) {\n      setTimeout(display_loaded, 100)\n    }\n  }\n\n\n  function run_callbacks() {\n    try {\n      root._bokeh_onload_callbacks.forEach(function(callback) { callback() });\n    }\n    finally {\n      delete root._bokeh_onload_callbacks\n    }\n    console.info(\"Bokeh: all callbacks have finished\");\n  }\n\n  function load_libs(js_urls, callback) {\n    root._bokeh_onload_callbacks.push(callback);\n    if (root._bokeh_is_loading > 0) {\n      console.log(\"Bokeh: BokehJS is being loaded, scheduling callback at\", now());\n      return null;\n    }\n    if (js_urls == null || js_urls.length === 0) {\n      run_callbacks();\n      return null;\n    }\n    console.log(\"Bokeh: BokehJS not loaded, scheduling load and callback at\", now());\n    root._bokeh_is_loading = js_urls.length;\n    for (var i = 0; i < js_urls.length; i++) {\n      var url = js_urls[i];\n      var s = document.createElement('script');\n      s.src = url;\n      s.async = false;\n      s.onreadystatechange = s.onload = function() {\n        root._bokeh_is_loading--;\n        if (root._bokeh_is_loading === 0) {\n          console.log(\"Bokeh: all BokehJS libraries loaded\");\n          run_callbacks()\n        }\n      };\n      s.onerror = function() {\n        console.warn(\"failed to load library \" + url);\n      };\n      console.log(\"Bokeh: injecting script tag for BokehJS library: \", url);\n      document.getElementsByTagName(\"head\")[0].appendChild(s);\n    }\n  };var element = document.getElementById(\"8423ef0e-8ca0-4c7a-b702-4d380a8f6e1b\");\n  if (element == null) {\n    console.log(\"Bokeh: ERROR: autoload.js configured with elementid '8423ef0e-8ca0-4c7a-b702-4d380a8f6e1b' but no matching script tag was found. \")\n    return false;\n  }\n\n  var js_urls = [\"https://cdn.pydata.org/bokeh/release/bokeh-0.12.10.min.js\", \"https://cdn.pydata.org/bokeh/release/bokeh-widgets-0.12.10.min.js\", \"https://cdn.pydata.org/bokeh/release/bokeh-tables-0.12.10.min.js\", \"https://cdn.pydata.org/bokeh/release/bokeh-gl-0.12.10.min.js\"];\n\n  var inline_js = [\n    function(Bokeh) {\n      Bokeh.set_log_level(\"info\");\n    },\n    \n    function(Bokeh) {\n      \n    },\n    function(Bokeh) {\n      console.log(\"Bokeh: injecting CSS: https://cdn.pydata.org/bokeh/release/bokeh-0.12.10.min.css\");\n      Bokeh.embed.inject_css(\"https://cdn.pydata.org/bokeh/release/bokeh-0.12.10.min.css\");\n      console.log(\"Bokeh: injecting CSS: https://cdn.pydata.org/bokeh/release/bokeh-widgets-0.12.10.min.css\");\n      Bokeh.embed.inject_css(\"https://cdn.pydata.org/bokeh/release/bokeh-widgets-0.12.10.min.css\");\n      console.log(\"Bokeh: injecting CSS: https://cdn.pydata.org/bokeh/release/bokeh-tables-0.12.10.min.css\");\n      Bokeh.embed.inject_css(\"https://cdn.pydata.org/bokeh/release/bokeh-tables-0.12.10.min.css\");\n    }\n  ];\n\n  function run_inline_js() {\n    \n    if ((root.Bokeh !== undefined) || (force === true)) {\n      for (var i = 0; i < inline_js.length; i++) {\n        inline_js[i].call(root, root.Bokeh);\n      }if (force === true) {\n        display_loaded();\n      }} else if (Date.now() < root._bokeh_timeout) {\n      setTimeout(run_inline_js, 100);\n    } else if (!root._bokeh_failed_load) {\n      console.log(\"Bokeh: BokehJS failed to load within specified timeout.\");\n      root._bokeh_failed_load = true;\n    } else if (force !== true) {\n      var cell = $(document.getElementById(\"8423ef0e-8ca0-4c7a-b702-4d380a8f6e1b\")).parents('.cell').data().cell;\n      cell.output_area.append_execute_result(NB_LOAD_WARNING)\n    }\n\n  }\n\n  if (root._bokeh_is_loading === 0) {\n    console.log(\"Bokeh: BokehJS loaded, going straight to plotting\");\n    run_inline_js();\n  } else {\n    load_libs(js_urls, function() {\n      console.log(\"Bokeh: BokehJS plotting callback run at\", now());\n      run_inline_js();\n    });\n  }\n}(window));"
     },
     "metadata": {},
     "output_type": "display_data"
    },
    {
     "data": {
      "text/html": [
       "\n",
       "<div class=\"bk-root\">\n",
       "    <div class=\"bk-plotdiv\" id=\"3f885e81-bbcb-4ec5-9f16-228455c21eaa\"></div>\n",
       "</div>"
      ]
     },
     "metadata": {},
     "output_type": "display_data"
    },
    {
     "data": {
      "application/javascript": [
       "(function(root) {\n",
       "  function embed_document(root) {\n",
       "    var docs_json = {\"4ee0e07f-5aeb-4f01-a9f5-d4f8ded613ab\":{\"roots\":{\"references\":[{\"attributes\":{\"plot\":{\"id\":\"99407f08-54f6-4d5a-affa-cb6645778a8a\",\"subtype\":\"Figure\",\"type\":\"Plot\"},\"ticker\":{\"id\":\"593b5d30-515e-48c7-9fd5-c77e9b1af13a\",\"type\":\"BasicTicker\"}},\"id\":\"6e483a29-dbc5-48ca-b891-5e1f709041de\",\"type\":\"Grid\"},{\"attributes\":{},\"id\":\"174b2a8e-f1ef-4399-b189-489362366f3e\",\"type\":\"LinearScale\"},{\"attributes\":{},\"id\":\"4cf9f40c-0aa3-4429-abff-018458fe86e8\",\"type\":\"PanTool\"},{\"attributes\":{},\"id\":\"2607b222-e9a4-4923-947b-1d48d2746299\",\"type\":\"ResetTool\"},{\"attributes\":{\"callback\":null,\"column_names\":[\"x\",\"y\"],\"data\":{\"x\":[],\"y\":[]}},\"id\":\"0b05a827-b212-466c-9b30-d8543de663e9\",\"type\":\"ColumnDataSource\"},{\"attributes\":{},\"id\":\"d67704eb-d2be-4b61-9c25-931896d31f3c\",\"type\":\"WheelZoomTool\"},{\"attributes\":{\"line_color\":{\"value\":\"#1f77b4\"},\"x\":{\"field\":\"x\"},\"y\":{\"field\":\"y\"}},\"id\":\"26e447d8-28d3-4d91-99be-bfddd3eb09ff\",\"type\":\"Line\"},{\"attributes\":{\"callback\":null,\"end\":50,\"start\":-50},\"id\":\"e73b586f-bee3-4e3b-9fc5-fd3fd962feef\",\"type\":\"Range1d\"},{\"attributes\":{\"data_source\":{\"id\":\"0b05a827-b212-466c-9b30-d8543de663e9\",\"type\":\"ColumnDataSource\"},\"glyph\":{\"id\":\"26e447d8-28d3-4d91-99be-bfddd3eb09ff\",\"type\":\"Line\"},\"hover_glyph\":null,\"muted_glyph\":null,\"nonselection_glyph\":{\"id\":\"ac57989f-a7bf-48c4-88db-1bfe1cfb7787\",\"type\":\"Line\"},\"selection_glyph\":null,\"view\":{\"id\":\"c9dfa143-51e7-44ba-a7ab-c0ff2c91efc2\",\"type\":\"CDSView\"}},\"id\":\"1b368043-aef4-4026-b713-e89c8adc858a\",\"type\":\"GlyphRenderer\"},{\"attributes\":{},\"id\":\"3b221d55-b38b-4a2b-bdc6-1eb5f200629d\",\"type\":\"HelpTool\"},{\"attributes\":{},\"id\":\"593b5d30-515e-48c7-9fd5-c77e9b1af13a\",\"type\":\"BasicTicker\"},{\"attributes\":{\"formatter\":{\"id\":\"ae974925-03d7-463b-ac3a-fc547da38ce0\",\"type\":\"BasicTickFormatter\"},\"plot\":{\"id\":\"99407f08-54f6-4d5a-affa-cb6645778a8a\",\"subtype\":\"Figure\",\"type\":\"Plot\"},\"ticker\":{\"id\":\"73b04096-aa23-4644-82f0-6f120baf62dd\",\"type\":\"BasicTicker\"}},\"id\":\"c6cd3b29-553a-41ef-bc44-d83e032a1587\",\"type\":\"LinearAxis\"},{\"attributes\":{\"formatter\":{\"id\":\"92ba0b76-6159-4290-8d68-d136962580c5\",\"type\":\"BasicTickFormatter\"},\"plot\":{\"id\":\"99407f08-54f6-4d5a-affa-cb6645778a8a\",\"subtype\":\"Figure\",\"type\":\"Plot\"},\"ticker\":{\"id\":\"593b5d30-515e-48c7-9fd5-c77e9b1af13a\",\"type\":\"BasicTicker\"}},\"id\":\"a2c623cb-58d6-4150-9e39-0b6c67f0f115\",\"type\":\"LinearAxis\"},{\"attributes\":{},\"id\":\"92ba0b76-6159-4290-8d68-d136962580c5\",\"type\":\"BasicTickFormatter\"},{\"attributes\":{},\"id\":\"73b04096-aa23-4644-82f0-6f120baf62dd\",\"type\":\"BasicTicker\"},{\"attributes\":{\"active_drag\":\"auto\",\"active_inspect\":\"auto\",\"active_scroll\":\"auto\",\"active_tap\":\"auto\",\"tools\":[{\"id\":\"4cf9f40c-0aa3-4429-abff-018458fe86e8\",\"type\":\"PanTool\"},{\"id\":\"d67704eb-d2be-4b61-9c25-931896d31f3c\",\"type\":\"WheelZoomTool\"},{\"id\":\"8ccd3758-06a2-435b-b1fd-ec2f786e7823\",\"type\":\"BoxZoomTool\"},{\"id\":\"e5c867f4-27d6-4dc0-83fd-942213b53f1f\",\"type\":\"SaveTool\"},{\"id\":\"2607b222-e9a4-4923-947b-1d48d2746299\",\"type\":\"ResetTool\"},{\"id\":\"3b221d55-b38b-4a2b-bdc6-1eb5f200629d\",\"type\":\"HelpTool\"}]},\"id\":\"e5f35c83-e9e9-46e0-ab73-3f440b7b1331\",\"type\":\"Toolbar\"},{\"attributes\":{\"dimension\":1,\"plot\":{\"id\":\"99407f08-54f6-4d5a-affa-cb6645778a8a\",\"subtype\":\"Figure\",\"type\":\"Plot\"},\"ticker\":{\"id\":\"73b04096-aa23-4644-82f0-6f120baf62dd\",\"type\":\"BasicTicker\"}},\"id\":\"00ec4c35-43d0-4fa1-a372-2f8216c86905\",\"type\":\"Grid\"},{\"attributes\":{\"plot\":null,\"text\":\"\"},\"id\":\"66f36c2d-6d09-4d68-baab-8a003cd09305\",\"type\":\"Title\"},{\"attributes\":{\"source\":{\"id\":\"0b05a827-b212-466c-9b30-d8543de663e9\",\"type\":\"ColumnDataSource\"}},\"id\":\"c9dfa143-51e7-44ba-a7ab-c0ff2c91efc2\",\"type\":\"CDSView\"},{\"attributes\":{},\"id\":\"e5c867f4-27d6-4dc0-83fd-942213b53f1f\",\"type\":\"SaveTool\"},{\"attributes\":{\"callback\":null,\"end\":50,\"start\":-50},\"id\":\"cd600f8b-7811-48ea-b24b-782653935afe\",\"type\":\"Range1d\"},{\"attributes\":{},\"id\":\"9541d4a9-f17c-4713-befb-bd1cbe4b8e5d\",\"type\":\"LinearScale\"},{\"attributes\":{\"bottom_units\":\"screen\",\"fill_alpha\":{\"value\":0.5},\"fill_color\":{\"value\":\"lightgrey\"},\"left_units\":\"screen\",\"level\":\"overlay\",\"line_alpha\":{\"value\":1.0},\"line_color\":{\"value\":\"black\"},\"line_dash\":[4,4],\"line_width\":{\"value\":2},\"plot\":null,\"render_mode\":\"css\",\"right_units\":\"screen\",\"top_units\":\"screen\"},\"id\":\"42b3f43b-c42d-4be2-8eaf-5da4300bc82c\",\"type\":\"BoxAnnotation\"},{\"attributes\":{\"below\":[{\"id\":\"a2c623cb-58d6-4150-9e39-0b6c67f0f115\",\"type\":\"LinearAxis\"}],\"left\":[{\"id\":\"c6cd3b29-553a-41ef-bc44-d83e032a1587\",\"type\":\"LinearAxis\"}],\"plot_height\":450,\"plot_width\":850,\"renderers\":[{\"id\":\"a2c623cb-58d6-4150-9e39-0b6c67f0f115\",\"type\":\"LinearAxis\"},{\"id\":\"6e483a29-dbc5-48ca-b891-5e1f709041de\",\"type\":\"Grid\"},{\"id\":\"c6cd3b29-553a-41ef-bc44-d83e032a1587\",\"type\":\"LinearAxis\"},{\"id\":\"00ec4c35-43d0-4fa1-a372-2f8216c86905\",\"type\":\"Grid\"},{\"id\":\"42b3f43b-c42d-4be2-8eaf-5da4300bc82c\",\"type\":\"BoxAnnotation\"},{\"id\":\"1b368043-aef4-4026-b713-e89c8adc858a\",\"type\":\"GlyphRenderer\"}],\"title\":{\"id\":\"66f36c2d-6d09-4d68-baab-8a003cd09305\",\"type\":\"Title\"},\"toolbar\":{\"id\":\"e5f35c83-e9e9-46e0-ab73-3f440b7b1331\",\"type\":\"Toolbar\"},\"x_range\":{\"id\":\"e73b586f-bee3-4e3b-9fc5-fd3fd962feef\",\"type\":\"Range1d\"},\"x_scale\":{\"id\":\"174b2a8e-f1ef-4399-b189-489362366f3e\",\"type\":\"LinearScale\"},\"y_range\":{\"id\":\"cd600f8b-7811-48ea-b24b-782653935afe\",\"type\":\"Range1d\"},\"y_scale\":{\"id\":\"9541d4a9-f17c-4713-befb-bd1cbe4b8e5d\",\"type\":\"LinearScale\"}},\"id\":\"99407f08-54f6-4d5a-affa-cb6645778a8a\",\"subtype\":\"Figure\",\"type\":\"Plot\"},{\"attributes\":{},\"id\":\"ae974925-03d7-463b-ac3a-fc547da38ce0\",\"type\":\"BasicTickFormatter\"},{\"attributes\":{\"line_alpha\":{\"value\":0.1},\"line_color\":{\"value\":\"#1f77b4\"},\"x\":{\"field\":\"x\"},\"y\":{\"field\":\"y\"}},\"id\":\"ac57989f-a7bf-48c4-88db-1bfe1cfb7787\",\"type\":\"Line\"},{\"attributes\":{\"overlay\":{\"id\":\"42b3f43b-c42d-4be2-8eaf-5da4300bc82c\",\"type\":\"BoxAnnotation\"}},\"id\":\"8ccd3758-06a2-435b-b1fd-ec2f786e7823\",\"type\":\"BoxZoomTool\"}],\"root_ids\":[\"99407f08-54f6-4d5a-affa-cb6645778a8a\"]},\"title\":\"Bokeh Application\",\"version\":\"0.12.10\"}};\n",
       "    var render_items = [{\"docid\":\"4ee0e07f-5aeb-4f01-a9f5-d4f8ded613ab\",\"elementid\":\"3f885e81-bbcb-4ec5-9f16-228455c21eaa\",\"modelid\":\"99407f08-54f6-4d5a-affa-cb6645778a8a\",\"notebook_comms_target\":\"6240eb33-a384-47b5-b9ce-f59d8c48f3c6\"}];\n",
       "\n",
       "    root.Bokeh.embed.embed_items(docs_json, render_items);\n",
       "  }\n",
       "\n",
       "  if (root.Bokeh !== undefined) {\n",
       "    embed_document(root);\n",
       "  } else {\n",
       "    var attempts = 0;\n",
       "    var timer = setInterval(function(root) {\n",
       "      if (root.Bokeh !== undefined) {\n",
       "        embed_document(root);\n",
       "        clearInterval(timer);\n",
       "      }\n",
       "      attempts++;\n",
       "      if (attempts > 100) {\n",
       "        console.log(\"Bokeh: ERROR: Unable to embed document because BokehJS library is missing\")\n",
       "        clearInterval(timer);\n",
       "      }\n",
       "    }, 10, root)\n",
       "  }\n",
       "})(window);"
      ],
      "application/vnd.bokehjs_exec.v0+json": ""
     },
     "metadata": {
      "application/vnd.bokehjs_exec.v0+json": {
       "id": "99407f08-54f6-4d5a-affa-cb6645778a8a"
      }
     },
     "output_type": "display_data"
    },
    {
     "name": "stdout",
     "output_type": "stream",
     "text": [
      "Consumer stopped.\n"
     ]
    }
   ],
   "source": [
    "from bokeh.io import push_notebook, show, output_notebook\n",
    "from bokeh.plotting import figure\n",
    "from bokeh.models import ColumnDataSource, Range1d\n",
    "import time\n",
    "\n",
    "output_notebook()\n",
    "\n",
    "x=[]\n",
    "y=[]\n",
    "source = ColumnDataSource(data=dict(x=x, y=y))\n",
    "\n",
    "p = figure(plot_width=850,plot_height=450)\n",
    "p.line('x', 'y', source=source)\n",
    "\n",
    "p.x_range = Range1d(-50, 50)\n",
    "p.y_range = Range1d(-50, 50)\n",
    "\n",
    "handle=show(p, notebook_handle=True)\n",
    "\n",
    "consumer = client.topics[('test-random-' + username).encode()].get_simple_consumer(consumer_group=('test-group-' + username).encode(), auto_offset_reset=OffsetType.EARLIEST, auto_commit_enable=True, reset_offset_on_start=False, auto_commit_interval_ms=2000)\n",
    "\n",
    "try:\n",
    "    for message in consumer:\n",
    "        if message is not None:\n",
    "            \n",
    "            xx, yy = message.value.decode().split(\",\")\n",
    "            x.append(xx)\n",
    "            y.append(yy)\n",
    "            # keep the length constant\n",
    "            if len(x) > 20:\n",
    "                x.pop(0)\n",
    "                y.pop(0)\n",
    "            \n",
    "            source.data = dict(x=x, y=y)\n",
    "            push_notebook(handle=handle)\n",
    "            time.sleep(0.1)\n",
    "except KeyboardInterrupt:\n",
    "    print(\"Consumer stopped.\")\n",
    "    pass"
   ]
  },
  {
   "cell_type": "code",
   "execution_count": 21,
   "metadata": {},
   "outputs": [],
   "source": [
    "ssc.stop(stopSparkContext=False) # Don't forget to stop the stream when you are done"
   ]
  },
  {
   "cell_type": "markdown",
   "metadata": {},
   "source": [
    "### 2.2 From Kafka"
   ]
  },
  {
   "cell_type": "code",
   "execution_count": null,
   "metadata": {},
   "outputs": [],
   "source": [
    "# Run this if you need to start from fresh\n",
    "sc.stop()\n",
    "sc = pyspark.SparkContext.getOrCreate(conf)\n",
    "sc"
   ]
  },
  {
   "cell_type": "markdown",
   "metadata": {},
   "source": [
    "Here, we will consume message from the `wiki-edits` topic. It contains the stream of events fetched from the wikimedia sites.\n",
    "More info: https://www.mediawiki.org/wiki/API:Recent_changes_stream\n",
    "\n"
   ]
  },
  {
   "cell_type": "code",
   "execution_count": 22,
   "metadata": {
    "collapsed": true
   },
   "outputs": [],
   "source": [
    "from pyspark.streaming.kafka import KafkaUtils"
   ]
  },
  {
   "cell_type": "code",
   "execution_count": 23,
   "metadata": {
    "collapsed": true
   },
   "outputs": [],
   "source": [
    "from pyspark.streaming import StreamingContext\n",
    "ssc = StreamingContext(sc, 10)"
   ]
  },
  {
   "cell_type": "code",
   "execution_count": 24,
   "metadata": {
    "collapsed": true
   },
   "outputs": [],
   "source": [
    "dstream = KafkaUtils.createStream(ssc, ZOOKEEPER_QUORUM, 'test-wiki-group-' + username, {'wiki-edits': 1})"
   ]
  },
  {
   "cell_type": "code",
   "execution_count": 25,
   "metadata": {
    "collapsed": true
   },
   "outputs": [],
   "source": [
    "dstream.pprint()"
   ]
  },
  {
   "cell_type": "code",
   "execution_count": 26,
   "metadata": {
    "scrolled": true
   },
   "outputs": [
    {
     "name": "stdout",
     "output_type": "stream",
     "text": [
      "-------------------------------------------\n",
      "Time: 2019-05-07 18:57:10\n",
      "-------------------------------------------\n",
      "(None, '{\"bot\":false,\"comment\":\"redirect\",\"id\":1151956151,\"length\":{\"new\":35807,\"old\":35782},\"meta\":{\"domain\":\"en.wikipedia.org\",\"dt\":\"2019-05-07T15:06:10+00:00\",\"id\":\"a6ca4af2-70d9-11e9-b9b9-1866da992e4e\",\"request_id\":\"XNGe4QpAICsAAFzIajEAAAAF\",\"schema_uri\":\"mediawiki/recentchange/2\",\"topic\":\"eqiad.mediawiki.recentchange\",\"uri\":\"https://en.wikipedia.org/wiki/2013_FIBA_Africa_Clubs_Champions_Cup_squads\",\"partition\":0,\"offset\":1577206706},\"minor\":false,\"namespace\":0,\"parsedcomment\":\"redirect\",\"revision\":{\"new\":895958978,\"old\":866915590},\"server_name\":\"en.wikipedia.org\",\"server_script_path\":\"/w\",\"server_url\":\"https://en.wikipedia.org\",\"timestamp\":1557241570,\"title\":\"2013 FIBA Africa Clubs Champions Cup squads\",\"type\":\"edit\",\"user\":\"Ortizesp\",\"wiki\":\"enwiki\"}\\n')\n",
      "(None, '{\"bot\":false,\"comment\":\"Reverted edits by [[Special:Contribs/Burmasips|Burmasips]] ([[User talk:Burmasips|talk]]) to last version by GeorgeofOrange\",\"id\":1151956150,\"length\":{\"new\":658,\"old\":3214},\"meta\":{\"domain\":\"en.wikipedia.org\",\"dt\":\"2019-05-07T15:06:12+00:00\",\"id\":\"a6ca581b-70d9-11e9-a7a5-1866da9948fd\",\"request_id\":\"XNGe4wpAICkAACllsLIAAAAI\",\"schema_uri\":\"mediawiki/recentchange/2\",\"topic\":\"eqiad.mediawiki.recentchange\",\"uri\":\"https://en.wikipedia.org/wiki/Tucker_County_High_School\",\"partition\":0,\"offset\":1577206707},\"minor\":true,\"namespace\":0,\"parsedcomment\":\"Reverted edits by <a href=\\\\\"/wiki/Special:Contributions/Burmasips\\\\\" title=\\\\\"Special:Contributions/Burmasips\\\\\">Burmasips</a> (<a href=\\\\\"/w/index.php?title=User_talk:Burmasips&amp;action=edit&amp;redlink=1\\\\\" class=\\\\\"new\\\\\" title=\\\\\"User talk:Burmasips (page does not exist)\\\\\">talk</a>) to last version by GeorgeofOrange\",\"revision\":{\"new\":895958986,\"old\":895958900},\"server_name\":\"en.wikipedia.org\",\"server_script_path\":\"/w\",\"server_url\":\"https://en.wikipedia.org\",\"timestamp\":1557241572,\"title\":\"Tucker County High School\",\"type\":\"edit\",\"user\":\"Larry Hockett\",\"wiki\":\"enwiki\"}\\n')\n",
      "(None, '{\"bot\":true,\"comment\":\"tltv using [[Project:AWB|AWB]]\",\"id\":86003468,\"length\":{\"new\":4637,\"old\":4589},\"meta\":{\"domain\":\"vi.wikipedia.org\",\"dt\":\"2019-05-07T15:06:12+00:00\",\"id\":\"a6ca5693-70d9-11e9-a475-b083fecf0f99\",\"request_id\":\"XNGe5ApAMEQAAHl0Ck0AAAAD\",\"schema_uri\":\"mediawiki/recentchange/2\",\"topic\":\"eqiad.mediawiki.recentchange\",\"uri\":\"https://vi.wikipedia.org/wiki/Th%E1%BA%A3o_lu%E1%BA%ADn_Th%C3%A0nh_vi%C3%AAn:171.254.151.50\",\"partition\":0,\"offset\":1577206708},\"minor\":true,\"namespace\":3,\"parsedcomment\":\"tltv using <a href=\\\\\"/wiki/Wikipedia:AWB\\\\\" class=\\\\\"mw-redirect\\\\\" title=\\\\\"Wikipedia:AWB\\\\\">AWB</a>\",\"patrolled\":true,\"revision\":{\"new\":52842844,\"old\":41155022},\"server_name\":\"vi.wikipedia.org\",\"server_script_path\":\"/w\",\"server_url\":\"https://vi.wikipedia.org\",\"timestamp\":1557241572,\"title\":\"Thảo luận Thành viên:171.254.151.50\",\"type\":\"edit\",\"user\":\"TuanminhBot\",\"wiki\":\"viwiki\"}\\n')\n",
      "(None, '{\"bot\":true,\"comment\":\"/* wbsetclaim-create:2||1 */ [[Property:P953]]: https://www.rfc-editor.org/pdfrfc/rfc8551.txt.pdf\",\"id\":972585268,\"length\":{\"new\":19616,\"old\":19244},\"meta\":{\"domain\":\"www.wikidata.org\",\"dt\":\"2019-05-07T15:06:12+00:00\",\"id\":\"a6ca4d9d-70d9-11e9-8d5d-1866da9942a4\",\"request_id\":\"XNGe4wpAIDoAAGN0P@QAAABP\",\"schema_uri\":\"mediawiki/recentchange/2\",\"topic\":\"eqiad.mediawiki.recentchange\",\"uri\":\"https://www.wikidata.org/wiki/Q63565622\",\"partition\":0,\"offset\":1577206709},\"minor\":false,\"namespace\":0,\"parsedcomment\":\"\\u200e<span dir=\\\\\"auto\\\\\"><span class=\\\\\"autocomment\\\\\">Created claim: </span></span> <a href=\\\\\"/wiki/Property:P953\\\\\" title=\\\\\"Property:P953\\\\\">Property:P953</a>: https://www.rfc-editor.org/pdfrfc/rfc8551.txt.pdf\",\"patrolled\":true,\"revision\":{\"new\":935819449,\"old\":935819437},\"server_name\":\"www.wikidata.org\",\"server_script_path\":\"/w\",\"server_url\":\"https://www.wikidata.org\",\"timestamp\":1557241572,\"title\":\"Q63565622\",\"type\":\"edit\",\"user\":\"RfcBot\",\"wiki\":\"wikidatawiki\"}\\n')\n",
      "(None, '{\"bot\":true,\"comment\":\"/* wbsetdescription-set:1|uk */ наукова стаття, опублікована в березні 2009, #quickstatements; [[:toollabs:quickstatements/#/batch/12427|batch #12427]] by [[User:Renamerr|]]\",\"id\":972585267,\"length\":{\"new\":23539,\"old\":23490},\"meta\":{\"domain\":\"www.wikidata.org\",\"dt\":\"2019-05-07T15:06:12+00:00\",\"id\":\"a6ca57a2-70d9-11e9-8fd6-b083fecf0dc3\",\"request_id\":\"XNGe4wpAMDkAAGL2D6gAAABF\",\"schema_uri\":\"mediawiki/recentchange/2\",\"topic\":\"eqiad.mediawiki.recentchange\",\"uri\":\"https://www.wikidata.org/wiki/Q46075144\",\"partition\":0,\"offset\":1577206710},\"minor\":false,\"namespace\":0,\"parsedcomment\":\"\\u200e<span dir=\\\\\"auto\\\\\"><span class=\\\\\"autocomment\\\\\">Змінено опис [uk]: </span></span> наукова стаття, опублікована в березні 2009, #quickstatements; <a href=\\\\\"https://tools.wmflabs.org/quickstatements/#.2Fbatch.2F12427\\\\\" class=\\\\\"extiw\\\\\" title=\\\\\"toollabs:quickstatements/\\\\\">batch #12427</a> by <a href=\\\\\"/wiki/User:Renamerr\\\\\" title=\\\\\"User:Renamerr\\\\\">User:Renamerr</a>\",\"patrolled\":true,\"revision\":{\"new\":935819448,\"old\":820694177},\"server_name\":\"www.wikidata.org\",\"server_script_path\":\"/w\",\"server_url\":\"https://www.wikidata.org\",\"timestamp\":1557241572,\"title\":\"Q46075144\",\"type\":\"edit\",\"user\":\"Renamerr\",\"wiki\":\"wikidatawiki\"}\\n')\n",
      "(None, '{\"bot\":false,\"comment\":\"corretto WL\",\"id\":254892608,\"length\":{\"new\":3931,\"old\":3959},\"meta\":{\"domain\":\"it.wikipedia.org\",\"dt\":\"2019-05-07T15:06:11+00:00\",\"id\":\"a6ca5bb9-70d9-11e9-807b-b083fecf0ba5\",\"request_id\":\"XNGe4wpAMDsAAFBipx8AAABN\",\"schema_uri\":\"mediawiki/recentchange/2\",\"topic\":\"eqiad.mediawiki.recentchange\",\"uri\":\"https://it.wikipedia.org/wiki/Gayne_Whitman\",\"partition\":0,\"offset\":1577206711},\"minor\":false,\"namespace\":0,\"parsedcomment\":\"corretto WL\",\"patrolled\":false,\"revision\":{\"new\":104738428,\"old\":103943499},\"server_name\":\"it.wikipedia.org\",\"server_script_path\":\"/w\",\"server_url\":\"https://it.wikipedia.org\",\"timestamp\":1557241571,\"title\":\"Gayne Whitman\",\"type\":\"edit\",\"user\":\"Idraulico liquido\",\"wiki\":\"itwiki\"}\\n')\n",
      "(None, '{\"bot\":false,\"comment\":\"[[:История Каппадокии]] добавлена в категорию\",\"id\":369564859,\"meta\":{\"domain\":\"ru.wikipedia.org\",\"dt\":\"2019-05-07T15:06:10+00:00\",\"id\":\"a6ca50a1-70d9-11e9-b37a-1866da97f886\",\"request_id\":\"ffabdeb35bab103c9cf0a665\",\"schema_uri\":\"mediawiki/recentchange/2\",\"topic\":\"eqiad.mediawiki.recentchange\",\"uri\":\"https://ru.wikipedia.org/wiki/%D0%9A%D0%B0%D1%82%D0%B5%D0%B3%D0%BE%D1%80%D0%B8%D1%8F:%D0%92%D0%B8%D0%BA%D0%B8%D0%BF%D0%B5%D0%B4%D0%B8%D1%8F:%D0%9D%D0%B5%D0%B0%D0%B2%D1%82%D0%BE%D1%80%D0%B8%D1%82%D0%B5%D1%82%D0%BD%D1%8B%D0%B9_%D0%B8%D1%81%D1%82%D0%BE%D1%87%D0%BD%D0%B8%D0%BA_%D1%81_%D0%BC%D0%B0%D1%8F_2019\",\"partition\":0,\"offset\":1577206712},\"namespace\":14,\"parsedcomment\":\"<a href=\\\\\"/wiki/%D0%98%D1%81%D1%82%D0%BE%D1%80%D0%B8%D1%8F_%D0%9A%D0%B0%D0%BF%D0%BF%D0%B0%D0%B4%D0%BE%D0%BA%D0%B8%D0%B8\\\\\" title=\\\\\"История Каппадокии\\\\\">История Каппадокии</a> добавлена в категорию\",\"server_name\":\"ru.wikipedia.org\",\"server_script_path\":\"/w\",\"server_url\":\"https://ru.wikipedia.org\",\"timestamp\":1557241570,\"title\":\"Категория:Википедия:Неавторитетный источник с мая 2019\",\"type\":\"categorize\",\"user\":\"Seryo93\",\"wiki\":\"ruwiki\"}\\n')\n",
      "(None, '{\"bot\":false,\"comment\":\"\",\"log_action\":\"hit\",\"log_action_comment\":\"51.39.99.188  أطلق [[خاص:مرشح الإساءة/32|المرشح 32]]; مؤديا الفعل \\\\\"edit\\\\\" في [[العصر الذهبي للخيال العلمي]]، الإجراءات المتخذة: وسم ([[خاص:سجل الإساءة/2696772|التفاصيل]])\",\"log_id\":0,\"log_params\":{\"action\":\"edit\",\"actions\":\"tag\",\"filter\":32,\"log\":2696772},\"log_type\":\"abusefilter\",\"meta\":{\"domain\":\"ar.wikipedia.org\",\"dt\":\"2019-05-07T15:06:12+00:00\",\"id\":\"a6ca4e42-70d9-11e9-a226-b083fecf12eb\",\"request_id\":\"XNGe5ApAMD8AADa@vO8AAABL\",\"schema_uri\":\"mediawiki/recentchange/2\",\"topic\":\"eqiad.mediawiki.recentchange\",\"uri\":\"https://ar.wikipedia.org/wiki/%D8%A7%D9%84%D8%B9%D8%B5%D8%B1_%D8%A7%D9%84%D8%B0%D9%87%D8%A8%D9%8A_%D9%84%D9%84%D8%AE%D9%8A%D8%A7%D9%84_%D8%A7%D9%84%D8%B9%D9%84%D9%85%D9%8A\",\"partition\":0,\"offset\":1577206713},\"namespace\":0,\"parsedcomment\":\"\",\"server_name\":\"ar.wikipedia.org\",\"server_script_path\":\"/w\",\"server_url\":\"https://ar.wikipedia.org\",\"timestamp\":1557241572,\"title\":\"العصر الذهبي للخيال العلمي\",\"type\":\"log\",\"user\":\"51.39.99.188\",\"wiki\":\"arwiki\"}\\n')\n",
      "(None, '{\"bot\":false,\"comment\":\"precizēts\",\"id\":8479183,\"length\":{\"new\":2181,\"old\":2148},\"meta\":{\"domain\":\"lv.wikipedia.org\",\"dt\":\"2019-05-07T15:06:12+00:00\",\"id\":\"a762f005-70d9-11e9-820d-1866da99474d\",\"request_id\":\"XNGe5ApAICMAAGftN2sAAABB\",\"schema_uri\":\"mediawiki/recentchange/2\",\"topic\":\"eqiad.mediawiki.recentchange\",\"uri\":\"https://lv.wikipedia.org/wiki/Dona\",\"partition\":0,\"offset\":1577206714},\"minor\":true,\"namespace\":0,\"parsedcomment\":\"precizēts\",\"patrolled\":true,\"revision\":{\"new\":3059643,\"old\":2809640},\"server_name\":\"lv.wikipedia.org\",\"server_script_path\":\"/w\",\"server_url\":\"https://lv.wikipedia.org\",\"timestamp\":1557241572,\"title\":\"Dona\",\"type\":\"edit\",\"user\":\"Olgerts V\",\"wiki\":\"lvwiki\"}\\n')\n",
      "(None, '{\"bot\":false,\"comment\":\"\",\"log_action\":\"thank\",\"log_action_comment\":\"Amirosan הודה ל־Elad221\",\"log_id\":15703358,\"log_params\":[],\"log_type\":\"thanks\",\"meta\":{\"domain\":\"he.wikipedia.org\",\"dt\":\"2019-05-07T15:06:12+00:00\",\"id\":\"a762ed47-70d9-11e9-b262-141877613762\",\"request_id\":\"XNGe5ApAEDUAACnFNR0AAABX\",\"schema_uri\":\"mediawiki/recentchange/2\",\"topic\":\"eqiad.mediawiki.recentchange\",\"uri\":\"https://he.wikipedia.org/wiki/%D7%9E%D7%A9%D7%AA%D7%9E%D7%A9:Elad221\",\"partition\":0,\"offset\":1577206715},\"namespace\":2,\"parsedcomment\":\"\",\"server_name\":\"he.wikipedia.org\",\"server_script_path\":\"/w\",\"server_url\":\"https://he.wikipedia.org\",\"timestamp\":1557241572,\"title\":\"משתמש:Elad221\",\"type\":\"log\",\"user\":\"Amirosan\",\"wiki\":\"hewiki\"}\\n')\n",
      "...\n",
      "\n"
     ]
    }
   ],
   "source": [
    "ssc.start()"
   ]
  },
  {
   "cell_type": "code",
   "execution_count": 27,
   "metadata": {
    "scrolled": true
   },
   "outputs": [
    {
     "name": "stdout",
     "output_type": "stream",
     "text": [
      "-------------------------------------------\n",
      "Time: 2019-05-07 18:57:20\n",
      "-------------------------------------------\n",
      "(None, '{\"bot\":false,\"comment\":\"/* wbsetlabel-add:1|sq */ Samuel Ruiz Fuertes, #quickstatements; [[:toollabs:quickstatements/#/batch/12444|batch #12444]] by [[User:Liridon|]]\",\"id\":972636986,\"length\":{\"new\":10445,\"old\":10367},\"meta\":{\"domain\":\"www.wikidata.org\",\"dt\":\"2019-05-07T16:57:08+00:00\",\"id\":\"26abf0b4-70e9-11e9-877f-b083fecf0da3\",\"request_id\":\"XNG45ApAMEAAAK344okAAABT\",\"schema_uri\":\"mediawiki/recentchange/2\",\"topic\":\"eqiad.mediawiki.recentchange\",\"uri\":\"https://www.wikidata.org/wiki/Q6118196\",\"partition\":0,\"offset\":1577365970},\"minor\":false,\"namespace\":0,\"parsedcomment\":\"\\u200e<span dir=\\\\\"auto\\\\\"><span class=\\\\\"autocomment\\\\\">Shtoi etiketën [sq]: </span></span> Samuel Ruiz Fuertes, #quickstatements; <a href=\\\\\"https://tools.wmflabs.org/quickstatements/#.2Fbatch.2F12444\\\\\" class=\\\\\"extiw\\\\\" title=\\\\\"toollabs:quickstatements/\\\\\">batch #12444</a> by <a href=\\\\\"/wiki/User:Liridon\\\\\" title=\\\\\"User:Liridon\\\\\">User:Liridon</a>\",\"patrolled\":true,\"revision\":{\"new\":935870744,\"old\":869106893},\"server_name\":\"www.wikidata.org\",\"server_script_path\":\"/w\",\"server_url\":\"https://www.wikidata.org\",\"timestamp\":1557248228,\"title\":\"Q6118196\",\"type\":\"edit\",\"user\":\"Liridon\",\"wiki\":\"wikidatawiki\"}\\n')\n",
      "(None, '{\"bot\":false,\"comment\":\"/* wbsetlabel-set:1|ca */ Emma Lehmer\",\"id\":972636987,\"length\":{\"new\":33386,\"old\":33396},\"meta\":{\"domain\":\"www.wikidata.org\",\"dt\":\"2019-05-07T16:57:08+00:00\",\"id\":\"26abf0bb-70e9-11e9-877f-b083fecf0da3\",\"request_id\":\"XNG45ApAMEAAAKiEYvUAAADM\",\"schema_uri\":\"mediawiki/recentchange/2\",\"topic\":\"eqiad.mediawiki.recentchange\",\"uri\":\"https://www.wikidata.org/wiki/Q450259\",\"partition\":0,\"offset\":1577365971},\"minor\":false,\"namespace\":0,\"parsedcomment\":\"\\u200e<span dir=\\\\\"auto\\\\\"><span class=\\\\\"autocomment\\\\\">S\\'ha canviat l\\'etiqueta [ca]: </span></span> Emma Lehmer\",\"patrolled\":true,\"revision\":{\"new\":935870743,\"old\":935870563},\"server_name\":\"www.wikidata.org\",\"server_script_path\":\"/w\",\"server_url\":\"https://www.wikidata.org\",\"timestamp\":1557248228,\"title\":\"Q450259\",\"type\":\"edit\",\"user\":\"Ferran Mir\",\"wiki\":\"wikidatawiki\"}\\n')\n",
      "(None, '{\"bot\":true,\"comment\":\"/* wbeditentity-update:0| */ migrate 1 reference qualifier from [[Property:P143]] to [[Property:P248]] (value: [[Q2389071]]); #msynbotTask2\",\"id\":972636988,\"length\":{\"new\":30402,\"old\":30402},\"meta\":{\"domain\":\"www.wikidata.org\",\"dt\":\"2019-05-07T16:57:08+00:00\",\"id\":\"26abe96f-70e9-11e9-85b1-b083fecf0568\",\"request_id\":\"XNG45ApAMEYAAAamjA0AAAAY\",\"schema_uri\":\"mediawiki/recentchange/2\",\"topic\":\"eqiad.mediawiki.recentchange\",\"uri\":\"https://www.wikidata.org/wiki/Q7708670\",\"partition\":0,\"offset\":1577365972},\"minor\":false,\"namespace\":0,\"parsedcomment\":\"\\u200e<span dir=\\\\\"auto\\\\\"><span class=\\\\\"autocomment\\\\\">Updated item: </span></span> migrate 1 reference qualifier from <a href=\\\\\"/wiki/Property:P143\\\\\" title=\\\\\"Property:P143\\\\\">Property:P143</a> to <a href=\\\\\"/wiki/Property:P248\\\\\" title=\\\\\"Property:P248\\\\\">Property:P248</a> (value: <a href=\\\\\"/wiki/Q2389071\\\\\" title=\\\\\"Q2389071\\\\\">Q2389071</a>); #msynbotTask2\",\"patrolled\":true,\"revision\":{\"new\":935870742,\"old\":883122336},\"server_name\":\"www.wikidata.org\",\"server_script_path\":\"/w\",\"server_url\":\"https://www.wikidata.org\",\"timestamp\":1557248228,\"title\":\"Q7708670\",\"type\":\"edit\",\"user\":\"MsynBot\",\"wiki\":\"wikidatawiki\"}\\n')\n",
      "(None, '{\"bot\":false,\"comment\":\"/* Colegios */\",\"id\":200872903,\"length\":{\"new\":5918,\"old\":5897},\"meta\":{\"domain\":\"es.wikipedia.org\",\"dt\":\"2019-05-07T16:57:09+00:00\",\"id\":\"26abe854-70e9-11e9-9708-141877613e47\",\"request_id\":\"XNG45QpAAEIAAIM2ezIAAABA\",\"schema_uri\":\"mediawiki/recentchange/2\",\"topic\":\"eqiad.mediawiki.recentchange\",\"uri\":\"https://es.wikipedia.org/wiki/Universidades_de_Israel\",\"partition\":0,\"offset\":1577365973},\"minor\":false,\"namespace\":0,\"parsedcomment\":\"<span dir=\\\\\"auto\\\\\"><span class=\\\\\"autocomment\\\\\"><a href=\\\\\"/wiki/Universidades_de_Israel#Colegios\\\\\" title=\\\\\"Universidades de Israel\\\\\">→\\u200eColegios</a></span></span>\",\"revision\":{\"new\":115783611,\"old\":115783584},\"server_name\":\"es.wikipedia.org\",\"server_script_path\":\"/w\",\"server_url\":\"https://es.wikipedia.org\",\"timestamp\":1557248229,\"title\":\"Universidades de Israel\",\"type\":\"edit\",\"user\":\"ChandraHelsinky\",\"wiki\":\"eswiki\"}\\n')\n",
      "(None, '{\"bot\":false,\"comment\":\"[[WP:HC|HC]]: Ergänze [[Kategorie:Geographie (Bezirk Spittal an der Drau)]]\",\"id\":273961834,\"length\":{\"new\":954,\"old\":900},\"meta\":{\"domain\":\"de.wikipedia.org\",\"dt\":\"2019-05-07T16:57:08+00:00\",\"id\":\"26abec81-70e9-11e9-8863-1866da994d47\",\"request_id\":\"XNG45ApAICoAADRk8OUAAABE\",\"schema_uri\":\"mediawiki/recentchange/2\",\"topic\":\"eqiad.mediawiki.recentchange\",\"uri\":\"https://de.wikipedia.org/wiki/Spitzegel\",\"partition\":0,\"offset\":1577365974},\"minor\":true,\"namespace\":0,\"parsedcomment\":\"<a href=\\\\\"/wiki/Wikipedia:HC\\\\\" class=\\\\\"mw-redirect\\\\\" title=\\\\\"Wikipedia:HC\\\\\">HC</a>: Ergänze <a href=\\\\\"/wiki/Kategorie:Geographie_(Bezirk_Spittal_an_der_Drau)\\\\\" title=\\\\\"Kategorie:Geographie (Bezirk Spittal an der Drau)\\\\\">Kategorie:Geographie (Bezirk Spittal an der Drau)</a>\",\"revision\":{\"new\":188332825,\"old\":157996291},\"server_name\":\"de.wikipedia.org\",\"server_script_path\":\"/w\",\"server_url\":\"https://de.wikipedia.org\",\"timestamp\":1557248228,\"title\":\"Spitzegel\",\"type\":\"edit\",\"user\":\"Didionline\",\"wiki\":\"dewiki\"}\\n')\n",
      "(None, '{\"bot\":false,\"comment\":\"/* wbsetaliases-add:1|es */ Misty (canción)\",\"id\":972636989,\"length\":{\"new\":4693,\"old\":4608},\"meta\":{\"domain\":\"www.wikidata.org\",\"dt\":\"2019-05-07T16:57:09+00:00\",\"id\":\"26abe794-70e9-11e9-bfb6-1866da99521a\",\"request_id\":\"XNG45ApAIDcAAE-wXCoAAACY\",\"schema_uri\":\"mediawiki/recentchange/2\",\"topic\":\"eqiad.mediawiki.recentchange\",\"uri\":\"https://www.wikidata.org/wiki/Q6019562\",\"partition\":0,\"offset\":1577365975},\"minor\":false,\"namespace\":0,\"parsedcomment\":\"\\u200e<span dir=\\\\\"auto\\\\\"><span class=\\\\\"autocomment\\\\\">Added Spanish alias: </span></span> Misty (canción)\",\"patrolled\":false,\"revision\":{\"new\":935870745,\"old\":935870737},\"server_name\":\"www.wikidata.org\",\"server_script_path\":\"/w\",\"server_url\":\"https://www.wikidata.org\",\"timestamp\":1557248229,\"title\":\"Q6019562\",\"type\":\"edit\",\"user\":\"83.202.52.48\",\"wiki\":\"wikidatawiki\"}\\n')\n",
      "(None, '{\"bot\":false,\"comment\":\"+diff for Lilli Iliev (WMDE), Linedwell, Lisa Dittmer (WMDE), Lofty abyss, Lomita, Lucien leGrey, M.hekmat, Magog the Ogre, Mahir256, Mailer diablo, Mapep\",\"id\":13563071,\"length\":{\"new\":6940,\"old\":6852},\"meta\":{\"domain\":\"meta.wikimedia.org\",\"dt\":\"2019-05-07T16:57:08+00:00\",\"id\":\"26abe60c-70e9-11e9-96dc-1866da98024d\",\"request_id\":\"XNG45ApAIDMAAJNC3AEAAAAO\",\"schema_uri\":\"mediawiki/recentchange/2\",\"topic\":\"eqiad.mediawiki.recentchange\",\"uri\":\"https://meta.wikimedia.org/wiki/User:Samuel_(WMF)/Access_to_nonpublic_personal_data_policy/Noticeboard\",\"partition\":0,\"offset\":1577365976},\"minor\":false,\"namespace\":2,\"parsedcomment\":\"+diff for Lilli Iliev (WMDE), Linedwell, Lisa Dittmer (WMDE), Lofty abyss, Lomita, Lucien leGrey, M.hekmat, Magog the Ogre, Mahir256, Mailer diablo, Mapep\",\"patrolled\":true,\"revision\":{\"new\":19082237,\"old\":19082233},\"server_name\":\"meta.wikimedia.org\",\"server_script_path\":\"/w\",\"server_url\":\"https://meta.wikimedia.org\",\"timestamp\":1557248228,\"title\":\"User:Samuel (WMF)/Access to nonpublic personal data policy/Noticeboard\",\"type\":\"edit\",\"user\":\"Samuel (WMF)\",\"wiki\":\"metawiki\"}\\n')\n",
      "(None, '{\"bot\":true,\"comment\":\"tltv using [[Project:AWB|AWB]]\",\"id\":86007709,\"length\":{\"new\":4637,\"old\":4589},\"meta\":{\"domain\":\"vi.wikipedia.org\",\"dt\":\"2019-05-07T16:57:09+00:00\",\"id\":\"26abe1a3-70e9-11e9-8d34-1866da97f613\",\"request_id\":\"XNG45QpAIDgAAJ6umXIAAAAP\",\"schema_uri\":\"mediawiki/recentchange/2\",\"topic\":\"eqiad.mediawiki.recentchange\",\"uri\":\"https://vi.wikipedia.org/wiki/Th%E1%BA%A3o_lu%E1%BA%ADn_Th%C3%A0nh_vi%C3%AAn:171.253.242.27\",\"partition\":0,\"offset\":1577365977},\"minor\":true,\"namespace\":3,\"parsedcomment\":\"tltv using <a href=\\\\\"/wiki/Wikipedia:AWB\\\\\" class=\\\\\"mw-redirect\\\\\" title=\\\\\"Wikipedia:AWB\\\\\">AWB</a>\",\"patrolled\":true,\"revision\":{\"new\":52846223,\"old\":41097449},\"server_name\":\"vi.wikipedia.org\",\"server_script_path\":\"/w\",\"server_url\":\"https://vi.wikipedia.org\",\"timestamp\":1557248229,\"title\":\"Thảo luận Thành viên:171.253.242.27\",\"type\":\"edit\",\"user\":\"TuanminhBot\",\"wiki\":\"viwiki\"}\\n')\n",
      "(None, '{\"bot\":false,\"comment\":\"/* wbsetreference-add:2| */ [[Property:P921]]: [[Q5186964]], #quickstatements; #temporary_batch_1557246938296\",\"id\":972636990,\"length\":{\"new\":29928,\"old\":29482},\"meta\":{\"domain\":\"www.wikidata.org\",\"dt\":\"2019-05-07T16:57:09+00:00\",\"id\":\"26abe1b2-70e9-11e9-8d34-1866da97f613\",\"request_id\":\"XNG45ApAIDgAAKK7tp0AAABB\",\"schema_uri\":\"mediawiki/recentchange/2\",\"topic\":\"eqiad.mediawiki.recentchange\",\"uri\":\"https://www.wikidata.org/wiki/Q54378145\",\"partition\":0,\"offset\":1577365978},\"minor\":false,\"namespace\":0,\"parsedcomment\":\"\\u200e<span dir=\\\\\"auto\\\\\"><span class=\\\\\"autocomment\\\\\">Added reference to claim: </span></span> <a href=\\\\\"/wiki/Property:P921\\\\\" title=\\\\\"Property:P921\\\\\">Property:P921</a>: <a href=\\\\\"/wiki/Q5186964\\\\\" title=\\\\\"Q5186964\\\\\">Q5186964</a>, #quickstatements; #temporary_batch_1557246938296\",\"patrolled\":true,\"revision\":{\"new\":935870746,\"old\":935870726},\"server_name\":\"www.wikidata.org\",\"server_script_path\":\"/w\",\"server_url\":\"https://www.wikidata.org\",\"timestamp\":1557248229,\"title\":\"Q54378145\",\"type\":\"edit\",\"user\":\"Daniel Mietchen\",\"wiki\":\"wikidatawiki\"}\\n')\n",
      "(None, '{\"bot\":false,\"comment\":\"/* wbsetclaim-create:2||1 */ [[Property:P186]]: [[Q226697]]\",\"id\":972636991,\"length\":{\"new\":16316,\"old\":15887},\"meta\":{\"domain\":\"www.wikidata.org\",\"dt\":\"2019-05-07T16:57:09+00:00\",\"id\":\"26abed9a-70e9-11e9-ba1d-1418776141b3\",\"request_id\":\"XNG45ApAEDMAAB05NqcAAAAN\",\"schema_uri\":\"mediawiki/recentchange/2\",\"topic\":\"eqiad.mediawiki.recentchange\",\"uri\":\"https://www.wikidata.org/wiki/Q1315675\",\"partition\":0,\"offset\":1577365979},\"minor\":false,\"namespace\":0,\"parsedcomment\":\"\\u200e<span dir=\\\\\"auto\\\\\"><span class=\\\\\"autocomment\\\\\">Created claim: </span></span> <a href=\\\\\"/wiki/Property:P186\\\\\" title=\\\\\"Property:P186\\\\\">Property:P186</a>: <a href=\\\\\"/wiki/Q226697\\\\\" title=\\\\\"Q226697\\\\\">Q226697</a>\",\"patrolled\":true,\"revision\":{\"new\":935870747,\"old\":935870428},\"server_name\":\"www.wikidata.org\",\"server_script_path\":\"/w\",\"server_url\":\"https://www.wikidata.org\",\"timestamp\":1557248229,\"title\":\"Q1315675\",\"type\":\"edit\",\"user\":\"Jason.nlw\",\"wiki\":\"wikidatawiki\"}\\n')\n",
      "...\n",
      "\n"
     ]
    },
    {
     "name": "stdout",
     "output_type": "stream",
     "text": [
      "-------------------------------------------\n",
      "Time: 2019-05-07 18:57:30\n",
      "-------------------------------------------\n",
      "\n",
      "-------------------------------------------\n",
      "Time: 2019-05-07 18:57:40\n",
      "-------------------------------------------\n",
      "\n"
     ]
    }
   ],
   "source": [
    "ssc.stop(stopSparkContext=False, stopGraceFully=True)"
   ]
  },
  {
   "cell_type": "markdown",
   "metadata": {},
   "source": [
    "Prototyping spark transformations on a stream can be cumbersome, so we can also create a static RDD from Kafka to experiment first."
   ]
  },
  {
   "cell_type": "code",
   "execution_count": 28,
   "metadata": {
    "collapsed": true
   },
   "outputs": [],
   "source": [
    "from pyspark.streaming.kafka import OffsetRange"
   ]
  },
  {
   "cell_type": "code",
   "execution_count": 29,
   "metadata": {
    "collapsed": true
   },
   "outputs": [],
   "source": [
    "wiki_rdd_source = KafkaUtils.createRDD(sc, {'bootstrap.servers': 'iccluster042.iccluster.epfl.ch:6667'}, [OffsetRange('wiki-edits',0,10000,10100)])"
   ]
  },
  {
   "cell_type": "markdown",
   "metadata": {},
   "source": [
    "The code above creates a RDD from the `wiki-edits` Kafka topic, that goes from offset `10000` to offset `10100`."
   ]
  },
  {
   "cell_type": "code",
   "execution_count": 30,
   "metadata": {},
   "outputs": [
    {
     "data": {
      "text/plain": [
       "(None,\n",
       " '{\"bot\":false,\"comment\":\"\",\"log_action\":\"patrol\",\"log_action_comment\":\"marked revision 19348481 of [[Blue Öyster Cult]] patrolled \",\"log_id\":15167288,\"log_params\":{\"auto\":0,\"curid\":\"19348481\",\"previd\":\"19281811\"},\"log_type\":\"patrol\",\"meta\":{\"domain\":\"no.wikipedia.org\",\"dt\":\"2019-05-01T08:43:07+00:00\",\"id\":\"242f2dcd-6bed-11e9-8a74-1866da9926fb\",\"request_id\":\"6c57ed8a-1a48-47ee-afec-e116516f0d45\",\"schema_uri\":\"mediawiki/recentchange/2\",\"topic\":\"eqiad.mediawiki.recentchange\",\"uri\":\"https://no.wikipedia.org/wiki/Blue_%C3%96yster_Cult\",\"partition\":0,\"offset\":1561941160},\"namespace\":0,\"parsedcomment\":\"\",\"server_name\":\"no.wikipedia.org\",\"server_script_path\":\"/w\",\"server_url\":\"https://no.wikipedia.org\",\"timestamp\":1556700187,\"title\":\"Blue Öyster Cult\",\"type\":\"log\",\"user\":\"TommyG\",\"wiki\":\"nowiki\"}\\n')"
      ]
     },
     "execution_count": 30,
     "metadata": {},
     "output_type": "execute_result"
    }
   ],
   "source": [
    "wiki_rdd_source.first()"
   ]
  },
  {
   "cell_type": "code",
   "execution_count": 31,
   "metadata": {},
   "outputs": [
    {
     "data": {
      "text/plain": [
       "100"
      ]
     },
     "execution_count": 31,
     "metadata": {},
     "output_type": "execute_result"
    }
   ],
   "source": [
    "wiki_rdd_source.count()"
   ]
  },
  {
   "cell_type": "markdown",
   "metadata": {},
   "source": [
    "We can see that we got the same type of data  as in the stream above.\n",
    "\n",
    "Now, we can write the function to parse the json messages.\n",
    "\n",
    "Note: sometimes the messages are invalid json, so we will use `flatMap` to discard those."
   ]
  },
  {
   "cell_type": "code",
   "execution_count": 32,
   "metadata": {
    "collapsed": true
   },
   "outputs": [],
   "source": [
    "import json\n",
    "\n",
    "def parse_wiki(doc):\n",
    "    try:\n",
    "        return [json.loads(doc)]\n",
    "    except json.decoder.JSONDecodeError:\n",
    "        return []"
   ]
  },
  {
   "cell_type": "code",
   "execution_count": 33,
   "metadata": {
    "collapsed": true
   },
   "outputs": [],
   "source": [
    "wiki_rdd = wiki_rdd_source.flatMap(lambda x: parse_wiki(x[1]))"
   ]
  },
  {
   "cell_type": "code",
   "execution_count": 34,
   "metadata": {
    "scrolled": false
   },
   "outputs": [
    {
     "data": {
      "text/plain": [
       "{'bot': False,\n",
       " 'comment': '',\n",
       " 'log_action': 'patrol',\n",
       " 'log_action_comment': 'marked revision 19348481 of [[Blue Öyster Cult]] patrolled ',\n",
       " 'log_id': 15167288,\n",
       " 'log_params': {'auto': 0, 'curid': '19348481', 'previd': '19281811'},\n",
       " 'log_type': 'patrol',\n",
       " 'meta': {'domain': 'no.wikipedia.org',\n",
       "  'dt': '2019-05-01T08:43:07+00:00',\n",
       "  'id': '242f2dcd-6bed-11e9-8a74-1866da9926fb',\n",
       "  'offset': 1561941160,\n",
       "  'partition': 0,\n",
       "  'request_id': '6c57ed8a-1a48-47ee-afec-e116516f0d45',\n",
       "  'schema_uri': 'mediawiki/recentchange/2',\n",
       "  'topic': 'eqiad.mediawiki.recentchange',\n",
       "  'uri': 'https://no.wikipedia.org/wiki/Blue_%C3%96yster_Cult'},\n",
       " 'namespace': 0,\n",
       " 'parsedcomment': '',\n",
       " 'server_name': 'no.wikipedia.org',\n",
       " 'server_script_path': '/w',\n",
       " 'server_url': 'https://no.wikipedia.org',\n",
       " 'timestamp': 1556700187,\n",
       " 'title': 'Blue Öyster Cult',\n",
       " 'type': 'log',\n",
       " 'user': 'TommyG',\n",
       " 'wiki': 'nowiki'}"
      ]
     },
     "execution_count": 34,
     "metadata": {},
     "output_type": "execute_result"
    }
   ],
   "source": [
    "wiki_rdd.first()"
   ]
  },
  {
   "cell_type": "code",
   "execution_count": 35,
   "metadata": {},
   "outputs": [
    {
     "data": {
      "text/plain": [
       "100"
      ]
     },
     "execution_count": 35,
     "metadata": {},
     "output_type": "execute_result"
    }
   ],
   "source": [
    "wiki_rdd.count()"
   ]
  },
  {
   "cell_type": "markdown",
   "metadata": {},
   "source": [
    "We can also use this on the stream:"
   ]
  },
  {
   "cell_type": "code",
   "execution_count": 36,
   "metadata": {},
   "outputs": [],
   "source": [
    "ssc = StreamingContext(sc, 10)\n",
    "dstream = KafkaUtils.createStream(ssc, ZOOKEEPER_QUORUM, 'test-wiki-group-' + username, {'wiki-edits': 1})"
   ]
  },
  {
   "cell_type": "code",
   "execution_count": 37,
   "metadata": {
    "collapsed": true
   },
   "outputs": [],
   "source": [
    "wiki_dstream = dstream.flatMap(lambda x: parse_wiki(x[1]))"
   ]
  },
  {
   "cell_type": "code",
   "execution_count": 38,
   "metadata": {
    "collapsed": true
   },
   "outputs": [],
   "source": [
    "wiki_dstream.pprint()"
   ]
  },
  {
   "cell_type": "code",
   "execution_count": 39,
   "metadata": {
    "scrolled": true
   },
   "outputs": [
    {
     "name": "stdout",
     "output_type": "stream",
     "text": [
      "-------------------------------------------\n",
      "Time: 2019-05-07 18:58:30\n",
      "-------------------------------------------\n",
      "{'bot': True, 'comment': '[[:Module talk:Adjacent stations/NJ Transit/doc]] added to category', 'id': 1151981591, 'meta': {'domain': 'en.wikipedia.org', 'dt': '2019-05-07T16:57:13+00:00', 'id': '29a6d79e-70e9-11e9-b37a-1866da97f886', 'request_id': '627e0689a361a13a467d8e79', 'schema_uri': 'mediawiki/recentchange/2', 'topic': 'eqiad.mediawiki.recentchange', 'uri': 'https://en.wikipedia.org/wiki/Category:Unprintworthy_redirects', 'partition': 0, 'offset': 1577366095}, 'namespace': 14, 'parsedcomment': '<a href=\"/wiki/Module_talk:Adjacent_stations/NJ_Transit/doc\" class=\"mw-redirect\" title=\"Module talk:Adjacent stations/NJ Transit/doc\">Module talk:Adjacent stations/NJ Transit/doc</a> added to category', 'server_name': 'en.wikipedia.org', 'server_script_path': '/w', 'server_url': 'https://en.wikipedia.org', 'timestamp': 1557248233, 'title': 'Category:Unprintworthy redirects', 'type': 'categorize', 'user': 'AnomieBOT', 'wiki': 'enwiki'}\n",
      "{'bot': True, 'comment': '[[:Module talk:Adjacent stations/NJ Transit/doc]] added to category', 'id': 1151981592, 'meta': {'domain': 'en.wikipedia.org', 'dt': '2019-05-07T16:57:13+00:00', 'id': '29a6d7a0-70e9-11e9-b37a-1866da97f886', 'request_id': '627e0689a361a13a467d8e79', 'schema_uri': 'mediawiki/recentchange/2', 'topic': 'eqiad.mediawiki.recentchange', 'uri': 'https://en.wikipedia.org/wiki/Category:Redirects_from_remote_talk_pages', 'partition': 0, 'offset': 1577366096}, 'namespace': 14, 'parsedcomment': '<a href=\"/wiki/Module_talk:Adjacent_stations/NJ_Transit/doc\" class=\"mw-redirect\" title=\"Module talk:Adjacent stations/NJ Transit/doc\">Module talk:Adjacent stations/NJ Transit/doc</a> added to category', 'server_name': 'en.wikipedia.org', 'server_script_path': '/w', 'server_url': 'https://en.wikipedia.org', 'timestamp': 1557248233, 'title': 'Category:Redirects from remote talk pages', 'type': 'categorize', 'user': 'AnomieBOT', 'wiki': 'enwiki'}\n",
      "{'bot': False, 'comment': '[[:Romang]] added to category', 'id': 1151981593, 'meta': {'domain': 'en.wikipedia.org', 'dt': '2019-05-07T16:57:13+00:00', 'id': '29a6e3b3-70e9-11e9-aa23-141877613aa9', 'request_id': 'ee7276aa55f6ffd121a36e85', 'schema_uri': 'mediawiki/recentchange/2', 'topic': 'eqiad.mediawiki.recentchange', 'uri': 'https://en.wikipedia.org/wiki/Category:Place_name_disambiguation_pages', 'partition': 0, 'offset': 1577366097}, 'namespace': 14, 'parsedcomment': '<a href=\"/wiki/Romang\" title=\"Romang\">Romang</a> added to category', 'server_name': 'en.wikipedia.org', 'server_script_path': '/w', 'server_url': 'https://en.wikipedia.org', 'timestamp': 1557248233, 'title': 'Category:Place name disambiguation pages', 'type': 'categorize', 'user': 'Narky Blert', 'wiki': 'enwiki'}\n",
      "{'bot': False, 'comment': '/* wbsetdescription-add:1|pl */ gmina w Angoli', 'id': 972637028, 'length': {'new': 1418, 'old': 1345}, 'meta': {'domain': 'www.wikidata.org', 'dt': '2019-05-07T16:57:14+00:00', 'id': '29a6d6c9-70e9-11e9-96dc-1866da98024d', 'request_id': 'XNG46gpAIDMAAJPXxnAAAADB', 'schema_uri': 'mediawiki/recentchange/2', 'topic': 'eqiad.mediawiki.recentchange', 'uri': 'https://www.wikidata.org/wiki/Q9643913', 'partition': 0, 'offset': 1577366098}, 'minor': False, 'namespace': 0, 'parsedcomment': '\\u200e<span dir=\"auto\"><span class=\"autocomment\">Dodano opis [pl]: </span></span> gmina w Angoli', 'patrolled': True, 'revision': {'new': 935870785, 'old': 673127820}, 'server_name': 'www.wikidata.org', 'server_script_path': '/w', 'server_url': 'https://www.wikidata.org', 'timestamp': 1557248234, 'title': 'Q9643913', 'type': 'edit', 'user': 'Powerek38', 'wiki': 'wikidatawiki'}\n",
      "{'bot': True, 'comment': '/* wbeditentity-update:0| */ migrate 1 reference qualifier from [[Property:P143]] to [[Property:P248]] (value: [[Q2389071]]); #msynbotTask2', 'id': 972637030, 'length': {'new': 5140, 'old': 5140}, 'meta': {'domain': 'www.wikidata.org', 'dt': '2019-05-07T16:57:14+00:00', 'id': '2a3f6b9e-70e9-11e9-9f86-1866da9949ff', 'request_id': 'XNG46gpAEMUAABt1pe4AAADU', 'schema_uri': 'mediawiki/recentchange/2', 'topic': 'eqiad.mediawiki.recentchange', 'uri': 'https://www.wikidata.org/wiki/Q5645199', 'partition': 0, 'offset': 1577366099}, 'minor': False, 'namespace': 0, 'parsedcomment': '\\u200e<span dir=\"auto\"><span class=\"autocomment\">Updated item: </span></span> migrate 1 reference qualifier from <a href=\"/wiki/Property:P143\" title=\"Property:P143\">Property:P143</a> to <a href=\"/wiki/Property:P248\" title=\"Property:P248\">Property:P248</a> (value: <a href=\"/wiki/Q2389071\" title=\"Q2389071\">Q2389071</a>); #msynbotTask2', 'patrolled': True, 'revision': {'new': 935870786, 'old': 895679017}, 'server_name': 'www.wikidata.org', 'server_script_path': '/w', 'server_url': 'https://www.wikidata.org', 'timestamp': 1557248234, 'title': 'Q5645199', 'type': 'edit', 'user': 'MsynBot', 'wiki': 'wikidatawiki'}\n",
      "{'bot': False, 'comment': '/* wbcreateclaim-create:1| */ [[Property:P50]]: [[Q57687393]], #quickstatements; [[:toollabs:quickstatements/#/batch/12335|batch #12335]] by [[User:ArthurPSmith|]]', 'id': 972637029, 'length': {'new': 1464343, 'old': 1463925}, 'meta': {'domain': 'www.wikidata.org', 'dt': '2019-05-07T16:57:07+00:00', 'id': '2a3f7463-70e9-11e9-b262-141877613762', 'request_id': 'XNG42gpAEDUAAJSLvWgAAAAD', 'schema_uri': 'mediawiki/recentchange/2', 'topic': 'eqiad.mediawiki.recentchange', 'uri': 'https://www.wikidata.org/wiki/Q56743392', 'partition': 0, 'offset': 1577366100}, 'minor': False, 'namespace': 0, 'parsedcomment': '\\u200e<span dir=\"auto\"><span class=\"autocomment\">Created claim: </span></span> <a href=\"/wiki/Property:P50\" title=\"Property:P50\">Property:P50</a>: <a href=\"/wiki/Q57687393\" title=\"Q57687393\">Q57687393</a>, #quickstatements; <a href=\"https://tools.wmflabs.org/quickstatements/#.2Fbatch.2F12335\" class=\"extiw\" title=\"toollabs:quickstatements/\">batch #12335</a> by <a href=\"/wiki/User:ArthurPSmith\" title=\"User:ArthurPSmith\">User:ArthurPSmith</a>', 'patrolled': True, 'revision': {'new': 935870778, 'old': 935786462}, 'server_name': 'www.wikidata.org', 'server_script_path': '/w', 'server_url': 'https://www.wikidata.org', 'timestamp': 1557248227, 'title': 'Q56743392', 'type': 'edit', 'user': 'ArthurPSmith', 'wiki': 'wikidatawiki'}\n",
      "{'bot': True, 'comment': '/* top */tar bort \"ovanligt många\"-fluff', 'id': 310276095, 'length': {'new': 9214, 'old': 9450}, 'meta': {'domain': 'sv.wikipedia.org', 'dt': '2019-05-07T16:57:14+00:00', 'id': '2a3f743a-70e9-11e9-ba1d-1418776141b3', 'request_id': 'XNG46gpAEDMAAB05N84AAAAC', 'schema_uri': 'mediawiki/recentchange/2', 'topic': 'eqiad.mediawiki.recentchange', 'uri': 'https://sv.wikipedia.org/wiki/Tierra_Linda', 'partition': 0, 'offset': 1577366101}, 'minor': True, 'namespace': 0, 'parsedcomment': '<span dir=\"auto\"><span class=\"autocomment\"><a href=\"/wiki/Tierra_Linda#top\" title=\"Tierra Linda\">→\\u200etop</a>: </span>tar bort &quot;ovanligt många&quot;-fluff</span>', 'revision': {'new': 45618432, 'old': 42080648}, 'server_name': 'sv.wikipedia.org', 'server_script_path': '/w', 'server_url': 'https://sv.wikipedia.org', 'timestamp': 1557248234, 'title': 'Tierra Linda', 'type': 'edit', 'user': 'KitayamaBot', 'wiki': 'svwiki'}\n",
      "{'bot': True, 'comment': '/* wbsetdescription-set:1|uk */ наукова стаття, опублікована в березні 2009, #quickstatements; [[:toollabs:quickstatements/#/batch/12427|batch #12427]] by [[User:Renamerr|]]', 'id': 972637031, 'length': {'new': 29165, 'old': 29116}, 'meta': {'domain': 'www.wikidata.org', 'dt': '2019-05-07T16:57:14+00:00', 'id': '2a3f75cf-70e9-11e9-8a74-1866da9926fb', 'request_id': 'XNG46gpAIDYAAE7bGdAAAAEL', 'schema_uri': 'mediawiki/recentchange/2', 'topic': 'eqiad.mediawiki.recentchange', 'uri': 'https://www.wikidata.org/wiki/Q44504773', 'partition': 0, 'offset': 1577366102}, 'minor': False, 'namespace': 0, 'parsedcomment': '\\u200e<span dir=\"auto\"><span class=\"autocomment\">Змінено опис [uk]: </span></span> наукова стаття, опублікована в березні 2009, #quickstatements; <a href=\"https://tools.wmflabs.org/quickstatements/#.2Fbatch.2F12427\" class=\"extiw\" title=\"toollabs:quickstatements/\">batch #12427</a> by <a href=\"/wiki/User:Renamerr\" title=\"User:Renamerr\">User:Renamerr</a>', 'patrolled': True, 'revision': {'new': 935870787, 'old': 820148293}, 'server_name': 'www.wikidata.org', 'server_script_path': '/w', 'server_url': 'https://www.wikidata.org', 'timestamp': 1557248234, 'title': 'Q44504773', 'type': 'edit', 'user': 'Renamerr', 'wiki': 'wikidatawiki'}\n",
      "{'bot': False, 'comment': '/* Active players */ Signature change', 'id': 1151981594, 'length': {'new': 28518, 'old': 28552}, 'meta': {'domain': 'en.wikipedia.org', 'dt': '2019-05-07T16:57:14+00:00', 'id': '2a3f6e8e-70e9-11e9-a5b6-1866da992497', 'request_id': 'XNG46gpAIDEAAFakmxYAAAAY', 'schema_uri': 'mediawiki/recentchange/2', 'topic': 'eqiad.mediawiki.recentchange', 'uri': 'https://en.wikipedia.org/wiki/Wikipedia:Department_of_Fun/Word_Association/Players', 'partition': 0, 'offset': 1577366103}, 'minor': True, 'namespace': 4, 'parsedcomment': '<span dir=\"auto\"><span class=\"autocomment\"><a href=\"/wiki/Wikipedia:Department_of_Fun/Word_Association/Players#Active_players\" title=\"Wikipedia:Department of Fun/Word Association/Players\">→\\u200eActive players</a>: </span> Signature change</span>', 'revision': {'new': 895973957, 'old': 895050433}, 'server_name': 'en.wikipedia.org', 'server_script_path': '/w', 'server_url': 'https://en.wikipedia.org', 'timestamp': 1557248234, 'title': 'Wikipedia:Department of Fun/Word Association/Players', 'type': 'edit', 'user': 'InvalidOS', 'wiki': 'enwiki'}\n",
      "{'bot': True, 'comment': '/* wbeditentity-update:0| */ migrate 1 reference qualifier from [[Property:P143]] to [[Property:P248]] (value: [[Q51711]]); #msynbotTask2', 'id': 972637035, 'length': {'new': 24417, 'old': 24417}, 'meta': {'domain': 'www.wikidata.org', 'dt': '2019-05-07T16:57:14+00:00', 'id': '2a3f6fa3-70e9-11e9-b78e-1418776133f1', 'request_id': 'XNG46gpAEDQAAB1L6UYAAADL', 'schema_uri': 'mediawiki/recentchange/2', 'topic': 'eqiad.mediawiki.recentchange', 'uri': 'https://www.wikidata.org/wiki/Q194294', 'partition': 0, 'offset': 1577366104}, 'minor': False, 'namespace': 0, 'parsedcomment': '\\u200e<span dir=\"auto\"><span class=\"autocomment\">Updated item: </span></span> migrate 1 reference qualifier from <a href=\"/wiki/Property:P143\" title=\"Property:P143\">Property:P143</a> to <a href=\"/wiki/Property:P248\" title=\"Property:P248\">Property:P248</a> (value: <a href=\"/wiki/Q51711\" title=\"Q51711\">Q51711</a>); #msynbotTask2', 'patrolled': True, 'revision': {'new': 935870788, 'old': 880086293}, 'server_name': 'www.wikidata.org', 'server_script_path': '/w', 'server_url': 'https://www.wikidata.org', 'timestamp': 1557248234, 'title': 'Q194294', 'type': 'edit', 'user': 'MsynBot', 'wiki': 'wikidatawiki'}\n",
      "...\n",
      "\n"
     ]
    }
   ],
   "source": [
    "ssc.start()"
   ]
  },
  {
   "cell_type": "code",
   "execution_count": 40,
   "metadata": {
    "scrolled": true
   },
   "outputs": [
    {
     "name": "stdout",
     "output_type": "stream",
     "text": [
      "-------------------------------------------\n",
      "Time: 2019-05-07 18:58:40\n",
      "-------------------------------------------\n",
      "{'bot': False, 'comment': '', 'log_action': 'hit', 'log_action_comment': '83.30.23.47 uruchomił(a) [[Specjalna:Filtr nadużyć/3|filtr 3]], wykonując „edit” na [[MEGAWONSZ]]. Podjęte działania: Ostrzeżenie ([[Specjalna:Rejestr nadużyć/440439|szczegóły]])', 'log_id': 0, 'log_params': {'action': 'edit', 'actions': 'warn', 'filter': 3, 'log': 440439}, 'log_type': 'abusefilter', 'meta': {'domain': 'pl.wikipedia.org', 'dt': '2019-05-07T16:58:29+00:00', 'id': '565af7b9-70e9-11e9-80c2-141877613814', 'request_id': 'XNG5NApAADwAAG5tcREAAABQ', 'schema_uri': 'mediawiki/recentchange/2', 'topic': 'eqiad.mediawiki.recentchange', 'uri': 'https://pl.wikipedia.org/wiki/MEGAWONSZ', 'partition': 0, 'offset': 1577367746}, 'namespace': 0, 'parsedcomment': '', 'server_name': 'pl.wikipedia.org', 'server_script_path': '/w', 'server_url': 'https://pl.wikipedia.org', 'timestamp': 1557248309, 'title': 'MEGAWONSZ', 'type': 'log', 'user': '83.30.23.47', 'wiki': 'plwiki'}\n",
      "{'bot': False, 'comment': 'Membuat halaman kosong', 'id': 4964280, 'length': {'new': 0}, 'meta': {'domain': 'min.wikipedia.org', 'dt': '2019-05-07T16:58:28+00:00', 'id': '565af655-70e9-11e9-a1eb-b083fecefa7f', 'request_id': 'XNG5NApAME4AAG-s-5YAAAAX', 'schema_uri': 'mediawiki/recentchange/2', 'topic': 'eqiad.mediawiki.recentchange', 'uri': 'https://min.wikipedia.org/wiki/Kategori:Wikipediawan_nan_bagabuang_bulan_April_2019', 'partition': 0, 'offset': 1577367747}, 'minor': False, 'namespace': 14, 'parsedcomment': 'Membuat halaman kosong', 'patrolled': True, 'revision': {'new': 1633016}, 'server_name': 'min.wikipedia.org', 'server_script_path': '/w', 'server_url': 'https://min.wikipedia.org', 'timestamp': 1557248308, 'title': 'Kategori:Wikipediawan nan bagabuang bulan April 2019', 'type': 'new', 'user': 'Ardzun', 'wiki': 'minwiki'}\n",
      "{'bot': False, 'comment': '/* wbcreateclaim-create:1| */ [[Property:P2009]]: Canon PowerShot S10, #quickstatements', 'id': 972637654, 'length': {'new': 3139, 'old': 2778}, 'meta': {'domain': 'www.wikidata.org', 'dt': '2019-05-07T16:58:28+00:00', 'id': '565af253-70e9-11e9-a9a8-1866da9950b2', 'request_id': 'XNG5NApAEMQAACtV2JUAAADO', 'schema_uri': 'mediawiki/recentchange/2', 'topic': 'eqiad.mediawiki.recentchange', 'uri': 'https://www.wikidata.org/wiki/Q20888807', 'partition': 0, 'offset': 1577367748}, 'minor': False, 'namespace': 0, 'parsedcomment': '\\u200e<span dir=\"auto\"><span class=\"autocomment\">Created claim: </span></span> <a href=\"/wiki/Property:P2009\" title=\"Property:P2009\">Property:P2009</a>: Canon PowerShot S10, #quickstatements', 'patrolled': True, 'revision': {'new': 935871410, 'old': 935648792}, 'server_name': 'www.wikidata.org', 'server_script_path': '/w', 'server_url': 'https://www.wikidata.org', 'timestamp': 1557248308, 'title': 'Q20888807', 'type': 'edit', 'user': 'Jura1', 'wiki': 'wikidatawiki'}\n",
      "{'bot': False, 'comment': \"'\", 'id': 9975750, 'length': {'new': 27643, 'old': 6824}, 'meta': {'domain': 'nn.wikipedia.org', 'dt': '2019-05-07T16:58:28+00:00', 'id': '565ae904-70e9-11e9-a0e1-14187761316a', 'request_id': 'XNG5NApAAEMAAI2osVQAAAAO', 'schema_uri': 'mediawiki/recentchange/2', 'topic': 'eqiad.mediawiki.recentchange', 'uri': 'https://nn.wikipedia.org/wiki/A_Passion_Play', 'partition': 0, 'offset': 1577367749}, 'minor': False, 'namespace': 0, 'parsedcomment': '&#039;', 'patrolled': True, 'revision': {'new': 3135684, 'old': 2821500}, 'server_name': 'nn.wikipedia.org', 'server_script_path': '/w', 'server_url': 'https://nn.wikipedia.org', 'timestamp': 1557248308, 'title': 'A Passion Play', 'type': 'edit', 'user': 'Frokor', 'wiki': 'nnwiki'}\n",
      "{'bot': True, 'comment': '/* wbeditentity-update:0| */ migrate 1 reference qualifier from [[Property:P143]] to [[Property:P248]] (value: [[Q28527677]]); #msynbotTask2', 'id': 972637653, 'length': {'new': 52779, 'old': 52779}, 'meta': {'domain': 'www.wikidata.org', 'dt': '2019-05-07T16:58:28+00:00', 'id': '565af0f5-70e9-11e9-8cb7-141877614a1b', 'request_id': 'XNG5MwpAAEgAAA-L1JEAAADI', 'schema_uri': 'mediawiki/recentchange/2', 'topic': 'eqiad.mediawiki.recentchange', 'uri': 'https://www.wikidata.org/wiki/Q9624', 'partition': 0, 'offset': 1577367750}, 'minor': False, 'namespace': 0, 'parsedcomment': '\\u200e<span dir=\"auto\"><span class=\"autocomment\">Updated item: </span></span> migrate 1 reference qualifier from <a href=\"/wiki/Property:P143\" title=\"Property:P143\">Property:P143</a> to <a href=\"/wiki/Property:P248\" title=\"Property:P248\">Property:P248</a> (value: <a href=\"/wiki/Q28527677\" title=\"Q28527677\">Q28527677</a>); #msynbotTask2', 'patrolled': True, 'revision': {'new': 935871409, 'old': 922799222}, 'server_name': 'www.wikidata.org', 'server_script_path': '/w', 'server_url': 'https://www.wikidata.org', 'timestamp': 1557248308, 'title': 'Q9624', 'type': 'edit', 'user': 'MsynBot', 'wiki': 'wikidatawiki'}\n",
      "{'bot': True, 'comment': '/* wbeditentity-update:0| */ migrate 1 reference qualifier from [[Property:P143]] to [[Property:P248]] (value: [[Q2389071]]); #msynbotTask2', 'id': 972637655, 'length': {'new': 41358, 'old': 41358}, 'meta': {'domain': 'www.wikidata.org', 'dt': '2019-05-07T16:58:28+00:00', 'id': '565ae93d-70e9-11e9-8d34-1866da97f613', 'request_id': 'XNG5MwpAIDgAAJ6utSMAAAAM', 'schema_uri': 'mediawiki/recentchange/2', 'topic': 'eqiad.mediawiki.recentchange', 'uri': 'https://www.wikidata.org/wiki/Q1426605', 'partition': 0, 'offset': 1577367751}, 'minor': False, 'namespace': 0, 'parsedcomment': '\\u200e<span dir=\"auto\"><span class=\"autocomment\">Updated item: </span></span> migrate 1 reference qualifier from <a href=\"/wiki/Property:P143\" title=\"Property:P143\">Property:P143</a> to <a href=\"/wiki/Property:P248\" title=\"Property:P248\">Property:P248</a> (value: <a href=\"/wiki/Q2389071\" title=\"Q2389071\">Q2389071</a>); #msynbotTask2', 'patrolled': True, 'revision': {'new': 935871411, 'old': 830171756}, 'server_name': 'www.wikidata.org', 'server_script_path': '/w', 'server_url': 'https://www.wikidata.org', 'timestamp': 1557248308, 'title': 'Q1426605', 'type': 'edit', 'user': 'MsynBot', 'wiki': 'wikidatawiki'}\n",
      "{'bot': True, 'comment': 'Updating to match new version of source page', 'id': 4209369, 'length': {'new': 4697, 'old': 4522}, 'meta': {'domain': 'www.mediawiki.org', 'dt': '2019-05-07T16:58:28+00:00', 'id': '565afa4d-70e9-11e9-b0b5-141877614a5d', 'request_id': 'XNG5KQpAICMAAKUKHEwAAABY', 'schema_uri': 'mediawiki/recentchange/2', 'topic': 'eqiad.mediawiki.recentchange', 'uri': 'https://www.mediawiki.org/wiki/JQuery/it', 'partition': 0, 'offset': 1577367752}, 'minor': False, 'namespace': 0, 'parsedcomment': 'Updating to match new version of source page', 'patrolled': True, 'revision': {'new': 3224665, 'old': 2869918}, 'server_name': 'www.mediawiki.org', 'server_script_path': '/w', 'server_url': 'https://www.mediawiki.org', 'timestamp': 1557248308, 'title': 'JQuery/it', 'type': 'edit', 'user': 'FuzzyBot', 'wiki': 'mediawikiwiki'}\n",
      "{'bot': True, 'comment': 'Updating to match new version of source page', 'id': 4209370, 'length': {'new': 4678, 'old': 4503}, 'meta': {'domain': 'www.mediawiki.org', 'dt': '2019-05-07T16:58:28+00:00', 'id': '565aeb9c-70e9-11e9-94d1-141877613bbf', 'request_id': 'XNG5KQpAICMAAKUKHEwAAABY', 'schema_uri': 'mediawiki/recentchange/2', 'topic': 'eqiad.mediawiki.recentchange', 'uri': 'https://www.mediawiki.org/wiki/JQuery/da', 'partition': 0, 'offset': 1577367753}, 'minor': False, 'namespace': 0, 'parsedcomment': 'Updating to match new version of source page', 'patrolled': True, 'revision': {'new': 3224666, 'old': 2869917}, 'server_name': 'www.mediawiki.org', 'server_script_path': '/w', 'server_url': 'https://www.mediawiki.org', 'timestamp': 1557248308, 'title': 'JQuery/da', 'type': 'edit', 'user': 'FuzzyBot', 'wiki': 'mediawikiwiki'}\n",
      "{'bot': True, 'comment': 'Updating to match new version of source page', 'id': 4209371, 'length': {'new': 4682, 'old': 4507}, 'meta': {'domain': 'www.mediawiki.org', 'dt': '2019-05-07T16:58:28+00:00', 'id': '565afbc3-70e9-11e9-b085-1866da97fe87', 'request_id': 'XNG5KQpAICMAAKUKHEwAAABY', 'schema_uri': 'mediawiki/recentchange/2', 'topic': 'eqiad.mediawiki.recentchange', 'uri': 'https://www.mediawiki.org/wiki/JQuery/de', 'partition': 0, 'offset': 1577367754}, 'minor': False, 'namespace': 0, 'parsedcomment': 'Updating to match new version of source page', 'patrolled': True, 'revision': {'new': 3224664, 'old': 2869929}, 'server_name': 'www.mediawiki.org', 'server_script_path': '/w', 'server_url': 'https://www.mediawiki.org', 'timestamp': 1557248308, 'title': 'JQuery/de', 'type': 'edit', 'user': 'FuzzyBot', 'wiki': 'mediawikiwiki'}\n",
      "{'bot': False, 'comment': '/* wbsetlabel-add:1|sq */ Mariano of Saint Joseph, #quickstatements; [[:toollabs:quickstatements/#/batch/12438|batch #12438]] by [[User:Liridon|]]', 'id': 972637656, 'length': {'new': 15480, 'old': 15397}, 'meta': {'domain': 'www.wikidata.org', 'dt': '2019-05-07T16:58:28+00:00', 'id': '565aeb0e-70e9-11e9-b05c-141877613170', 'request_id': 'XNG5NApAEDEAAFkl6KUAAADX', 'schema_uri': 'mediawiki/recentchange/2', 'topic': 'eqiad.mediawiki.recentchange', 'uri': 'https://www.wikidata.org/wiki/Q18972845', 'partition': 0, 'offset': 1577367755}, 'minor': False, 'namespace': 0, 'parsedcomment': '\\u200e<span dir=\"auto\"><span class=\"autocomment\">Shtoi etiketën [sq]: </span></span> Mariano of Saint Joseph, #quickstatements; <a href=\"https://tools.wmflabs.org/quickstatements/#.2Fbatch.2F12438\" class=\"extiw\" title=\"toollabs:quickstatements/\">batch #12438</a> by <a href=\"/wiki/User:Liridon\" title=\"User:Liridon\">User:Liridon</a>', 'patrolled': True, 'revision': {'new': 935871412, 'old': 902217930}, 'server_name': 'www.wikidata.org', 'server_script_path': '/w', 'server_url': 'https://www.wikidata.org', 'timestamp': 1557248308, 'title': 'Q18972845', 'type': 'edit', 'user': 'Liridon', 'wiki': 'wikidatawiki'}\n",
      "...\n",
      "\n"
     ]
    },
    {
     "name": "stdout",
     "output_type": "stream",
     "text": [
      "-------------------------------------------\n",
      "Time: 2019-05-07 18:58:50\n",
      "-------------------------------------------\n",
      "\n",
      "-------------------------------------------\n",
      "Time: 2019-05-07 18:59:00\n",
      "-------------------------------------------\n",
      "\n"
     ]
    }
   ],
   "source": [
    "ssc.stop(stopSparkContext=False, stopGraceFully=True)"
   ]
  },
  {
   "cell_type": "markdown",
   "metadata": {},
   "source": [
    "**2.2.a** Create a stream from `wiki-edits` which contains only the `type` and `wiki` fields."
   ]
  },
  {
   "cell_type": "code",
   "execution_count": 41,
   "metadata": {},
   "outputs": [],
   "source": [
    "ssc = StreamingContext(sc, 10)\n",
    "dstream = KafkaUtils.createStream(ssc, ZOOKEEPER_QUORUM, 'ebouille-test-wiki', {'wiki-edits': 1})\n",
    "wiki_dstream = dstream.flatMap(lambda x: parse_wiki(x[1]))\n",
    "\n",
    "wiki_dstream2 = wiki_dstream.map(lambda x: {'type': x['type'], 'wiki': x['wiki']})\n",
    "wiki_dstream2.pprint()\n",
    "\n",
    "ssc.start()"
   ]
  },
  {
   "cell_type": "code",
   "execution_count": 42,
   "metadata": {},
   "outputs": [
    {
     "name": "stdout",
     "output_type": "stream",
     "text": [
      "-------------------------------------------\n",
      "Time: 2019-05-07 18:59:30\n",
      "-------------------------------------------\n",
      "{'type': 'edit', 'wiki': 'enwiktionary'}\n",
      "{'type': 'edit', 'wiki': 'frwiki'}\n",
      "{'type': 'new', 'wiki': 'itwiki'}\n",
      "{'type': 'log', 'wiki': 'commonswiki'}\n",
      "{'type': 'new', 'wiki': 'enwiki'}\n",
      "{'type': 'edit', 'wiki': 'etwiki'}\n",
      "{'type': 'edit', 'wiki': 'wikidatawiki'}\n",
      "{'type': 'categorize', 'wiki': 'commonswiki'}\n",
      "{'type': 'categorize', 'wiki': 'commonswiki'}\n",
      "{'type': 'edit', 'wiki': 'enwiki'}\n",
      "...\n",
      "\n",
      "-------------------------------------------\n",
      "Time: 2019-05-07 18:59:40\n",
      "-------------------------------------------\n",
      "\n",
      "-------------------------------------------\n",
      "Time: 2019-05-07 18:59:50\n",
      "-------------------------------------------\n",
      "\n"
     ]
    }
   ],
   "source": [
    "ssc.stop(stopSparkContext=False, stopGraceFully=True)"
   ]
  },
  {
   "cell_type": "markdown",
   "metadata": {},
   "source": [
    "## 2.3 Window operations\n",
    "\n",
    "We have seen how to collect data into a stream on spark RDDs and how to apply simple transformations on them. Spark allows to perform window operations on streams.\n",
    "\n",
    "Documentation: https://spark.apache.org/docs/2.3.0/streaming-programming-guide.html#window-operations"
   ]
  },
  {
   "cell_type": "markdown",
   "metadata": {},
   "source": [
    "Let's have a look at what we can get from the `wiki-edits`. We will perform operations on windows of size 10 minutes, every 2 seconds.\n",
    "\n",
    "As a simple example, here is how to count the number of messages for such a window."
   ]
  },
  {
   "cell_type": "code",
   "execution_count": 43,
   "metadata": {},
   "outputs": [],
   "source": [
    "ssc = StreamingContext(sc, 2)\n",
    "ssc.checkpoint('hdfs:///homes/{}/wikicheck/'.format(username))\n",
    "dstream = KafkaUtils.createStream(ssc, ZOOKEEPER_QUORUM, 'test-wiki-group-' + username, {'wiki-edits': 1})\n",
    "wiki_dstream = dstream.flatMap(lambda x: parse_wiki(x[1]))"
   ]
  },
  {
   "cell_type": "code",
   "execution_count": 44,
   "metadata": {
    "collapsed": true
   },
   "outputs": [],
   "source": [
    "# 600s = 10minutes, every 2 seconds\n",
    "wiki_counts = wiki_dstream.countByWindow(600, 2)"
   ]
  },
  {
   "cell_type": "code",
   "execution_count": 45,
   "metadata": {
    "collapsed": true
   },
   "outputs": [],
   "source": [
    "wiki_counts.pprint()"
   ]
  },
  {
   "cell_type": "code",
   "execution_count": 46,
   "metadata": {
    "scrolled": true
   },
   "outputs": [
    {
     "name": "stdout",
     "output_type": "stream",
     "text": [
      "-------------------------------------------\n",
      "Time: 2019-05-07 19:00:18\n",
      "-------------------------------------------\n",
      "2206\n",
      "\n",
      "-------------------------------------------\n",
      "Time: 2019-05-07 19:00:20\n",
      "-------------------------------------------\n",
      "2259\n",
      "\n",
      "-------------------------------------------\n",
      "Time: 2019-05-07 19:00:22\n",
      "-------------------------------------------\n",
      "2281\n",
      "\n",
      "-------------------------------------------\n",
      "Time: 2019-05-07 19:00:24\n",
      "-------------------------------------------\n",
      "2341\n",
      "\n",
      "-------------------------------------------\n",
      "Time: 2019-05-07 19:00:26\n",
      "-------------------------------------------\n",
      "2378\n",
      "\n",
      "-------------------------------------------\n",
      "Time: 2019-05-07 19:00:28\n",
      "-------------------------------------------\n",
      "2419\n",
      "\n",
      "-------------------------------------------\n",
      "Time: 2019-05-07 19:00:30\n",
      "-------------------------------------------\n",
      "2468\n",
      "\n",
      "-------------------------------------------\n",
      "Time: 2019-05-07 19:00:32\n",
      "-------------------------------------------\n",
      "2526\n",
      "\n",
      "-------------------------------------------\n",
      "Time: 2019-05-07 19:00:34\n",
      "-------------------------------------------\n",
      "2552\n",
      "\n",
      "-------------------------------------------\n",
      "Time: 2019-05-07 19:00:36\n",
      "-------------------------------------------\n",
      "2601\n",
      "\n",
      "-------------------------------------------\n",
      "Time: 2019-05-07 19:00:38\n",
      "-------------------------------------------\n",
      "2641\n",
      "\n",
      "-------------------------------------------\n",
      "Time: 2019-05-07 19:00:40\n",
      "-------------------------------------------\n",
      "2684\n",
      "\n",
      "-------------------------------------------\n",
      "Time: 2019-05-07 19:00:42\n",
      "-------------------------------------------\n",
      "2720\n",
      "\n",
      "-------------------------------------------\n",
      "Time: 2019-05-07 19:00:44\n",
      "-------------------------------------------\n",
      "2779\n",
      "\n",
      "-------------------------------------------\n",
      "Time: 2019-05-07 19:00:46\n",
      "-------------------------------------------\n",
      "2824\n",
      "\n",
      "-------------------------------------------\n",
      "Time: 2019-05-07 19:00:48\n",
      "-------------------------------------------\n",
      "2871\n",
      "\n",
      "-------------------------------------------\n",
      "Time: 2019-05-07 19:00:50\n",
      "-------------------------------------------\n",
      "2903\n",
      "\n",
      "-------------------------------------------\n",
      "Time: 2019-05-07 19:00:52\n",
      "-------------------------------------------\n",
      "2966\n",
      "\n",
      "-------------------------------------------\n",
      "Time: 2019-05-07 19:00:54\n",
      "-------------------------------------------\n",
      "3003\n",
      "\n",
      "-------------------------------------------\n",
      "Time: 2019-05-07 19:00:56\n",
      "-------------------------------------------\n",
      "3036\n",
      "\n",
      "-------------------------------------------\n",
      "Time: 2019-05-07 19:00:58\n",
      "-------------------------------------------\n",
      "3081\n",
      "\n",
      "-------------------------------------------\n",
      "Time: 2019-05-07 19:01:00\n",
      "-------------------------------------------\n",
      "3135\n",
      "\n",
      "-------------------------------------------\n",
      "Time: 2019-05-07 19:01:02\n",
      "-------------------------------------------\n",
      "3175\n",
      "\n",
      "-------------------------------------------\n",
      "Time: 2019-05-07 19:01:04\n",
      "-------------------------------------------\n",
      "3229\n",
      "\n",
      "-------------------------------------------\n",
      "Time: 2019-05-07 19:01:06\n",
      "-------------------------------------------\n",
      "3263\n",
      "\n",
      "-------------------------------------------\n",
      "Time: 2019-05-07 19:01:08\n",
      "-------------------------------------------\n",
      "3310\n",
      "\n",
      "-------------------------------------------\n",
      "Time: 2019-05-07 19:01:10\n",
      "-------------------------------------------\n",
      "3347\n",
      "\n",
      "-------------------------------------------\n",
      "Time: 2019-05-07 19:01:12\n",
      "-------------------------------------------\n",
      "3381\n",
      "\n",
      "-------------------------------------------\n",
      "Time: 2019-05-07 19:01:14\n",
      "-------------------------------------------\n",
      "3453\n",
      "\n",
      "-------------------------------------------\n",
      "Time: 2019-05-07 19:01:16\n",
      "-------------------------------------------\n",
      "3512\n",
      "\n",
      "-------------------------------------------\n",
      "Time: 2019-05-07 19:01:18\n",
      "-------------------------------------------\n",
      "3549\n",
      "\n",
      "-------------------------------------------\n",
      "Time: 2019-05-07 19:01:20\n",
      "-------------------------------------------\n",
      "3607\n",
      "\n",
      "-------------------------------------------\n",
      "Time: 2019-05-07 19:01:22\n",
      "-------------------------------------------\n",
      "3665\n",
      "\n",
      "-------------------------------------------\n",
      "Time: 2019-05-07 19:01:24\n",
      "-------------------------------------------\n",
      "3704\n",
      "\n"
     ]
    }
   ],
   "source": [
    "ssc.start()"
   ]
  },
  {
   "cell_type": "code",
   "execution_count": 47,
   "metadata": {},
   "outputs": [
    {
     "name": "stdout",
     "output_type": "stream",
     "text": [
      "-------------------------------------------\n",
      "Time: 2019-05-07 19:01:26\n",
      "-------------------------------------------\n",
      "3704\n",
      "\n",
      "-------------------------------------------\n",
      "Time: 2019-05-07 19:01:28\n",
      "-------------------------------------------\n",
      "3704\n",
      "\n",
      "-------------------------------------------\n",
      "Time: 2019-05-07 19:01:30\n",
      "-------------------------------------------\n",
      "3704\n",
      "\n",
      "-------------------------------------------\n",
      "Time: 2019-05-07 19:01:32\n",
      "-------------------------------------------\n",
      "3704\n",
      "\n",
      "-------------------------------------------\n",
      "Time: 2019-05-07 19:01:34\n",
      "-------------------------------------------\n",
      "3704\n",
      "\n",
      "-------------------------------------------\n",
      "Time: 2019-05-07 19:01:36\n",
      "-------------------------------------------\n",
      "3704\n",
      "\n",
      "-------------------------------------------\n",
      "Time: 2019-05-07 19:01:38\n",
      "-------------------------------------------\n",
      "3704\n",
      "\n",
      "-------------------------------------------\n",
      "Time: 2019-05-07 19:01:40\n",
      "-------------------------------------------\n",
      "3704\n",
      "\n",
      "-------------------------------------------\n",
      "Time: 2019-05-07 19:01:42\n",
      "-------------------------------------------\n",
      "3704\n",
      "\n",
      "-------------------------------------------\n",
      "Time: 2019-05-07 19:01:44\n",
      "-------------------------------------------\n",
      "3704\n",
      "\n",
      "-------------------------------------------\n",
      "Time: 2019-05-07 19:01:46\n",
      "-------------------------------------------\n",
      "3704\n",
      "\n",
      "-------------------------------------------\n",
      "Time: 2019-05-07 19:01:48\n",
      "-------------------------------------------\n",
      "3704\n",
      "\n"
     ]
    }
   ],
   "source": [
    "ssc.stop(stopSparkContext=False, stopGraceFully=True)"
   ]
  },
  {
   "cell_type": "markdown",
   "metadata": {},
   "source": [
    "Look at the documentation to see how to use the window operations.\n",
    "\n",
    "**2.3.a** Create a stream that counts the actions done by a bot and those done by humans within the time window.\n",
    "\n",
    "**2.3.b** Create a stream that gets the number of actions by `type`. Also get the number of actions by `wiki`.\n",
    "\n",
    "**2.3.c** Send the above streams to kafka topics (example in **2.1**) and use that to dynamically plot:\n",
    "- the volume of actions by bots vs actions by humans.\n",
    "- the volume of actions by `type`, by `wiki`,\n",
    "\n",
    "Use `wiki-plot-bot-<username>`,  `wiki-plot-type-<username>` and `wiki-plot-wiki-<username>` for the respective topic names."
   ]
  },
  {
   "cell_type": "code",
   "execution_count": 48,
   "metadata": {},
   "outputs": [
    {
     "name": "stdout",
     "output_type": "stream",
     "text": [
      "-------------------------------------------\n",
      "Time: 2019-05-07 19:02:06\n",
      "-------------------------------------------\n",
      "('human', 868)\n",
      "('bot', 289)\n",
      "\n",
      "-------------------------------------------\n",
      "Time: 2019-05-07 19:02:08\n",
      "-------------------------------------------\n",
      "('human', 896)\n",
      "('bot', 302)\n",
      "\n",
      "-------------------------------------------\n",
      "Time: 2019-05-07 19:02:10\n",
      "-------------------------------------------\n",
      "('human', 918)\n",
      "('bot', 312)\n",
      "\n",
      "-------------------------------------------\n",
      "Time: 2019-05-07 19:02:12\n",
      "-------------------------------------------\n",
      "('human', 971)\n",
      "('bot', 338)\n",
      "\n",
      "-------------------------------------------\n",
      "Time: 2019-05-07 19:02:14\n",
      "-------------------------------------------\n",
      "('human', 1015)\n",
      "('bot', 355)\n",
      "\n",
      "-------------------------------------------\n",
      "Time: 2019-05-07 19:02:16\n",
      "-------------------------------------------\n",
      "('human', 1044)\n",
      "('bot', 365)\n",
      "\n",
      "-------------------------------------------\n",
      "Time: 2019-05-07 19:02:18\n",
      "-------------------------------------------\n",
      "('human', 1078)\n",
      "('bot', 382)\n",
      "\n"
     ]
    }
   ],
   "source": [
    "#Answer 2.3.a: create a stream and count actions by bot vs actions by humans\n",
    "ssc = StreamingContext(sc, 2)\n",
    "ssc.checkpoint('hdfs:///homes/{}/wikicheck/'.format(username))\n",
    "dstream = KafkaUtils.createStream(ssc, ZOOKEEPER_QUORUM, 'test-wiki-group-' + username, {'wiki-edits': 1})\n",
    "wiki_dstream = dstream.flatMap(lambda x: parse_wiki(x[1]))\n",
    "\n",
    "wiki_count_bot = wiki_dstream.map(lambda x: 'bot' if x['bot'] else 'human').countByValueAndWindow(600, 2)\n",
    "\n",
    "wiki_count_bot.pprint()\n",
    "ssc.start()"
   ]
  },
  {
   "cell_type": "code",
   "execution_count": 49,
   "metadata": {},
   "outputs": [
    {
     "name": "stdout",
     "output_type": "stream",
     "text": [
      "-------------------------------------------\n",
      "Time: 2019-05-07 19:02:20\n",
      "-------------------------------------------\n",
      "('human', 1096)\n",
      "('bot', 396)\n",
      "\n",
      "-------------------------------------------\n",
      "Time: 2019-05-07 19:02:22\n",
      "-------------------------------------------\n",
      "('human', 1096)\n",
      "('bot', 396)\n",
      "\n",
      "-------------------------------------------\n",
      "Time: 2019-05-07 19:02:24\n",
      "-------------------------------------------\n",
      "('human', 1096)\n",
      "('bot', 396)\n",
      "\n",
      "-------------------------------------------\n",
      "Time: 2019-05-07 19:02:26\n",
      "-------------------------------------------\n",
      "('human', 1096)\n",
      "('bot', 396)\n",
      "\n",
      "-------------------------------------------\n",
      "Time: 2019-05-07 19:02:28\n",
      "-------------------------------------------\n",
      "('human', 1096)\n",
      "('bot', 396)\n",
      "\n",
      "-------------------------------------------\n",
      "Time: 2019-05-07 19:02:30\n",
      "-------------------------------------------\n",
      "('human', 1096)\n",
      "('bot', 396)\n",
      "\n",
      "-------------------------------------------\n",
      "Time: 2019-05-07 19:02:32\n",
      "-------------------------------------------\n",
      "('human', 1096)\n",
      "('bot', 396)\n",
      "\n",
      "-------------------------------------------\n",
      "Time: 2019-05-07 19:02:34\n",
      "-------------------------------------------\n",
      "('human', 1096)\n",
      "('bot', 396)\n",
      "\n",
      "-------------------------------------------\n",
      "Time: 2019-05-07 19:02:36\n",
      "-------------------------------------------\n",
      "('human', 1096)\n",
      "('bot', 396)\n",
      "\n",
      "-------------------------------------------\n",
      "Time: 2019-05-07 19:02:38\n",
      "-------------------------------------------\n",
      "('human', 1096)\n",
      "('bot', 396)\n",
      "\n",
      "-------------------------------------------\n",
      "Time: 2019-05-07 19:02:40\n",
      "-------------------------------------------\n",
      "('human', 1096)\n",
      "('bot', 396)\n",
      "\n",
      "-------------------------------------------\n",
      "Time: 2019-05-07 19:02:42\n",
      "-------------------------------------------\n",
      "('human', 1096)\n",
      "('bot', 396)\n",
      "\n",
      "-------------------------------------------\n",
      "Time: 2019-05-07 19:02:44\n",
      "-------------------------------------------\n",
      "('human', 1096)\n",
      "('bot', 396)\n",
      "\n"
     ]
    }
   ],
   "source": [
    "ssc.stop(stopSparkContext=False, stopGraceFully=True)"
   ]
  },
  {
   "cell_type": "code",
   "execution_count": 50,
   "metadata": {},
   "outputs": [
    {
     "name": "stdout",
     "output_type": "stream",
     "text": [
      "-------------------------------------------\n",
      "Time: 2019-05-07 19:03:04\n",
      "-------------------------------------------\n",
      "('edit', 63470)\n",
      "('categorize', 23107)\n",
      "('new', 2165)\n",
      "('log', 6416)\n",
      "('142', 47)\n",
      "\n",
      "-------------------------------------------\n",
      "Time: 2019-05-07 19:03:04\n",
      "-------------------------------------------\n",
      "('wikidatawiki', 32104)\n",
      "('jawiki', 762)\n",
      "('commonswiki', 14516)\n",
      "('enwiki', 13232)\n",
      "('enwiktionary', 4300)\n",
      "('svwikisource', 60)\n",
      "('arwiki', 1086)\n",
      "('cawiki', 655)\n",
      "('idwiki', 182)\n",
      "('nowiki', 179)\n",
      "...\n",
      "\n",
      "-------------------------------------------\n",
      "Time: 2019-05-07 19:03:06\n",
      "-------------------------------------------\n",
      "('edit', 109606)\n",
      "('categorize', 40718)\n",
      "('new', 4153)\n",
      "('log', 10791)\n",
      "('142', 67)\n",
      "\n"
     ]
    }
   ],
   "source": [
    "#Answer 2.3.b: Create stream that gets the number of actions by type. Also get the number of actions by wiki.\n",
    "ssc = StreamingContext(sc, 2)\n",
    "ssc.checkpoint('hdfs:///homes/{}/wikicheck/'.format(username))\n",
    "dstream = KafkaUtils.createStream(ssc, ZOOKEEPER_QUORUM, 'test-wiki-group', {'wiki-edits': 1})\n",
    "wiki_dstream = dstream.flatMap(lambda x: parse_wiki(x[1]))\n",
    "\n",
    "wiki_count_type = wiki_dstream.map(lambda x: x['type']).countByValueAndWindow(600, 2)\n",
    "\n",
    "wiki_count_wiki = wiki_dstream.map(lambda x: x['wiki']).countByValueAndWindow(600, 2)\n",
    "\n",
    "wiki_count_type.pprint()\n",
    "wiki_count_wiki.pprint()\n",
    "ssc.start()"
   ]
  },
  {
   "cell_type": "code",
   "execution_count": 51,
   "metadata": {},
   "outputs": [
    {
     "name": "stdout",
     "output_type": "stream",
     "text": [
      "-------------------------------------------\n",
      "Time: 2019-05-07 19:03:06\n",
      "-------------------------------------------\n",
      "('wikidatawiki', 53907)\n",
      "('jawiki', 1293)\n",
      "('commonswiki', 25471)\n",
      "('enwiki', 24546)\n",
      "('enwiktionary', 4835)\n",
      "('svwikisource', 95)\n",
      "('arwiki', 2419)\n",
      "('cawiki', 1237)\n",
      "('idwiki', 301)\n",
      "('nowiki', 346)\n",
      "...\n",
      "\n",
      "-------------------------------------------\n",
      "Time: 2019-05-07 19:03:08\n",
      "-------------------------------------------\n",
      "('edit', 109634)\n",
      "('categorize', 40734)\n",
      "('new', 4154)\n",
      "('log', 10795)\n",
      "('142', 67)\n",
      "\n",
      "-------------------------------------------\n",
      "Time: 2019-05-07 19:03:08\n",
      "-------------------------------------------\n",
      "('wikidatawiki', 53921)\n",
      "('jawiki', 1293)\n",
      "('commonswiki', 25491)\n",
      "('enwiki', 24550)\n",
      "('enwiktionary', 4835)\n",
      "('svwikisource', 95)\n",
      "('arwiki', 2419)\n",
      "('cawiki', 1237)\n",
      "('idwiki', 301)\n",
      "('nowiki', 347)\n",
      "...\n",
      "\n",
      "-------------------------------------------\n",
      "Time: 2019-05-07 19:03:10\n",
      "-------------------------------------------\n",
      "('edit', 109665)\n",
      "('categorize', 40739)\n",
      "('new', 4159)\n",
      "('log', 10795)\n",
      "('142', 67)\n",
      "\n",
      "-------------------------------------------\n",
      "Time: 2019-05-07 19:03:10\n",
      "-------------------------------------------\n",
      "('wikidatawiki', 53937)\n",
      "('jawiki', 1293)\n",
      "('commonswiki', 25492)\n",
      "('enwiki', 24557)\n",
      "('enwiktionary', 4836)\n",
      "('svwikisource', 95)\n",
      "('arwiki', 2421)\n",
      "('cawiki', 1237)\n",
      "('idwiki', 301)\n",
      "('nowiki', 347)\n",
      "...\n",
      "\n",
      "-------------------------------------------\n",
      "Time: 2019-05-07 19:03:12\n",
      "-------------------------------------------\n",
      "('edit', 109696)\n",
      "('categorize', 40753)\n",
      "('new', 4161)\n",
      "('log', 10796)\n",
      "('142', 67)\n",
      "\n",
      "-------------------------------------------\n",
      "Time: 2019-05-07 19:03:12\n",
      "-------------------------------------------\n",
      "('wikidatawiki', 53953)\n",
      "('jawiki', 1293)\n",
      "('commonswiki', 25502)\n",
      "('enwiki', 24559)\n",
      "('enwiktionary', 4837)\n",
      "('svwikisource', 95)\n",
      "('arwiki', 2423)\n",
      "('cawiki', 1238)\n",
      "('idwiki', 301)\n",
      "('nowiki', 347)\n",
      "...\n",
      "\n",
      "-------------------------------------------\n",
      "Time: 2019-05-07 19:03:14\n",
      "-------------------------------------------\n",
      "('edit', 109725)\n",
      "('categorize', 40764)\n",
      "('new', 4163)\n",
      "('log', 10799)\n",
      "('142', 67)\n",
      "\n",
      "-------------------------------------------\n",
      "Time: 2019-05-07 19:03:14\n",
      "-------------------------------------------\n",
      "('wikidatawiki', 53969)\n",
      "('jawiki', 1293)\n",
      "('commonswiki', 25503)\n",
      "('enwiki', 24567)\n",
      "('enwiktionary', 4837)\n",
      "('svwikisource', 95)\n",
      "('arwiki', 2433)\n",
      "('cawiki', 1238)\n",
      "('idwiki', 301)\n",
      "('nowiki', 347)\n",
      "...\n",
      "\n",
      "-------------------------------------------\n",
      "Time: 2019-05-07 19:03:16\n",
      "-------------------------------------------\n",
      "('edit', 109725)\n",
      "('categorize', 40764)\n",
      "('new', 4163)\n",
      "('log', 10799)\n",
      "('142', 67)\n",
      "\n",
      "-------------------------------------------\n",
      "Time: 2019-05-07 19:03:16\n",
      "-------------------------------------------\n",
      "('wikidatawiki', 53969)\n",
      "('jawiki', 1293)\n",
      "('commonswiki', 25503)\n",
      "('enwiki', 24567)\n",
      "('enwiktionary', 4837)\n",
      "('svwikisource', 95)\n",
      "('arwiki', 2433)\n",
      "('cawiki', 1238)\n",
      "('idwiki', 301)\n",
      "('nowiki', 347)\n",
      "...\n",
      "\n",
      "-------------------------------------------\n",
      "Time: 2019-05-07 19:03:18\n",
      "-------------------------------------------\n",
      "('edit', 109725)\n",
      "('categorize', 40764)\n",
      "('new', 4163)\n",
      "('log', 10799)\n",
      "('142', 67)\n",
      "\n",
      "-------------------------------------------\n",
      "Time: 2019-05-07 19:03:18\n",
      "-------------------------------------------\n",
      "('wikidatawiki', 53969)\n",
      "('jawiki', 1293)\n",
      "('commonswiki', 25503)\n",
      "('enwiki', 24567)\n",
      "('enwiktionary', 4837)\n",
      "('svwikisource', 95)\n",
      "('arwiki', 2433)\n",
      "('cawiki', 1238)\n",
      "('idwiki', 301)\n",
      "('nowiki', 347)\n",
      "...\n",
      "\n"
     ]
    }
   ],
   "source": [
    "ssc.stop(stopSparkContext=False, stopGraceFully=True)"
   ]
  },
  {
   "cell_type": "code",
   "execution_count": 52,
   "metadata": {},
   "outputs": [],
   "source": [
    "#Answer 2.3.c: write the streams to topics\n",
    "ssc = StreamingContext(sc, 2)\n",
    "ssc.checkpoint('hdfs:///homes/{}/wikicheck/'.format(username))\n",
    "dstream = KafkaUtils.createStream(ssc, ZOOKEEPER_QUORUM, 'test-wiki-group-' + username, {'wiki-edits': 1})\n",
    "wiki_dstream = dstream.flatMap(lambda x: parse_wiki(x[1])).cache()\n",
    "\n",
    "wiki_count_type = wiki_dstream.map(lambda x: x['type']).countByValueAndWindow(600, 30)\n",
    "wiki_count_wiki = wiki_dstream.map(lambda x: x['wiki']).countByValueAndWindow(600, 30)\n",
    "wiki_count_bot = wiki_dstream.map(lambda x: 'bot' if x['bot'] else 'human').countByValueAndWindow(600, 30)\n",
    "\n",
    "\n",
    "from pykafka import KafkaClient\n",
    "from functools import partial\n",
    "\n",
    "def sendToKafka(iter, topic):\n",
    "    client = KafkaClient(zookeeper_hosts=ZOOKEEPER_QUORUM)\n",
    "    with client.topics[('wiki-plot-{}-{}'.format(topic, username)).encode()].get_sync_producer() as producer:\n",
    "        for record in iter:\n",
    "            producer.produce(\"{},{}\".format(*record).encode())\n",
    "            \n",
    "\n",
    "wiki_count_type.foreachRDD(lambda rdd: rdd.foreachPartition(partial(sendToKafka, topic=\"type\")))\n",
    "wiki_count_wiki.foreachRDD(lambda rdd: rdd.foreachPartition(partial(sendToKafka, topic=\"wiki\")))\n",
    "wiki_count_bot.foreachRDD(lambda rdd: rdd.foreachPartition(partial(sendToKafka, topic=\"bot\")))\n",
    "\n",
    "ssc.start()"
   ]
  },
  {
   "cell_type": "markdown",
   "metadata": {},
   "source": [
    "Here is an example of a possible plot, but you can use pie charts or other representations as well."
   ]
  },
  {
   "cell_type": "code",
   "execution_count": null,
   "metadata": {},
   "outputs": [
    {
     "data": {
      "text/html": [
       "\n",
       "    <div class=\"bk-root\">\n",
       "        <a href=\"https://bokeh.pydata.org\" target=\"_blank\" class=\"bk-logo bk-logo-small bk-logo-notebook\"></a>\n",
       "        <span id=\"633b5963-9ba6-43f7-9791-99900818e555\">Loading BokehJS ...</span>\n",
       "    </div>"
      ]
     },
     "metadata": {},
     "output_type": "display_data"
    },
    {
     "data": {
      "application/javascript": [
       "\n",
       "(function(root) {\n",
       "  function now() {\n",
       "    return new Date();\n",
       "  }\n",
       "\n",
       "  var force = true;\n",
       "\n",
       "  if (typeof (root._bokeh_onload_callbacks) === \"undefined\" || force === true) {\n",
       "    root._bokeh_onload_callbacks = [];\n",
       "    root._bokeh_is_loading = undefined;\n",
       "  }\n",
       "\n",
       "  var JS_MIME_TYPE = 'application/javascript';\n",
       "  var HTML_MIME_TYPE = 'text/html';\n",
       "  var EXEC_MIME_TYPE = 'application/vnd.bokehjs_exec.v0+json';\n",
       "  var CLASS_NAME = 'output_bokeh rendered_html';\n",
       "\n",
       "  /**\n",
       "   * Render data to the DOM node\n",
       "   */\n",
       "  function render(props, node) {\n",
       "    var script = document.createElement(\"script\");\n",
       "    node.appendChild(script);\n",
       "  }\n",
       "\n",
       "  /**\n",
       "   * Handle when an output is cleared or removed\n",
       "   */\n",
       "  function handleClearOutput(event, handle) {\n",
       "    var cell = handle.cell;\n",
       "\n",
       "    var id = cell.output_area._bokeh_element_id;\n",
       "    var server_id = cell.output_area._bokeh_server_id;\n",
       "    // Clean up Bokeh references\n",
       "    if (id !== undefined) {\n",
       "      Bokeh.index[id].model.document.clear();\n",
       "      delete Bokeh.index[id];\n",
       "    }\n",
       "\n",
       "    if (server_id !== undefined) {\n",
       "      // Clean up Bokeh references\n",
       "      var cmd = \"from bokeh.io.state import curstate; print(curstate().uuid_to_server['\" + server_id + \"'].get_sessions()[0].document.roots[0]._id)\";\n",
       "      cell.notebook.kernel.execute(cmd, {\n",
       "        iopub: {\n",
       "          output: function(msg) {\n",
       "            var element_id = msg.content.text.trim();\n",
       "            Bokeh.index[element_id].model.document.clear();\n",
       "            delete Bokeh.index[element_id];\n",
       "          }\n",
       "        }\n",
       "      });\n",
       "      // Destroy server and session\n",
       "      var cmd = \"import bokeh.io.notebook as ion; ion.destroy_server('\" + server_id + \"')\";\n",
       "      cell.notebook.kernel.execute(cmd);\n",
       "    }\n",
       "  }\n",
       "\n",
       "  /**\n",
       "   * Handle when a new output is added\n",
       "   */\n",
       "  function handleAddOutput(event, handle) {\n",
       "    var output_area = handle.output_area;\n",
       "    var output = handle.output;\n",
       "\n",
       "    // limit handleAddOutput to display_data with EXEC_MIME_TYPE content only\n",
       "    if ((output.output_type != \"display_data\") || (!output.data.hasOwnProperty(EXEC_MIME_TYPE))) {\n",
       "      return\n",
       "    }\n",
       "\n",
       "    var toinsert = output_area.element.find(`.${CLASS_NAME.split(' ')[0]}`);\n",
       "\n",
       "    if (output.metadata[EXEC_MIME_TYPE][\"id\"] !== undefined) {\n",
       "      toinsert[0].firstChild.textContent = output.data[JS_MIME_TYPE];\n",
       "      // store reference to embed id on output_area\n",
       "      output_area._bokeh_element_id = output.metadata[EXEC_MIME_TYPE][\"id\"];\n",
       "    }\n",
       "    if (output.metadata[EXEC_MIME_TYPE][\"server_id\"] !== undefined) {\n",
       "      var bk_div = document.createElement(\"div\");\n",
       "      bk_div.innerHTML = output.data[HTML_MIME_TYPE];\n",
       "      var script_attrs = bk_div.children[0].attributes;\n",
       "      for (var i = 0; i < script_attrs.length; i++) {\n",
       "        toinsert[0].firstChild.setAttribute(script_attrs[i].name, script_attrs[i].value);\n",
       "      }\n",
       "      // store reference to server id on output_area\n",
       "      output_area._bokeh_server_id = output.metadata[EXEC_MIME_TYPE][\"server_id\"];\n",
       "    }\n",
       "  }\n",
       "\n",
       "  function register_renderer(events, OutputArea) {\n",
       "\n",
       "    function append_mime(data, metadata, element) {\n",
       "      // create a DOM node to render to\n",
       "      var toinsert = this.create_output_subarea(\n",
       "        metadata,\n",
       "        CLASS_NAME,\n",
       "        EXEC_MIME_TYPE\n",
       "      );\n",
       "      this.keyboard_manager.register_events(toinsert);\n",
       "      // Render to node\n",
       "      var props = {data: data, metadata: metadata[EXEC_MIME_TYPE]};\n",
       "      render(props, toinsert[0]);\n",
       "      element.append(toinsert);\n",
       "      return toinsert\n",
       "    }\n",
       "\n",
       "    /* Handle when an output is cleared or removed */\n",
       "    events.on('clear_output.CodeCell', handleClearOutput);\n",
       "    events.on('delete.Cell', handleClearOutput);\n",
       "\n",
       "    /* Handle when a new output is added */\n",
       "    events.on('output_added.OutputArea', handleAddOutput);\n",
       "\n",
       "    /**\n",
       "     * Register the mime type and append_mime function with output_area\n",
       "     */\n",
       "    OutputArea.prototype.register_mime_type(EXEC_MIME_TYPE, append_mime, {\n",
       "      /* Is output safe? */\n",
       "      safe: true,\n",
       "      /* Index of renderer in `output_area.display_order` */\n",
       "      index: 0\n",
       "    });\n",
       "  }\n",
       "\n",
       "  // register the mime type if in Jupyter Notebook environment and previously unregistered\n",
       "  if (root.Jupyter !== undefined) {\n",
       "    var events = require('base/js/events');\n",
       "    var OutputArea = require('notebook/js/outputarea').OutputArea;\n",
       "\n",
       "    if (OutputArea.prototype.mime_types().indexOf(EXEC_MIME_TYPE) == -1) {\n",
       "      register_renderer(events, OutputArea);\n",
       "    }\n",
       "  }\n",
       "\n",
       "  \n",
       "  if (typeof (root._bokeh_timeout) === \"undefined\" || force === true) {\n",
       "    root._bokeh_timeout = Date.now() + 5000;\n",
       "    root._bokeh_failed_load = false;\n",
       "  }\n",
       "\n",
       "  var NB_LOAD_WARNING = {'data': {'text/html':\n",
       "     \"<div style='background-color: #fdd'>\\n\"+\n",
       "     \"<p>\\n\"+\n",
       "     \"BokehJS does not appear to have successfully loaded. If loading BokehJS from CDN, this \\n\"+\n",
       "     \"may be due to a slow or bad network connection. Possible fixes:\\n\"+\n",
       "     \"</p>\\n\"+\n",
       "     \"<ul>\\n\"+\n",
       "     \"<li>re-rerun `output_notebook()` to attempt to load from CDN again, or</li>\\n\"+\n",
       "     \"<li>use INLINE resources instead, as so:</li>\\n\"+\n",
       "     \"</ul>\\n\"+\n",
       "     \"<code>\\n\"+\n",
       "     \"from bokeh.resources import INLINE\\n\"+\n",
       "     \"output_notebook(resources=INLINE)\\n\"+\n",
       "     \"</code>\\n\"+\n",
       "     \"</div>\"}};\n",
       "\n",
       "  function display_loaded() {\n",
       "    var el = document.getElementById(\"633b5963-9ba6-43f7-9791-99900818e555\");\n",
       "    if (el != null) {\n",
       "      el.textContent = \"BokehJS is loading...\";\n",
       "    }\n",
       "    if (root.Bokeh !== undefined) {\n",
       "      if (el != null) {\n",
       "        el.textContent = \"BokehJS \" + root.Bokeh.version + \" successfully loaded.\";\n",
       "      }\n",
       "    } else if (Date.now() < root._bokeh_timeout) {\n",
       "      setTimeout(display_loaded, 100)\n",
       "    }\n",
       "  }\n",
       "\n",
       "\n",
       "  function run_callbacks() {\n",
       "    try {\n",
       "      root._bokeh_onload_callbacks.forEach(function(callback) { callback() });\n",
       "    }\n",
       "    finally {\n",
       "      delete root._bokeh_onload_callbacks\n",
       "    }\n",
       "    console.info(\"Bokeh: all callbacks have finished\");\n",
       "  }\n",
       "\n",
       "  function load_libs(js_urls, callback) {\n",
       "    root._bokeh_onload_callbacks.push(callback);\n",
       "    if (root._bokeh_is_loading > 0) {\n",
       "      console.log(\"Bokeh: BokehJS is being loaded, scheduling callback at\", now());\n",
       "      return null;\n",
       "    }\n",
       "    if (js_urls == null || js_urls.length === 0) {\n",
       "      run_callbacks();\n",
       "      return null;\n",
       "    }\n",
       "    console.log(\"Bokeh: BokehJS not loaded, scheduling load and callback at\", now());\n",
       "    root._bokeh_is_loading = js_urls.length;\n",
       "    for (var i = 0; i < js_urls.length; i++) {\n",
       "      var url = js_urls[i];\n",
       "      var s = document.createElement('script');\n",
       "      s.src = url;\n",
       "      s.async = false;\n",
       "      s.onreadystatechange = s.onload = function() {\n",
       "        root._bokeh_is_loading--;\n",
       "        if (root._bokeh_is_loading === 0) {\n",
       "          console.log(\"Bokeh: all BokehJS libraries loaded\");\n",
       "          run_callbacks()\n",
       "        }\n",
       "      };\n",
       "      s.onerror = function() {\n",
       "        console.warn(\"failed to load library \" + url);\n",
       "      };\n",
       "      console.log(\"Bokeh: injecting script tag for BokehJS library: \", url);\n",
       "      document.getElementsByTagName(\"head\")[0].appendChild(s);\n",
       "    }\n",
       "  };var element = document.getElementById(\"633b5963-9ba6-43f7-9791-99900818e555\");\n",
       "  if (element == null) {\n",
       "    console.log(\"Bokeh: ERROR: autoload.js configured with elementid '633b5963-9ba6-43f7-9791-99900818e555' but no matching script tag was found. \")\n",
       "    return false;\n",
       "  }\n",
       "\n",
       "  var js_urls = [\"https://cdn.pydata.org/bokeh/release/bokeh-0.12.10.min.js\", \"https://cdn.pydata.org/bokeh/release/bokeh-widgets-0.12.10.min.js\", \"https://cdn.pydata.org/bokeh/release/bokeh-tables-0.12.10.min.js\", \"https://cdn.pydata.org/bokeh/release/bokeh-gl-0.12.10.min.js\"];\n",
       "\n",
       "  var inline_js = [\n",
       "    function(Bokeh) {\n",
       "      Bokeh.set_log_level(\"info\");\n",
       "    },\n",
       "    \n",
       "    function(Bokeh) {\n",
       "      \n",
       "    },\n",
       "    function(Bokeh) {\n",
       "      console.log(\"Bokeh: injecting CSS: https://cdn.pydata.org/bokeh/release/bokeh-0.12.10.min.css\");\n",
       "      Bokeh.embed.inject_css(\"https://cdn.pydata.org/bokeh/release/bokeh-0.12.10.min.css\");\n",
       "      console.log(\"Bokeh: injecting CSS: https://cdn.pydata.org/bokeh/release/bokeh-widgets-0.12.10.min.css\");\n",
       "      Bokeh.embed.inject_css(\"https://cdn.pydata.org/bokeh/release/bokeh-widgets-0.12.10.min.css\");\n",
       "      console.log(\"Bokeh: injecting CSS: https://cdn.pydata.org/bokeh/release/bokeh-tables-0.12.10.min.css\");\n",
       "      Bokeh.embed.inject_css(\"https://cdn.pydata.org/bokeh/release/bokeh-tables-0.12.10.min.css\");\n",
       "    }\n",
       "  ];\n",
       "\n",
       "  function run_inline_js() {\n",
       "    \n",
       "    if ((root.Bokeh !== undefined) || (force === true)) {\n",
       "      for (var i = 0; i < inline_js.length; i++) {\n",
       "        inline_js[i].call(root, root.Bokeh);\n",
       "      }if (force === true) {\n",
       "        display_loaded();\n",
       "      }} else if (Date.now() < root._bokeh_timeout) {\n",
       "      setTimeout(run_inline_js, 100);\n",
       "    } else if (!root._bokeh_failed_load) {\n",
       "      console.log(\"Bokeh: BokehJS failed to load within specified timeout.\");\n",
       "      root._bokeh_failed_load = true;\n",
       "    } else if (force !== true) {\n",
       "      var cell = $(document.getElementById(\"633b5963-9ba6-43f7-9791-99900818e555\")).parents('.cell').data().cell;\n",
       "      cell.output_area.append_execute_result(NB_LOAD_WARNING)\n",
       "    }\n",
       "\n",
       "  }\n",
       "\n",
       "  if (root._bokeh_is_loading === 0) {\n",
       "    console.log(\"Bokeh: BokehJS loaded, going straight to plotting\");\n",
       "    run_inline_js();\n",
       "  } else {\n",
       "    load_libs(js_urls, function() {\n",
       "      console.log(\"Bokeh: BokehJS plotting callback run at\", now());\n",
       "      run_inline_js();\n",
       "    });\n",
       "  }\n",
       "}(window));"
      ],
      "application/vnd.bokehjs_load.v0+json": "\n(function(root) {\n  function now() {\n    return new Date();\n  }\n\n  var force = true;\n\n  if (typeof (root._bokeh_onload_callbacks) === \"undefined\" || force === true) {\n    root._bokeh_onload_callbacks = [];\n    root._bokeh_is_loading = undefined;\n  }\n\n  \n\n  \n  if (typeof (root._bokeh_timeout) === \"undefined\" || force === true) {\n    root._bokeh_timeout = Date.now() + 5000;\n    root._bokeh_failed_load = false;\n  }\n\n  var NB_LOAD_WARNING = {'data': {'text/html':\n     \"<div style='background-color: #fdd'>\\n\"+\n     \"<p>\\n\"+\n     \"BokehJS does not appear to have successfully loaded. If loading BokehJS from CDN, this \\n\"+\n     \"may be due to a slow or bad network connection. Possible fixes:\\n\"+\n     \"</p>\\n\"+\n     \"<ul>\\n\"+\n     \"<li>re-rerun `output_notebook()` to attempt to load from CDN again, or</li>\\n\"+\n     \"<li>use INLINE resources instead, as so:</li>\\n\"+\n     \"</ul>\\n\"+\n     \"<code>\\n\"+\n     \"from bokeh.resources import INLINE\\n\"+\n     \"output_notebook(resources=INLINE)\\n\"+\n     \"</code>\\n\"+\n     \"</div>\"}};\n\n  function display_loaded() {\n    var el = document.getElementById(\"633b5963-9ba6-43f7-9791-99900818e555\");\n    if (el != null) {\n      el.textContent = \"BokehJS is loading...\";\n    }\n    if (root.Bokeh !== undefined) {\n      if (el != null) {\n        el.textContent = \"BokehJS \" + root.Bokeh.version + \" successfully loaded.\";\n      }\n    } else if (Date.now() < root._bokeh_timeout) {\n      setTimeout(display_loaded, 100)\n    }\n  }\n\n\n  function run_callbacks() {\n    try {\n      root._bokeh_onload_callbacks.forEach(function(callback) { callback() });\n    }\n    finally {\n      delete root._bokeh_onload_callbacks\n    }\n    console.info(\"Bokeh: all callbacks have finished\");\n  }\n\n  function load_libs(js_urls, callback) {\n    root._bokeh_onload_callbacks.push(callback);\n    if (root._bokeh_is_loading > 0) {\n      console.log(\"Bokeh: BokehJS is being loaded, scheduling callback at\", now());\n      return null;\n    }\n    if (js_urls == null || js_urls.length === 0) {\n      run_callbacks();\n      return null;\n    }\n    console.log(\"Bokeh: BokehJS not loaded, scheduling load and callback at\", now());\n    root._bokeh_is_loading = js_urls.length;\n    for (var i = 0; i < js_urls.length; i++) {\n      var url = js_urls[i];\n      var s = document.createElement('script');\n      s.src = url;\n      s.async = false;\n      s.onreadystatechange = s.onload = function() {\n        root._bokeh_is_loading--;\n        if (root._bokeh_is_loading === 0) {\n          console.log(\"Bokeh: all BokehJS libraries loaded\");\n          run_callbacks()\n        }\n      };\n      s.onerror = function() {\n        console.warn(\"failed to load library \" + url);\n      };\n      console.log(\"Bokeh: injecting script tag for BokehJS library: \", url);\n      document.getElementsByTagName(\"head\")[0].appendChild(s);\n    }\n  };var element = document.getElementById(\"633b5963-9ba6-43f7-9791-99900818e555\");\n  if (element == null) {\n    console.log(\"Bokeh: ERROR: autoload.js configured with elementid '633b5963-9ba6-43f7-9791-99900818e555' but no matching script tag was found. \")\n    return false;\n  }\n\n  var js_urls = [\"https://cdn.pydata.org/bokeh/release/bokeh-0.12.10.min.js\", \"https://cdn.pydata.org/bokeh/release/bokeh-widgets-0.12.10.min.js\", \"https://cdn.pydata.org/bokeh/release/bokeh-tables-0.12.10.min.js\", \"https://cdn.pydata.org/bokeh/release/bokeh-gl-0.12.10.min.js\"];\n\n  var inline_js = [\n    function(Bokeh) {\n      Bokeh.set_log_level(\"info\");\n    },\n    \n    function(Bokeh) {\n      \n    },\n    function(Bokeh) {\n      console.log(\"Bokeh: injecting CSS: https://cdn.pydata.org/bokeh/release/bokeh-0.12.10.min.css\");\n      Bokeh.embed.inject_css(\"https://cdn.pydata.org/bokeh/release/bokeh-0.12.10.min.css\");\n      console.log(\"Bokeh: injecting CSS: https://cdn.pydata.org/bokeh/release/bokeh-widgets-0.12.10.min.css\");\n      Bokeh.embed.inject_css(\"https://cdn.pydata.org/bokeh/release/bokeh-widgets-0.12.10.min.css\");\n      console.log(\"Bokeh: injecting CSS: https://cdn.pydata.org/bokeh/release/bokeh-tables-0.12.10.min.css\");\n      Bokeh.embed.inject_css(\"https://cdn.pydata.org/bokeh/release/bokeh-tables-0.12.10.min.css\");\n    }\n  ];\n\n  function run_inline_js() {\n    \n    if ((root.Bokeh !== undefined) || (force === true)) {\n      for (var i = 0; i < inline_js.length; i++) {\n        inline_js[i].call(root, root.Bokeh);\n      }if (force === true) {\n        display_loaded();\n      }} else if (Date.now() < root._bokeh_timeout) {\n      setTimeout(run_inline_js, 100);\n    } else if (!root._bokeh_failed_load) {\n      console.log(\"Bokeh: BokehJS failed to load within specified timeout.\");\n      root._bokeh_failed_load = true;\n    } else if (force !== true) {\n      var cell = $(document.getElementById(\"633b5963-9ba6-43f7-9791-99900818e555\")).parents('.cell').data().cell;\n      cell.output_area.append_execute_result(NB_LOAD_WARNING)\n    }\n\n  }\n\n  if (root._bokeh_is_loading === 0) {\n    console.log(\"Bokeh: BokehJS loaded, going straight to plotting\");\n    run_inline_js();\n  } else {\n    load_libs(js_urls, function() {\n      console.log(\"Bokeh: BokehJS plotting callback run at\", now());\n      run_inline_js();\n    });\n  }\n}(window));"
     },
     "metadata": {},
     "output_type": "display_data"
    },
    {
     "data": {
      "text/html": [
       "\n",
       "<div class=\"bk-root\">\n",
       "    <div class=\"bk-plotdiv\" id=\"338a1adb-c186-478c-ae81-f510865c23b3\"></div>\n",
       "</div>"
      ]
     },
     "metadata": {},
     "output_type": "display_data"
    },
    {
     "data": {
      "application/javascript": [
       "(function(root) {\n",
       "  function embed_document(root) {\n",
       "    var docs_json = {\"ce3e5927-1571-4b1c-9bf5-761f0789b1af\":{\"roots\":{\"references\":[{\"attributes\":{\"formatter\":{\"id\":\"ae3688ac-6808-47f8-b99a-fe7d68cbbb7f\",\"type\":\"CategoricalTickFormatter\"},\"plot\":{\"id\":\"5c192095-f684-4768-ad92-7974472aaa05\",\"subtype\":\"Figure\",\"type\":\"Plot\"},\"ticker\":{\"id\":\"e7e2c3af-f3c9-45d3-b7b0-44b3d362dad2\",\"type\":\"CategoricalTicker\"}},\"id\":\"dbc71e2b-0978-414d-afa0-95aaf2ff7784\",\"type\":\"CategoricalAxis\"},{\"attributes\":{\"callback\":null},\"id\":\"97964daf-011e-4558-b53d-00b5a3a853ea\",\"type\":\"DataRange1d\"},{\"attributes\":{},\"id\":\"03aecea8-f8b0-40da-9c26-8cd53c307326\",\"type\":\"HelpTool\"},{\"attributes\":{\"bottom_units\":\"screen\",\"fill_alpha\":{\"value\":0.5},\"fill_color\":{\"value\":\"lightgrey\"},\"left_units\":\"screen\",\"level\":\"overlay\",\"line_alpha\":{\"value\":1.0},\"line_color\":{\"value\":\"black\"},\"line_dash\":[4,4],\"line_width\":{\"value\":2},\"plot\":null,\"render_mode\":\"css\",\"right_units\":\"screen\",\"top_units\":\"screen\"},\"id\":\"b4c56cbe-5085-44a2-b1c0-663818b21a97\",\"type\":\"BoxAnnotation\"},{\"attributes\":{\"plot\":{\"id\":\"5c192095-f684-4768-ad92-7974472aaa05\",\"subtype\":\"Figure\",\"type\":\"Plot\"},\"ticker\":{\"id\":\"e7e2c3af-f3c9-45d3-b7b0-44b3d362dad2\",\"type\":\"CategoricalTicker\"}},\"id\":\"409a793d-d636-4eb1-8b8c-d6b8bf920440\",\"type\":\"Grid\"},{\"attributes\":{\"source\":{\"id\":\"9fa160bc-dbe4-485f-aa5f-72bd69a60ff1\",\"type\":\"ColumnDataSource\"}},\"id\":\"48fdf22d-d803-4282-bce8-a52e1bd3f250\",\"type\":\"CDSView\"},{\"attributes\":{},\"id\":\"77c17c2d-c780-4ba0-92a6-0bfdd993b33e\",\"type\":\"PanTool\"},{\"attributes\":{},\"id\":\"5512c559-3ac8-4d05-93b7-e1722859f87a\",\"type\":\"LinearScale\"},{\"attributes\":{},\"id\":\"e7e2c3af-f3c9-45d3-b7b0-44b3d362dad2\",\"type\":\"CategoricalTicker\"},{\"attributes\":{},\"id\":\"0d0393e9-ff3d-4aee-8826-0c060c4caf0d\",\"type\":\"ResetTool\"},{\"attributes\":{\"callback\":null,\"factors\":[\"bot\",\"human\"]},\"id\":\"67f9e1bb-c2f0-4b10-a31d-9fd798d149c5\",\"type\":\"FactorRange\"},{\"attributes\":{\"plot\":null,\"text\":\"Bot Counts\"},\"id\":\"e8743fc0-3dc3-4029-af78-dc0f74bee67f\",\"type\":\"Title\"},{\"attributes\":{\"items\":[{\"id\":\"355d7249-febc-4294-910c-bbdd1880a628\",\"type\":\"LegendItem\"}],\"plot\":{\"id\":\"5c192095-f684-4768-ad92-7974472aaa05\",\"subtype\":\"Figure\",\"type\":\"Plot\"}},\"id\":\"a11c4937-6e48-468e-985e-4fb842c25e69\",\"type\":\"Legend\"},{\"attributes\":{\"callback\":null,\"column_names\":[\"x\",\"y\"],\"data\":{\"x\":[\"bot\",\"human\"],\"y\":[0,0]}},\"id\":\"9fa160bc-dbe4-485f-aa5f-72bd69a60ff1\",\"type\":\"ColumnDataSource\"},{\"attributes\":{},\"id\":\"359bf6a5-633b-4213-9aad-d68f009e7f04\",\"type\":\"CategoricalScale\"},{\"attributes\":{\"data_source\":{\"id\":\"9fa160bc-dbe4-485f-aa5f-72bd69a60ff1\",\"type\":\"ColumnDataSource\"},\"glyph\":{\"id\":\"936d919e-c17c-4469-847e-cd8812e8c45c\",\"type\":\"VBar\"},\"hover_glyph\":null,\"muted_glyph\":null,\"nonselection_glyph\":{\"id\":\"89003a59-728f-4a7c-9b76-4edfa14dac99\",\"type\":\"VBar\"},\"selection_glyph\":null,\"view\":{\"id\":\"48fdf22d-d803-4282-bce8-a52e1bd3f250\",\"type\":\"CDSView\"}},\"id\":\"2aff171c-8fff-43d7-b7a5-8e038abae18f\",\"type\":\"GlyphRenderer\"},{\"attributes\":{\"dimension\":1,\"plot\":{\"id\":\"5c192095-f684-4768-ad92-7974472aaa05\",\"subtype\":\"Figure\",\"type\":\"Plot\"},\"ticker\":{\"id\":\"7c6c7d80-4865-477f-87f8-3167a0e5a742\",\"type\":\"BasicTicker\"}},\"id\":\"76d7c4fb-6867-4556-8ced-31f41fd89889\",\"type\":\"Grid\"},{\"attributes\":{\"label\":{\"field\":\"x\"},\"renderers\":[{\"id\":\"2aff171c-8fff-43d7-b7a5-8e038abae18f\",\"type\":\"GlyphRenderer\"}]},\"id\":\"355d7249-febc-4294-910c-bbdd1880a628\",\"type\":\"LegendItem\"},{\"attributes\":{\"factors\":[\"bot\",\"human\"],\"palette\":[\"#3288bd\",\"#99d594\",\"#e6f598\",\"#fee08b\",\"#fc8d59\",\"#d53e4f\"]},\"id\":\"b0fe6791-8e6c-4313-964d-210d0d96252c\",\"type\":\"CategoricalColorMapper\"},{\"attributes\":{\"active_drag\":\"auto\",\"active_inspect\":\"auto\",\"active_scroll\":\"auto\",\"active_tap\":\"auto\",\"tools\":[{\"id\":\"77c17c2d-c780-4ba0-92a6-0bfdd993b33e\",\"type\":\"PanTool\"},{\"id\":\"c95a2efb-0978-4299-aa26-f05b59353a6e\",\"type\":\"WheelZoomTool\"},{\"id\":\"5c3a924b-5798-40d6-98b6-f3294d45a266\",\"type\":\"BoxZoomTool\"},{\"id\":\"73e82f14-6a63-490e-8b74-9297a419532d\",\"type\":\"SaveTool\"},{\"id\":\"0d0393e9-ff3d-4aee-8826-0c060c4caf0d\",\"type\":\"ResetTool\"},{\"id\":\"03aecea8-f8b0-40da-9c26-8cd53c307326\",\"type\":\"HelpTool\"}]},\"id\":\"b9a2450e-3150-44b9-82b5-472f4c9e162e\",\"type\":\"Toolbar\"},{\"attributes\":{},\"id\":\"1b482572-d2db-41a7-a3a9-484be9217d6f\",\"type\":\"BasicTickFormatter\"},{\"attributes\":{},\"id\":\"c95a2efb-0978-4299-aa26-f05b59353a6e\",\"type\":\"WheelZoomTool\"},{\"attributes\":{\"below\":[{\"id\":\"dbc71e2b-0978-414d-afa0-95aaf2ff7784\",\"type\":\"CategoricalAxis\"}],\"left\":[{\"id\":\"463352a2-ab09-4c16-9f9e-1a9755dc70ed\",\"type\":\"LinearAxis\"}],\"plot_height\":350,\"renderers\":[{\"id\":\"dbc71e2b-0978-414d-afa0-95aaf2ff7784\",\"type\":\"CategoricalAxis\"},{\"id\":\"409a793d-d636-4eb1-8b8c-d6b8bf920440\",\"type\":\"Grid\"},{\"id\":\"463352a2-ab09-4c16-9f9e-1a9755dc70ed\",\"type\":\"LinearAxis\"},{\"id\":\"76d7c4fb-6867-4556-8ced-31f41fd89889\",\"type\":\"Grid\"},{\"id\":\"b4c56cbe-5085-44a2-b1c0-663818b21a97\",\"type\":\"BoxAnnotation\"},{\"id\":\"a11c4937-6e48-468e-985e-4fb842c25e69\",\"type\":\"Legend\"},{\"id\":\"2aff171c-8fff-43d7-b7a5-8e038abae18f\",\"type\":\"GlyphRenderer\"}],\"title\":{\"id\":\"e8743fc0-3dc3-4029-af78-dc0f74bee67f\",\"type\":\"Title\"},\"toolbar\":{\"id\":\"b9a2450e-3150-44b9-82b5-472f4c9e162e\",\"type\":\"Toolbar\"},\"toolbar_location\":null,\"x_range\":{\"id\":\"67f9e1bb-c2f0-4b10-a31d-9fd798d149c5\",\"type\":\"FactorRange\"},\"x_scale\":{\"id\":\"359bf6a5-633b-4213-9aad-d68f009e7f04\",\"type\":\"CategoricalScale\"},\"y_range\":{\"id\":\"97964daf-011e-4558-b53d-00b5a3a853ea\",\"type\":\"DataRange1d\"},\"y_scale\":{\"id\":\"5512c559-3ac8-4d05-93b7-e1722859f87a\",\"type\":\"LinearScale\"}},\"id\":\"5c192095-f684-4768-ad92-7974472aaa05\",\"subtype\":\"Figure\",\"type\":\"Plot\"},{\"attributes\":{},\"id\":\"ae3688ac-6808-47f8-b99a-fe7d68cbbb7f\",\"type\":\"CategoricalTickFormatter\"},{\"attributes\":{},\"id\":\"7c6c7d80-4865-477f-87f8-3167a0e5a742\",\"type\":\"BasicTicker\"},{\"attributes\":{\"fill_alpha\":{\"value\":0.1},\"fill_color\":{\"value\":\"#1f77b4\"},\"line_alpha\":{\"value\":0.1},\"line_color\":{\"value\":\"#1f77b4\"},\"top\":{\"field\":\"y\"},\"width\":{\"value\":0.9},\"x\":{\"field\":\"x\"}},\"id\":\"89003a59-728f-4a7c-9b76-4edfa14dac99\",\"type\":\"VBar\"},{\"attributes\":{},\"id\":\"73e82f14-6a63-490e-8b74-9297a419532d\",\"type\":\"SaveTool\"},{\"attributes\":{\"overlay\":{\"id\":\"b4c56cbe-5085-44a2-b1c0-663818b21a97\",\"type\":\"BoxAnnotation\"}},\"id\":\"5c3a924b-5798-40d6-98b6-f3294d45a266\",\"type\":\"BoxZoomTool\"},{\"attributes\":{\"fill_color\":{\"field\":\"x\",\"transform\":{\"id\":\"b0fe6791-8e6c-4313-964d-210d0d96252c\",\"type\":\"CategoricalColorMapper\"}},\"line_color\":{\"value\":\"white\"},\"top\":{\"field\":\"y\"},\"width\":{\"value\":0.9},\"x\":{\"field\":\"x\"}},\"id\":\"936d919e-c17c-4469-847e-cd8812e8c45c\",\"type\":\"VBar\"},{\"attributes\":{\"formatter\":{\"id\":\"1b482572-d2db-41a7-a3a9-484be9217d6f\",\"type\":\"BasicTickFormatter\"},\"plot\":{\"id\":\"5c192095-f684-4768-ad92-7974472aaa05\",\"subtype\":\"Figure\",\"type\":\"Plot\"},\"ticker\":{\"id\":\"7c6c7d80-4865-477f-87f8-3167a0e5a742\",\"type\":\"BasicTicker\"}},\"id\":\"463352a2-ab09-4c16-9f9e-1a9755dc70ed\",\"type\":\"LinearAxis\"}],\"root_ids\":[\"5c192095-f684-4768-ad92-7974472aaa05\"]},\"title\":\"Bokeh Application\",\"version\":\"0.12.10\"}};\n",
       "    var render_items = [{\"docid\":\"ce3e5927-1571-4b1c-9bf5-761f0789b1af\",\"elementid\":\"338a1adb-c186-478c-ae81-f510865c23b3\",\"modelid\":\"5c192095-f684-4768-ad92-7974472aaa05\",\"notebook_comms_target\":\"d3d43411-b9e2-4f36-9aa3-ea28606534c7\"}];\n",
       "\n",
       "    root.Bokeh.embed.embed_items(docs_json, render_items);\n",
       "  }\n",
       "\n",
       "  if (root.Bokeh !== undefined) {\n",
       "    embed_document(root);\n",
       "  } else {\n",
       "    var attempts = 0;\n",
       "    var timer = setInterval(function(root) {\n",
       "      if (root.Bokeh !== undefined) {\n",
       "        embed_document(root);\n",
       "        clearInterval(timer);\n",
       "      }\n",
       "      attempts++;\n",
       "      if (attempts > 100) {\n",
       "        console.log(\"Bokeh: ERROR: Unable to embed document because BokehJS library is missing\")\n",
       "        clearInterval(timer);\n",
       "      }\n",
       "    }, 10, root)\n",
       "  }\n",
       "})(window);"
      ],
      "application/vnd.bokehjs_exec.v0+json": ""
     },
     "metadata": {
      "application/vnd.bokehjs_exec.v0+json": {
       "id": "5c192095-f684-4768-ad92-7974472aaa05"
      }
     },
     "output_type": "display_data"
    }
   ],
   "source": [
    "#Answer: create the plot in bokeh\n",
    "\n",
    "from bokeh.io import push_notebook, show, output_notebook\n",
    "from bokeh.plotting import figure\n",
    "from bokeh.models import ColumnDataSource, Range1d\n",
    "import time\n",
    "from bokeh.transform import factor_cmap\n",
    "from bokeh.palettes import Spectral6\n",
    "\n",
    "output_notebook()\n",
    "\n",
    "x=['bot', 'human' ]\n",
    "y=[0, 0]\n",
    "source = ColumnDataSource(data=dict(x=x, y=y))\n",
    "\n",
    "p = figure(x_range=x, plot_height=350, toolbar_location=None, title=\"Bot Counts\")\n",
    "p.vbar(x='x', top='y', width=0.9, source=source, legend=\"x\",\n",
    "       line_color='white', fill_color=factor_cmap('x', palette=Spectral6, factors=x))\n",
    "\n",
    "handle=show(p, notebook_handle=True)\n",
    "\n",
    "consumer = client.topics[('wiki-plot-bot-' + username).encode()].get_simple_consumer()\n",
    "\n",
    "try:\n",
    "    for message in consumer:\n",
    "        if message is not None:\n",
    "            \n",
    "            n, c = message.value.decode().split(\",\")\n",
    "            if n == 'bot':\n",
    "                y[0] = int(c)\n",
    "            else:\n",
    "                y[1] = int(c) \n",
    "                \n",
    "            source.data = dict(x=x, y=y)\n",
    "            push_notebook(handle=handle)\n",
    "            time.sleep(1)\n",
    "except KeyboardInterrupt:\n",
    "    print(\"Consumer interrupted.\")"
   ]
  },
  {
   "cell_type": "code",
   "execution_count": null,
   "metadata": {},
   "outputs": [],
   "source": [
    "#Answer: stop the stream context, and release the spark context to free resources. Remember to stop the kernel\n",
    "ssc.stop(stopSparkContext=True, stopGraceFully=True)"
   ]
  },
  {
   "cell_type": "code",
   "execution_count": null,
   "metadata": {
    "collapsed": true
   },
   "outputs": [],
   "source": [
    "sc.stop()"
   ]
  },
  {
   "cell_type": "code",
   "execution_count": null,
   "metadata": {
    "collapsed": true
   },
   "outputs": [],
   "source": []
  }
 ],
 "metadata": {
  "kernelspec": {
   "display_name": "Python 3",
   "language": "python",
   "name": "python3"
  },
  "language_info": {
   "codemirror_mode": {
    "name": "ipython",
    "version": 3
   },
   "file_extension": ".py",
   "mimetype": "text/x-python",
   "name": "python",
   "nbconvert_exporter": "python",
   "pygments_lexer": "ipython3",
   "version": "3.6.3"
  }
 },
 "nbformat": 4,
 "nbformat_minor": 2
}
